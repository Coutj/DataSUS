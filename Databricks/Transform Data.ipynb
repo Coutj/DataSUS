{
 "cells": [
  {
   "cell_type": "markdown",
   "metadata": {
    "application/vnd.databricks.v1+cell": {
     "cellMetadata": {
      "byteLimit": 2048000,
      "rowLimit": 10000
     },
     "inputWidgets": {},
     "nuid": "748533bb-2aa9-4b48-a263-a4dba2e52d2a",
     "showTitle": false,
     "title": ""
    }
   },
   "source": [
    "\n",
    "#OBJETIVO\n",
    "\n",
    "O objetivo principal desse notebook é transformar os dados brutos do datasus.\n",
    "\n",
    "_The primary objective of this notebook is to transform the DATASUS SIM raw data._"
   ]
  },
  {
   "cell_type": "markdown",
   "metadata": {
    "application/vnd.databricks.v1+cell": {
     "cellMetadata": {
      "byteLimit": 2048000,
      "rowLimit": 10000
     },
     "inputWidgets": {},
     "nuid": "3fd5463e-9699-464c-912e-689c47c3ff23",
     "showTitle": false,
     "title": ""
    },
    "jupyter": {
     "outputs_hidden": true
    }
   },
   "source": [
    "\n",
    "#Conectando ao ADLS Gen2\n",
    "\n",
    "O Azure Key Vault foi utilizado como repositório para o token SAS do container ADLS datasus-data. Para realizar o acesso ao container, foi necessário configurar o Databricks Secret Scopes.\n",
    "\n",
    "_Azure Key Vault served as the repository for the datadus-data ADLS container's SAS token. Databricks secret scopes were employed to get the SAS token and retrieve the raw data._\n"
   ]
  },
  {
   "cell_type": "code",
   "execution_count": 0,
   "metadata": {
    "application/vnd.databricks.v1+cell": {
     "cellMetadata": {
      "byteLimit": 2048000,
      "rowLimit": 10000
     },
     "inputWidgets": {},
     "nuid": "0f4a54c3-7adb-4bf3-bf6d-fa2fcb8f14b4",
     "showTitle": false,
     "title": ""
    }
   },
   "outputs": [],
   "source": [
    "storage_account = 'coutjdatasusstorage'\n",
    "container_name = 'datasus-data'\n",
    "\n",
    "spark.conf.set(f\"fs.azure.account.auth.type.{storage_account}.dfs.core.windows.net\", \"SAS\")\n",
    "spark.conf.set(f\"fs.azure.sas.token.provider.type.{storage_account}.dfs.core.windows.net\", \"org.apache.hadoop.fs.azurebfs.sas.FixedSASTokenProvider\")\n",
    "spark.conf.set(f\"fs.azure.sas.fixed.token.{storage_account}.dfs.core.windows.net\", dbutils.secrets.get(scope=\"adls_secrete\", key=\"databricks-sas\"))\n",
    "# dbutils.secrets.list(\"adls_secrete\")\n",
    "\n",
    "conn_string = f\"abfss://{container_name}@{storage_account}.dfs.core.windows.net/raw\"\n",
    "\n",
    "# dbutils.fs.ls(f\"abfss://{container_name}@{storage_account}.dfs.core.windows.net//trusted\")\n"
   ]
  },
  {
   "cell_type": "code",
   "execution_count": 0,
   "metadata": {
    "application/vnd.databricks.v1+cell": {
     "cellMetadata": {
      "byteLimit": 2048000,
      "rowLimit": 10000
     },
     "inputWidgets": {},
     "nuid": "e9350bc5-ff65-4cd6-a0f6-8f2fb4fc7381",
     "showTitle": false,
     "title": ""
    }
   },
   "outputs": [],
   "source": [
    "#Importing libs\n",
    "\n",
    "import pyspark.sql.functions as f\n",
    "from datetime import datetime\n",
    "from pyspark.sql.types import TimestampType\n",
    "from dateutil.relativedelta import relativedelta\n",
    "from pathlib import Path\n",
    "from pyspark.sql.types import StructType, StructField, StringType, DecimalType, TimestampType, DateType, IntegerType"
   ]
  },
  {
   "cell_type": "code",
   "execution_count": 0,
   "metadata": {
    "application/vnd.databricks.v1+cell": {
     "cellMetadata": {
      "byteLimit": 2048000,
      "rowLimit": 10000
     },
     "inputWidgets": {},
     "nuid": "0d54d508-423a-4416-b4e5-fe2fa33d1f30",
     "showTitle": false,
     "title": ""
    }
   },
   "outputs": [
    {
     "output_type": "stream",
     "name": "stdout",
     "output_type": "stream",
     "text": [
      "DOSP2015.parquet\n"
     ]
    }
   ],
   "source": [
    "#READING datasus raw data parquet\n",
    "\n",
    "# dbutils.fs.ls(conn_string)\n",
    "dbutils.widgets.text(\"dir_name\", \"\", \"Enter dir_name\")\n",
    "dir_name = dbutils.widgets.get('dir_name') or 'DORJ2020.parquet'\n",
    "print(dir_name)\n",
    "df_datasus = spark.read.parquet(f\"{conn_string}/{dir_name}\")"
   ]
  },
  {
   "cell_type": "markdown",
   "metadata": {
    "application/vnd.databricks.v1+cell": {
     "cellMetadata": {
      "byteLimit": 2048000,
      "rowLimit": 10000
     },
     "inputWidgets": {},
     "nuid": "040a8101-71c6-48a9-8acb-ec6122c23ac3",
     "showTitle": false,
     "title": ""
    }
   },
   "source": [
    "####TIPOBITO\n",
    "\n",
    "Tipo do óbito\n",
    "\n",
    "_Type of death_\n",
    "\n",
    "TIPOBITO:\n",
    "  * 1: óbito fetal\n",
    "  * 2: óbito não fetal"
   ]
  },
  {
   "cell_type": "code",
   "execution_count": 0,
   "metadata": {
    "application/vnd.databricks.v1+cell": {
     "cellMetadata": {
      "byteLimit": 2048000,
      "rowLimit": 10000
     },
     "inputWidgets": {},
     "nuid": "81998a61-e031-4a1b-a77b-1059d6e8097d",
     "showTitle": false,
     "title": ""
    }
   },
   "outputs": [],
   "source": [
    "df_datasus = df_datasus.withColumn('TIPOBITO', f.when(df_datasus.TIPOBITO == \"1\", 'FETAL')\n",
    "                                 .otherwise('NAO FETAL')\n",
    "                                 )\n",
    "\n"
   ]
  },
  {
   "cell_type": "markdown",
   "metadata": {
    "application/vnd.databricks.v1+cell": {
     "cellMetadata": {
      "byteLimit": 2048000,
      "rowLimit": 10000
     },
     "inputWidgets": {},
     "nuid": "41b226fa-aa23-4ca8-894f-ce9b60dc2e80",
     "showTitle": false,
     "title": ""
    }
   },
   "source": [
    "#####DTHORAOBITO\n",
    "\n",
    "Data e hora do óbito, obtido a partir das colunas DTOBITO e HORAOBITO\n",
    "\n",
    "_Date and time of death, obtained from the columns DTOBITO and HORAOBITO._\n"
   ]
  },
  {
   "cell_type": "code",
   "execution_count": 0,
   "metadata": {
    "application/vnd.databricks.v1+cell": {
     "cellMetadata": {
      "byteLimit": 2048000,
      "rowLimit": 10000
     },
     "inputWidgets": {},
     "nuid": "279b7889-9e2a-44ff-a759-24835cb5bde4",
     "showTitle": false,
     "title": ""
    }
   },
   "outputs": [],
   "source": [
    "@udf(TimestampType())\n",
    "def transform_data_hora(data, hora):\n",
    "    \n",
    "    data = data.strip()\n",
    "    hora = hora.strip()\n",
    "\n",
    "    try:\n",
    "        if len(data) == 8 and len(hora) != 4:\n",
    "            return  datetime.strptime(data, '%d%m%Y')\n",
    "        elif len(data) == 8 and len(hora) == 4:\n",
    "            data_hora = f\"{data} {hora}\"\n",
    "            return datetime.strptime(data_hora, '%d%m%Y %H%M')\n",
    "        else:\n",
    "            return None\n",
    "    except:\n",
    "        return None\n",
    "\n",
    "\n",
    "df_datasus = df_datasus.withColumn('DTHORAOBITO', transform_data_hora(df_datasus.DTOBITO, df_datasus.HORAOBITO))\n",
    "df_datasus = df_datasus.drop(df_datasus.DTOBITO)\n",
    "df_datasus = df_datasus.drop(df_datasus.HORAOBITO)"
   ]
  },
  {
   "cell_type": "markdown",
   "metadata": {
    "application/vnd.databricks.v1+cell": {
     "cellMetadata": {
      "byteLimit": 2048000,
      "rowLimit": 10000
     },
     "inputWidgets": {},
     "nuid": "907bef5b-25a4-4ea5-ab43-a2337adad01e",
     "showTitle": false,
     "title": ""
    }
   },
   "source": [
    "#####UFNATU e NOMEMUNNATU\n",
    "\n",
    "SIGLA da UF e município de naturalidade do falecido.\n",
    "\n",
    "_Abbreviation of the state (UF) and municipality of the deceased's place of birth._"
   ]
  },
  {
   "cell_type": "code",
   "execution_count": 0,
   "metadata": {
    "application/vnd.databricks.v1+cell": {
     "cellMetadata": {
      "byteLimit": 2048000,
      "rowLimit": 10000
     },
     "inputWidgets": {},
     "nuid": "e04351b7-f191-4c59-8e65-3bb5ed97c77d",
     "showTitle": false,
     "title": ""
    }
   },
   "outputs": [],
   "source": [
    "#retrieve files with city's names and codes\n",
    "\n",
    "df_uf_municipio = spark.read.csv(f\"{conn_string}/Utils/municipios.csv\", header=True)\n",
    "df_uf_municipio.createOrReplaceTempView('uf_codes')\n",
    "\n",
    "df_uf_codes = spark.sql('''\n",
    "                SELECT DISTINCT uf, uf_code, substring(municipio, 1, 6) as municipio, name from uf_codes\n",
    "                ORDER BY uf_code, municipio\n",
    "          ''')"
   ]
  },
  {
   "cell_type": "code",
   "execution_count": 0,
   "metadata": {
    "application/vnd.databricks.v1+cell": {
     "cellMetadata": {
      "byteLimit": 2048000,
      "rowLimit": 10000
     },
     "inputWidgets": {},
     "nuid": "b8fd3bd1-46e6-408d-aa00-98fa4400f9f2",
     "showTitle": false,
     "title": ""
    }
   },
   "outputs": [],
   "source": [
    "df_datasus.createOrReplaceTempView('susdata')\n",
    "df_uf_codes.createOrReplaceTempView('uf_codes')\n",
    "\n",
    "df_datasus = spark.sql(\n",
    "    \"\"\"\n",
    "        with municipio_uf as (\n",
    "            select municipio, name, uf_code, uf from uf_codes\n",
    "            where trim(municipio) <> ''\n",
    "        )\n",
    "\n",
    "        select susdata.*, municipio_uf.uf_code AS UFNATU, municipio_uf.name AS NOMEMUNNATU from susdata\n",
    "        LEFT JOIN municipio_uf\n",
    "        ON susdata.CODMUNNATU = CAST(municipio_uf.municipio AS NUMERIC)\n",
    "    \"\"\"\n",
    "\n",
    ")"
   ]
  },
  {
   "cell_type": "markdown",
   "metadata": {
    "application/vnd.databricks.v1+cell": {
     "cellMetadata": {
      "byteLimit": 2048000,
      "rowLimit": 10000
     },
     "inputWidgets": {},
     "nuid": "ee419eb2-4c13-4de0-ab66-9dd08401801f",
     "showTitle": false,
     "title": ""
    }
   },
   "source": [
    "\n",
    "#####DTNASC e IDADE\n",
    "\n",
    "Data de nascimento e idade do falecido.\n",
    "\n",
    "_Date of birth and age of the deceased._"
   ]
  },
  {
   "cell_type": "code",
   "execution_count": 0,
   "metadata": {
    "application/vnd.databricks.v1+cell": {
     "cellMetadata": {
      "byteLimit": 2048000,
      "rowLimit": 10000
     },
     "inputWidgets": {},
     "nuid": "29deee4d-e6ff-4d59-9d43-fc0af1206b2d",
     "showTitle": false,
     "title": ""
    }
   },
   "outputs": [],
   "source": [
    "df_datasus = df_datasus.withColumn('DTNASC', f.to_date(df_datasus.DTNASC, 'ddMMyyyy'))\n",
    "df_datasus = df_datasus.withColumn('IDADE', f.round(f.months_between(df_datasus.DTHORAOBITO, df_datasus.DTNASC)/12, 1))"
   ]
  },
  {
   "cell_type": "markdown",
   "metadata": {
    "application/vnd.databricks.v1+cell": {
     "cellMetadata": {
      "byteLimit": 2048000,
      "rowLimit": 10000
     },
     "inputWidgets": {},
     "nuid": "d4d994da-1100-4122-82b2-20af2302d362",
     "showTitle": false,
     "title": ""
    }
   },
   "source": [
    "\n",
    "#####SEXO\n",
    "\n",
    "Sexo do falecido.\n",
    "\n",
    "_Deceased's gender._\n",
    "\n",
    "SEXO: \n",
    "  * 0: Ignorado\n",
    "  * 1: Masculino\n",
    "  * 2: Feminino"
   ]
  },
  {
   "cell_type": "code",
   "execution_count": 0,
   "metadata": {
    "application/vnd.databricks.v1+cell": {
     "cellMetadata": {
      "byteLimit": 2048000,
      "rowLimit": 10000
     },
     "inputWidgets": {},
     "nuid": "4ad6f4c2-3b5c-4d2a-a383-286aaebfe401",
     "showTitle": false,
     "title": ""
    }
   },
   "outputs": [],
   "source": [
    "df_datasus.createOrReplaceTempView('susdata')\n",
    "\n",
    "df_datasus = df_datasus.withColumn('SEXO', f.when(f.col('SEXO') == 1, \"M\")\n",
    "                                    .when(f.col('SEXO') == 2, 'F')\n",
    "                                    .otherwise('IGNORADO')\n",
    "            )\n"
   ]
  },
  {
   "cell_type": "markdown",
   "metadata": {
    "application/vnd.databricks.v1+cell": {
     "cellMetadata": {
      "byteLimit": 2048000,
      "rowLimit": 10000
     },
     "inputWidgets": {},
     "nuid": "f22af706-08bc-4020-bab8-d699be4cbce6",
     "showTitle": false,
     "title": ""
    }
   },
   "source": [
    "#####RACACOR\n",
    "\n",
    "Raça/Cor\n",
    "\n",
    "_ethnicity_\n",
    "\n",
    "RACACOR:\n",
    "  * 1: Branca\n",
    "  * 2: Preta\n",
    "  * 3: Amarela\n",
    "  * 4: Parda\n",
    "  * 5: Indígena\n",
    "  * -: Não Declarado"
   ]
  },
  {
   "cell_type": "code",
   "execution_count": 0,
   "metadata": {
    "application/vnd.databricks.v1+cell": {
     "cellMetadata": {
      "byteLimit": 2048000,
      "rowLimit": 10000
     },
     "inputWidgets": {},
     "nuid": "0cf69bce-23eb-40ab-bd31-15873832fb96",
     "showTitle": false,
     "title": ""
    }
   },
   "outputs": [],
   "source": [
    "df_datasus = df_datasus.withColumn('RACACOR', f.when(f.col('RACACOR') == 1, 'BRANCA')\n",
    "                                        .when(f.col('RACACOR') == 2, 'PRETA')\n",
    "                                        .when(f.col('RACACOR') == 3, 'AMARELA')\n",
    "                                        .when(f.col('RACACOR') == 4, 'PARDA')\n",
    "                                        .when(f.col('RACACOR') == 5, 'INDIGENA')\n",
    "                                        .otherwise('NAO DECLARADO')\n",
    "                )"
   ]
  },
  {
   "cell_type": "markdown",
   "metadata": {
    "application/vnd.databricks.v1+cell": {
     "cellMetadata": {
      "byteLimit": 2048000,
      "rowLimit": 10000
     },
     "inputWidgets": {},
     "nuid": "4b868742-546f-4c30-a7fb-269fd9d6365e",
     "showTitle": false,
     "title": ""
    }
   },
   "source": [
    "#####ESTCIV\n",
    "\n",
    "Estado civíl.\n",
    "\n",
    "_Marital status_.\n",
    "\n",
    "ESTCIV:\n",
    "  * 1: Solteiro\n",
    "  * 2: Casado\n",
    "  * 3: Viúvo\n",
    "  * 4: Separado judicialmente\n",
    "  * 5: União consensual (versões anteriores)\n",
    "  * 9: Ignorado"
   ]
  },
  {
   "cell_type": "code",
   "execution_count": 0,
   "metadata": {
    "application/vnd.databricks.v1+cell": {
     "cellMetadata": {
      "byteLimit": 2048000,
      "rowLimit": 10000
     },
     "inputWidgets": {},
     "nuid": "1bd61bc8-fc78-4143-a533-b4abb5977bc9",
     "showTitle": false,
     "title": ""
    }
   },
   "outputs": [],
   "source": [
    "df_datasus = df_datasus.withColumn('ESTCIV', f.when(df_datasus.ESTCIV == 1, 'SOLTEIRO')\n",
    "                                        .when(df_datasus.ESTCIV == 2, 'CASADO')\n",
    "                                        .when(df_datasus.ESTCIV == 3, 'VIUVO')\n",
    "                                        .when(df_datasus.ESTCIV == 4, 'SEPARADO')\n",
    "                                        .when(df_datasus.ESTCIV == 5, 'UNIAO ESTAVEL')\n",
    "                                        .otherwise('IGNORADO')\n",
    "                )"
   ]
  },
  {
   "cell_type": "markdown",
   "metadata": {
    "application/vnd.databricks.v1+cell": {
     "cellMetadata": {
      "byteLimit": 2048000,
      "rowLimit": 10000
     },
     "inputWidgets": {},
     "nuid": "3611b2a6-6910-44b6-997e-052528daaab3",
     "showTitle": false,
     "title": ""
    }
   },
   "source": [
    "\n",
    "##### ESC2010\n",
    "\n",
    "Escolaridade.\n",
    "\n",
    "_Educational level_.\n",
    "\n",
    "ESC2010:\n",
    "  0 – Sem escolaridade\n",
    "  * 1 – FundamentalI (1a a 4a série)\n",
    "  * 2 – Fundamental II (5a a 8a série)\n",
    "  * 3 – Médio(antigo 2o Grau)\n",
    "  * 4 – Superior incompleto\n",
    "  * 5 – Superior completo\n",
    "  * 9– Ignorado."
   ]
  },
  {
   "cell_type": "code",
   "execution_count": 0,
   "metadata": {
    "application/vnd.databricks.v1+cell": {
     "cellMetadata": {
      "byteLimit": 2048000,
      "rowLimit": 10000
     },
     "inputWidgets": {},
     "nuid": "256a1d45-8575-46ec-bd5f-6b54809760ca",
     "showTitle": false,
     "title": ""
    }
   },
   "outputs": [],
   "source": [
    "df_datasus = df_datasus.withColumn('ESC2010', f.when(df_datasus.ESC2010 == 0, 'SEM ESCOLARIDADE')\n",
    "                                        .when(df_datasus.ESC2010 == 1, 'FUNDAMENTAL I')\n",
    "                                        .when(df_datasus.ESC2010 == 2, 'FUNDAMENTAL II')\n",
    "                                        .when(df_datasus.ESC2010 == 3, 'MEDIO')\n",
    "                                        .when(df_datasus.ESC2010 == 4, 'SUPERIOR INCOMPLETO')\n",
    "                                        .when(df_datasus.ESC2010 == 5, 'SUPERIOR COMPLETO')\n",
    "                                        .otherwise('IGNORADO')\n",
    "                )"
   ]
  },
  {
   "cell_type": "markdown",
   "metadata": {
    "application/vnd.databricks.v1+cell": {
     "cellMetadata": {
      "byteLimit": 2048000,
      "rowLimit": 10000
     },
     "inputWidgets": {},
     "nuid": "f9386a02-e7b6-418d-8d1b-83655129b28c",
     "showTitle": false,
     "title": ""
    }
   },
   "source": [
    "\n",
    "#####OCUP\n",
    "\n",
    "Ocupação\n",
    "\n",
    "_Occupattion_"
   ]
  },
  {
   "cell_type": "code",
   "execution_count": 0,
   "metadata": {
    "application/vnd.databricks.v1+cell": {
     "cellMetadata": {
      "byteLimit": 2048000,
      "rowLimit": 10000
     },
     "inputWidgets": {},
     "nuid": "35557285-1a72-409c-a37d-9d2be71e5366",
     "showTitle": false,
     "title": ""
    }
   },
   "outputs": [],
   "source": [
    "#retrieve file with occupation's names and codes\n",
    "\n",
    "\n",
    "df_ocupacoes = spark.read.csv(\n",
    "                                f\"{conn_string}/Utils/CBO2002 - Ocupacao.csv\",\n",
    "                                header=True, \n",
    "                                encoding='ISO-8859-1',\n",
    "                                sep=';'\n",
    "                            )"
   ]
  },
  {
   "cell_type": "code",
   "execution_count": 0,
   "metadata": {
    "application/vnd.databricks.v1+cell": {
     "cellMetadata": {
      "byteLimit": 2048000,
      "rowLimit": 10000
     },
     "inputWidgets": {},
     "nuid": "01aec04f-9a75-4d17-ba4e-d3d31be17fa8",
     "showTitle": false,
     "title": ""
    }
   },
   "outputs": [],
   "source": [
    "df_ocupacoes.createOrReplaceTempView('ocupacoes')\n",
    "df_datasus.createOrReplaceTempView('susdata')\n",
    "\n",
    "df_datasus = spark.sql(\n",
    "    \"\"\"\n",
    "        SELECT susdata.*, ocupacoes.TITULO as OCUPTITULO FROM susdata\n",
    "        LEFT JOIN ocupacoes\n",
    "        WHERE susdata.OCUP = ocupacoes.CODIGO\n",
    "    \"\"\"\n",
    ")"
   ]
  },
  {
   "cell_type": "markdown",
   "metadata": {
    "application/vnd.databricks.v1+cell": {
     "cellMetadata": {
      "byteLimit": 2048000,
      "rowLimit": 10000
     },
     "inputWidgets": {},
     "nuid": "c17c9322-6421-4d9d-8fbc-d6b82d6b1b05",
     "showTitle": false,
     "title": ""
    }
   },
   "source": [
    "\n",
    "#####NOMEMUNRES e UFRES\n",
    "\n",
    "Nome do município e UF de residência.\n",
    "\n",
    "_City name and state (UF) of residence._"
   ]
  },
  {
   "cell_type": "code",
   "execution_count": 0,
   "metadata": {
    "application/vnd.databricks.v1+cell": {
     "cellMetadata": {
      "byteLimit": 2048000,
      "rowLimit": 10000
     },
     "inputWidgets": {},
     "nuid": "608019e7-2606-44ff-9c98-4bd0b015f682",
     "showTitle": false,
     "title": ""
    }
   },
   "outputs": [],
   "source": [
    "df_datasus.createOrReplaceTempView('susdata')\n",
    "df_uf_codes.createOrReplaceTempView('uf_codes')\n",
    "\n",
    "\n",
    "df_datasus = spark.sql(\"\"\"\n",
    "                SELECT susdata.*, uf_codes.uf_code AS UFRES, uf_codes.name AS NOMEMUNRES FROM susdata\n",
    "                LEFT JOIN uf_codes\n",
    "                ON CAST(uf_codes.municipio AS NUMERIC) = susdata.CODMUNRES\n",
    "          \"\"\")"
   ]
  },
  {
   "cell_type": "markdown",
   "metadata": {
    "application/vnd.databricks.v1+cell": {
     "cellMetadata": {
      "byteLimit": 2048000,
      "rowLimit": 10000
     },
     "inputWidgets": {},
     "nuid": "e6600d75-2f15-493f-a678-322661b5ec95",
     "showTitle": false,
     "title": ""
    }
   },
   "source": [
    "\n",
    "#####LOCOCOR\n",
    "\n",
    "Local de ocorrência do óbito.\n",
    "\n",
    "_Place of death occurrence._\n",
    "\n",
    "Lococor:\n",
    "  * 1: Hospital\n",
    "  * 2: Outors estabelecimentos de saude\n",
    "  * 3: Domicilio\n",
    "  * 4: Via Publica\n",
    "  * 5: Outros\n",
    "  * 6: Aldeia Indigena\n",
    "  * -: Ignorado"
   ]
  },
  {
   "cell_type": "code",
   "execution_count": 0,
   "metadata": {
    "application/vnd.databricks.v1+cell": {
     "cellMetadata": {
      "byteLimit": 2048000,
      "rowLimit": 10000
     },
     "inputWidgets": {},
     "nuid": "02e8b3bf-7125-4f64-8a48-40f890aaa3a4",
     "showTitle": false,
     "title": ""
    }
   },
   "outputs": [],
   "source": [
    "df_datasus = df_datasus.withColumn('LOCOCOR', f.when(df_datasus.LOCOCOR == 1, 'HOSPITAL')\n",
    "                                        .when(df_datasus.LOCOCOR == 2, 'OUTROS ESTABELICIMENTOS DE SAUDE')\n",
    "                                        .when(df_datasus.LOCOCOR == 3, 'DOMICILIO')\n",
    "                                        .when(df_datasus.LOCOCOR == 4, 'VIA PUBLICA')\n",
    "                                        .when(df_datasus.LOCOCOR == 5, 'OUTROS')\n",
    "                                        .when(df_datasus.LOCOCOR == 6, 'ALDEIA INDIGENA')\n",
    "                                        .otherwise('IGNORADO')                        \n",
    "                )"
   ]
  },
  {
   "cell_type": "markdown",
   "metadata": {
    "application/vnd.databricks.v1+cell": {
     "cellMetadata": {
      "byteLimit": 2048000,
      "rowLimit": 10000
     },
     "inputWidgets": {},
     "nuid": "201a2dd9-aa9a-44b0-8667-2e48e18af864",
     "showTitle": false,
     "title": ""
    }
   },
   "source": [
    "#####CODMUNOCOR\n",
    "\n",
    "Código do município de ocorrência.\n",
    "\n",
    "_City of occurrence code._\n"
   ]
  },
  {
   "cell_type": "code",
   "execution_count": 0,
   "metadata": {
    "application/vnd.databricks.v1+cell": {
     "cellMetadata": {
      "byteLimit": 2048000,
      "rowLimit": 10000
     },
     "inputWidgets": {},
     "nuid": "798e04b4-9529-48f3-8ceb-d8491c8d7e11",
     "showTitle": false,
     "title": ""
    }
   },
   "outputs": [],
   "source": [
    "df_datasus.createOrReplaceTempView('susdata')\n",
    "df_uf_codes.createOrReplaceTempView('uf_codes')\n",
    "\n",
    "\n",
    "df_datasus= spark.sql(\"\"\"\n",
    "                SELECT susdata.*, uf_codes.uf_code AS UFMUNOCOR, uf_codes.name AS NOMEMUNOCOR FROM susdata\n",
    "                LEFT JOIN uf_codes\n",
    "                ON CAST(uf_codes.municipio AS NUMERIC) = susdata.CODMUNOCOR\n",
    "          \"\"\")"
   ]
  },
  {
   "cell_type": "markdown",
   "metadata": {
    "application/vnd.databricks.v1+cell": {
     "cellMetadata": {
      "byteLimit": 2048000,
      "rowLimit": 10000
     },
     "inputWidgets": {},
     "nuid": "036ffffe-b7d1-4f30-8d29-206d257777a8",
     "showTitle": false,
     "title": ""
    }
   },
   "source": [
    "\n",
    "#####ASSISTMED\n",
    "\n",
    "Indica se houve assistência médica.\n",
    "\n",
    "_Indicates whether medical assistance was provided._\n",
    "\n",
    "ASSISTMED:\n",
    "  * 9: Ignorado\n",
    "  * 1: Com assistência\n",
    "  * 2: Sem assistência"
   ]
  },
  {
   "cell_type": "code",
   "execution_count": 0,
   "metadata": {
    "application/vnd.databricks.v1+cell": {
     "cellMetadata": {
      "byteLimit": 2048000,
      "rowLimit": 10000
     },
     "inputWidgets": {},
     "nuid": "c59e8b92-d8b8-45b8-b8cc-000a0f51b730",
     "showTitle": false,
     "title": ""
    }
   },
   "outputs": [],
   "source": [
    "df_datasus = df_datasus.withColumn('ASSISTMED', f.when(df_datasus.ASSISTMED == '1', 'SIM')\n",
    "                                            .when(df_datasus.ASSISTMED == '2', 'NAO')\n",
    "                                            .otherwise('IGNORADO')\n",
    "                          )"
   ]
  },
  {
   "cell_type": "markdown",
   "metadata": {
    "application/vnd.databricks.v1+cell": {
     "cellMetadata": {
      "byteLimit": 2048000,
      "rowLimit": 10000
     },
     "inputWidgets": {},
     "nuid": "a245e3bf-f083-4d41-9e4c-b2db201c09a0",
     "showTitle": false,
     "title": ""
    }
   },
   "source": [
    "\n",
    "#####NECROPSIA\n",
    "\n",
    "Indica se houve necrópsia.\n",
    "\n",
    "_Indicates whether there was a necropsy_\n",
    "\n",
    "NECROPSIA:\n",
    "  * 9: Ignorado\n",
    "  * 1: Sim\n",
    "  * 2: Não"
   ]
  },
  {
   "cell_type": "code",
   "execution_count": 0,
   "metadata": {
    "application/vnd.databricks.v1+cell": {
     "cellMetadata": {
      "byteLimit": 2048000,
      "rowLimit": 10000
     },
     "inputWidgets": {},
     "nuid": "90d05cc5-44b0-442c-a042-fa1366dbe2b7",
     "showTitle": false,
     "title": ""
    }
   },
   "outputs": [],
   "source": [
    "df_datasus = df_datasus.withColumn('NECROPSIA', f.when(df_datasus.NECROPSIA == 1, 'SIM')\n",
    "                                        .when(df_datasus.NECROPSIA == 2, 'NAO')\n",
    "                                        .otherwise('IGNORADO')          \n",
    "                )"
   ]
  },
  {
   "cell_type": "markdown",
   "metadata": {
    "application/vnd.databricks.v1+cell": {
     "cellMetadata": {
      "byteLimit": 2048000,
      "rowLimit": 10000
     },
     "inputWidgets": {},
     "nuid": "14fd563a-8762-4f3a-bbfa-2c2880ce6059",
     "showTitle": false,
     "title": ""
    }
   },
   "source": [
    "#####CAUSABAS\n",
    "\n",
    "Causa básica, conforme a Classificação Internacional de Doença (CID), 10a. Revisão\n",
    "\n",
    "_Basic cause, according to the International Classification of Disease (ICD), 10a. Revision_"
   ]
  },
  {
   "cell_type": "code",
   "execution_count": 0,
   "metadata": {
    "application/vnd.databricks.v1+cell": {
     "cellMetadata": {
      "byteLimit": 2048000,
      "rowLimit": 10000
     },
     "inputWidgets": {},
     "nuid": "9a660f19-4ffe-4cb7-abee-c500e44a4aeb",
     "showTitle": false,
     "title": ""
    }
   },
   "outputs": [],
   "source": [
    "#retrieve files with disease's names and codes\n",
    "\n",
    "df_cid10_sub = spark.read.csv(\n",
    "                                f\"{conn_string}/Utils/CID-10-SUBCATEGORIAS.CSV\",\n",
    "                                header=True, \n",
    "                                encoding='ISO-8859-1',\n",
    "                                sep=';'\n",
    "                            )\n",
    "\n",
    "df_cid10_cat = spark.read.csv(\n",
    "                                f\"{conn_string}/Utils/CID-10-CATEGORIAS.CSV\",\n",
    "                                header=True, \n",
    "                                encoding='ISO-8859-1',\n",
    "                                sep=';'\n",
    "                            )\n",
    "\n",
    "df_cid10_sub = df_cid10_sub.select(df_cid10_sub.SUBCAT, df_cid10_sub.DESCRICAO)\n",
    "df_cid10_cat = df_cid10_cat.select(df_cid10_cat.CAT, df_cid10_cat.DESCRICAO)"
   ]
  },
  {
   "cell_type": "code",
   "execution_count": 0,
   "metadata": {
    "application/vnd.databricks.v1+cell": {
     "cellMetadata": {
      "byteLimit": 2048000,
      "rowLimit": 10000
     },
     "inputWidgets": {},
     "nuid": "b5e14f54-bfad-4f9c-a3fb-c873665ad306",
     "showTitle": false,
     "title": ""
    }
   },
   "outputs": [],
   "source": [
    "df_cid10_sub.createOrReplaceTempView('cid10_sub')\n",
    "df_datasus.createOrReplaceTempView('susdata')\n",
    "\n",
    "df_datasus = spark.sql(\n",
    "    \"\"\"\n",
    "        SELECT susdata.*, cid10_sub.DESCRICAO AS CAUSABASDESCSUBCAT FROM susdata\n",
    "        LEFT JOIN cid10_sub\n",
    "        ON susdata.CAUSABAS = cid10_sub.SUBCAT\n",
    "    \"\"\"\n",
    ")\n"
   ]
  },
  {
   "cell_type": "code",
   "execution_count": 0,
   "metadata": {
    "application/vnd.databricks.v1+cell": {
     "cellMetadata": {
      "byteLimit": 2048000,
      "rowLimit": 10000
     },
     "inputWidgets": {},
     "nuid": "f19728cb-6522-46ae-9a0b-be7b077cf93f",
     "showTitle": false,
     "title": ""
    }
   },
   "outputs": [],
   "source": [
    "df_cid10_cat.createOrReplaceTempView('cid10_cat')\n",
    "df_datasus.createOrReplaceTempView('susdata')\n",
    "\n",
    "df_datasus = spark.sql(\n",
    "    \"\"\"\n",
    "        SELECT susdata.*, cid10_cat.DESCRICAO AS CAUSABASDESCCAT FROM susdata\n",
    "        LEFT JOIN cid10_cat\n",
    "        ON SUBSTRING(susdata.CAUSABAS, 1, 3) = cid10_cat.CAT\n",
    "    \"\"\"\n",
    ")\n"
   ]
  },
  {
   "cell_type": "markdown",
   "metadata": {
    "application/vnd.databricks.v1+cell": {
     "cellMetadata": {
      "byteLimit": 2048000,
      "rowLimit": 10000
     },
     "inputWidgets": {},
     "nuid": "59b70438-5658-4fa4-a826-70e1fb9da75c",
     "showTitle": false,
     "title": ""
    }
   },
   "source": [
    "\n",
    "#####CIRCOBITO\n",
    "\n",
    "Indica o tipo de acidente.\n",
    "\n",
    "_Specifies the type of accident._"
   ]
  },
  {
   "cell_type": "code",
   "execution_count": 0,
   "metadata": {
    "application/vnd.databricks.v1+cell": {
     "cellMetadata": {
      "byteLimit": 2048000,
      "rowLimit": 10000
     },
     "inputWidgets": {},
     "nuid": "839c5933-0e3f-4776-bdf0-8e3cd98f6ec3",
     "showTitle": false,
     "title": ""
    }
   },
   "outputs": [],
   "source": [
    "df_datasus = df_datasus.withColumn('CIRCOBITO', f.when(df_datasus.CIRCOBITO == 1, 'ACIDENTE')\n",
    "                                            .when(df_datasus.CIRCOBITO == 2, 'SUICIDIO')\n",
    "                                            .when(df_datasus.CIRCOBITO == 3, 'HOMICIDIO')\n",
    "                                            .when(df_datasus.CIRCOBITO == 4, 'OUTROS')\n",
    "                                            .otherwise('IGNORADO')              \n",
    "            )"
   ]
  },
  {
   "cell_type": "markdown",
   "metadata": {
    "application/vnd.databricks.v1+cell": {
     "cellMetadata": {
      "byteLimit": 2048000,
      "rowLimit": 10000
     },
     "inputWidgets": {},
     "nuid": "fc74bd66-39e7-469d-9154-83d42fd9843b",
     "showTitle": false,
     "title": ""
    }
   },
   "source": [
    "\n",
    "#####ACIDTRAB\n",
    "\n",
    "Indica se foi acidente de trabalho.\n",
    "\n",
    "_Specifies whether it was a work-related accident._\n",
    "\n",
    "ACIDTRAB:\n",
    "  * 9: Ignorado\n",
    "  * 1: Sim\n",
    "  * 2: Não"
   ]
  },
  {
   "cell_type": "code",
   "execution_count": 0,
   "metadata": {
    "application/vnd.databricks.v1+cell": {
     "cellMetadata": {
      "byteLimit": 2048000,
      "rowLimit": 10000
     },
     "inputWidgets": {},
     "nuid": "40594a3a-cfcc-4e4a-806d-f7716b0c58c6",
     "showTitle": false,
     "title": ""
    }
   },
   "outputs": [],
   "source": [
    "df_datasus = df_datasus.withColumn('ACIDTRAB', f.when(df_datasus.ACIDTRAB == 1, 'SIM')\n",
    "                                        .when(df_datasus.ACIDTRAB == 2, 'NAO')\n",
    "                                        .otherwise('IGNORADO')\n",
    "                          )"
   ]
  },
  {
   "cell_type": "markdown",
   "metadata": {
    "application/vnd.databricks.v1+cell": {
     "cellMetadata": {
      "byteLimit": 2048000,
      "rowLimit": 10000
     },
     "inputWidgets": {},
     "nuid": "b55cc229-1f18-40c2-b696-a98fcec6f00d",
     "showTitle": false,
     "title": ""
    }
   },
   "source": [
    "#####TPPOS\n",
    "\n",
    "Óbito investigado\n",
    "\n",
    "_Death under investigation_\n",
    "\n",
    "TPPOS:\n",
    "  * 1: Sim\n",
    "  * 2: Não"
   ]
  },
  {
   "cell_type": "code",
   "execution_count": 0,
   "metadata": {
    "application/vnd.databricks.v1+cell": {
     "cellMetadata": {
      "byteLimit": 2048000,
      "rowLimit": 10000
     },
     "inputWidgets": {},
     "nuid": "9b786423-00b0-4eb8-b06d-3213e7c66016",
     "showTitle": false,
     "title": ""
    }
   },
   "outputs": [],
   "source": [
    "df_datasus = df_datasus.withColumn('TPPOS', f.when(df_datasus.TPPOS == 'S', 'SIM')\n",
    "                                    .when(df_datasus.TPPOS == 'N', 'NAO')\n",
    "                                    .otherwise('IGNORADO')\n",
    "                          )"
   ]
  },
  {
   "cell_type": "code",
   "execution_count": 0,
   "metadata": {
    "application/vnd.databricks.v1+cell": {
     "cellMetadata": {
      "byteLimit": 2048000,
      "rowLimit": 10000
     },
     "inputWidgets": {},
     "nuid": "1232c7d7-8b1d-456c-bd3b-54b711c7350c",
     "showTitle": false,
     "title": ""
    }
   },
   "outputs": [],
   "source": [
    "# Assign uf and year\n",
    "\n",
    "uf_file = dir_name[2:4]\n",
    "year_file = dir_name[4:8]\n",
    "\n",
    "df_datasus = df_datasus.withColumn('UFARQUIVO', f.lit(uf_file)).withColumn('ANOARQUIVO', f.lit(year_file))"
   ]
  },
  {
   "cell_type": "code",
   "execution_count": 0,
   "metadata": {
    "application/vnd.databricks.v1+cell": {
     "cellMetadata": {
      "byteLimit": 2048000,
      "rowLimit": 10000
     },
     "inputWidgets": {},
     "nuid": "54e6a6ea-22b0-4f75-95d2-751c9d10d10b",
     "showTitle": false,
     "title": ""
    }
   },
   "outputs": [],
   "source": [
    "# df_datasus.columns\n",
    "\n",
    "ordered_columns =  ['UFARQUIVO', 'ANOARQUIVO', 'TIPOBITO', 'DTHORAOBITO', 'NATURAL', 'UFNATU', 'CODMUNNATU', 'NOMEMUNNATU', 'DTNASC', 'IDADE', 'SEXO', 'RACACOR', 'ESTCIV', 'ESC2010', 'OCUP', 'OCUPTITULO', 'UFRES', 'CODMUNRES', 'NOMEMUNRES', 'LOCOCOR', 'UFMUNOCOR', 'CODMUNOCOR', 'NOMEMUNOCOR', 'ASSISTMED', 'NECROPSIA', 'CAUSABAS',  'CAUSABASDESCCAT', 'CAUSABASDESCSUBCAT', 'CIRCOBITO', 'ACIDTRAB', 'TPPOS', 'CONTADOR']\n",
    "\n",
    "df_datasus = df_datasus.select([col for col in ordered_columns])\n"
   ]
  },
  {
   "cell_type": "code",
   "execution_count": 0,
   "metadata": {
    "application/vnd.databricks.v1+cell": {
     "cellMetadata": {
      "byteLimit": 2048000,
      "rowLimit": 10000
     },
     "inputWidgets": {},
     "nuid": "12ca7b98-2eff-4f97-be19-cf7f68891ef7",
     "showTitle": false,
     "title": ""
    }
   },
   "outputs": [],
   "source": [
    "#assign id\n",
    "\n",
    "df_datasus = df_datasus.withColumn('ID', f.sha2(f.concat_ws('_', *df_datasus.columns), 256))"
   ]
  },
  {
   "cell_type": "code",
   "execution_count": 0,
   "metadata": {
    "application/vnd.databricks.v1+cell": {
     "cellMetadata": {
      "byteLimit": 2048000,
      "rowLimit": 10000
     },
     "inputWidgets": {},
     "nuid": "d163176a-b9b7-4551-b989-9d72c5b80f4e",
     "showTitle": false,
     "title": ""
    }
   },
   "outputs": [],
   "source": [
    "#Set Schema\n",
    "\n",
    "new_schema = StructType([\n",
    "    StructField(\"ufarquivo\", StringType(), nullable=True),\n",
    "    StructField(\"anoarquivo\", IntegerType(), nullable=True),\n",
    "    StructField(\"tipobito\", StringType(), nullable=True),\n",
    "    StructField(\"dthoraobito\", TimestampType(), nullable=True),\n",
    "    StructField(\"NATURAL\", IntegerType(), nullable=True),\n",
    "    StructField(\"ufnatu\", StringType(), nullable=True),\n",
    "    StructField(\"codmunnatu\", IntegerType(), nullable=True),\n",
    "    StructField(\"nomemunnatu\", StringType(), nullable=True),\n",
    "    StructField(\"dtnasc\", DateType(), nullable=True),\n",
    "    StructField(\"idade\", IntegerType(), nullable=True),\n",
    "    StructField(\"sexo\", StringType(), nullable=True),\n",
    "    StructField(\"racacor\", StringType(), nullable=True),\n",
    "    StructField(\"estciv\", StringType(), nullable=True),\n",
    "    StructField(\"esc2010\", StringType(), nullable=True),\n",
    "    StructField(\"ocup\", IntegerType(), nullable=True),\n",
    "    StructField(\"ocuptitulo\", StringType(), nullable=True),\n",
    "    StructField(\"ufres\", StringType(), nullable=True),\n",
    "    StructField(\"codmunres\", StringType(), nullable=True),\n",
    "    StructField(\"nomemunres\", StringType(), nullable=True),\n",
    "    StructField(\"lococor\", StringType(), nullable=True),\n",
    "    StructField(\"ufmunocor\", StringType(), nullable=True),\n",
    "    StructField(\"codmunocor\", StringType(), nullable=True),\n",
    "    StructField(\"nomemunocor\", StringType(), nullable=True),\n",
    "    StructField(\"assistmed\", StringType(), nullable=True),\n",
    "    StructField(\"necropsia\", StringType(), nullable=True),\n",
    "    StructField(\"causabas\", StringType(), nullable=True),\n",
    "    StructField(\"causabasdesccat\", StringType(), nullable=True),\n",
    "    StructField(\"causabasdescsubcat\", StringType(), nullable=True),\n",
    "    StructField(\"circobito\", StringType(), nullable=True),\n",
    "    StructField(\"acidtrab\", StringType(), nullable=True),\n",
    "    StructField(\"tppos\", StringType(), nullable=True),\n",
    "    StructField(\"contador\", IntegerType(), nullable=True),\n",
    "    StructField(\"id\", StringType())\n",
    "])\n",
    "\n",
    "df_datasus = df_datasus.select(*[f.col(field.name.upper()).cast(field.dataType) for field in new_schema])"
   ]
  },
  {
   "cell_type": "code",
   "execution_count": 0,
   "metadata": {
    "application/vnd.databricks.v1+cell": {
     "cellMetadata": {
      "byteLimit": 2048000,
      "rowLimit": 10000
     },
     "inputWidgets": {},
     "nuid": "64467136-1a2a-42ba-94f0-43448ac0f9c9",
     "showTitle": false,
     "title": ""
    }
   },
   "outputs": [
    {
     "output_type": "stream",
     "name": "stdout",
     "output_type": "stream",
     "text": [
      "abfss://datasus-data@coutjdatasusstorage.dfs.core.windows.net/trusted/DOSP2015.parquet\n"
     ]
    }
   ],
   "source": [
    "#Write to ADLS\n",
    "\n",
    "conn_write = f\"abfss://{container_name}@{storage_account}.dfs.core.windows.net/trusted\"\n",
    "trusted_file = f\"{conn_write}/{dir_name}\"\n",
    "\n",
    "print(trusted_file)\n",
    "df_datasus.write.parquet(trusted_file, mode='overwrite')\n"
   ]
  },
  {
   "cell_type": "code",
   "execution_count": 0,
   "metadata": {
    "application/vnd.databricks.v1+cell": {
     "cellMetadata": {
      "byteLimit": 2048000,
      "rowLimit": 10000
     },
     "inputWidgets": {},
     "nuid": "85541f4e-f188-4ab5-967c-5c9b97557297",
     "showTitle": false,
     "title": ""
    }
   },
   "outputs": [],
   "source": [
    "#Write to DB\n",
    "\n",
    "driver = \"org.postgresql.Driver\"\n",
    "\n",
    "database_host = \"datasus-db.postgres.database.azure.com\"\n",
    "database_port = \"5432\"\n",
    "database_name = \"postgres\"\n",
    "table = \"datasus\"\n",
    "user = \"coutj\"\n",
    "password = dbutils.secrets.get(scope=\"pw_postgres\", key=\"postgres\")\n",
    "\n",
    "url = f\"jdbc:postgresql://{database_host}:{database_port}/{database_name}\"\n",
    "\n",
    "properties = {\"user\": user, \"password\": password, \"driver\": \"org.postgresql.Driver\"}\n",
    "\n",
    "\n",
    "df_datasus.write.jdbc(url=url, table=table, mode=\"append\", properties=properties)\n"
   ]
  }
 ],
 "metadata": {
  "application/vnd.databricks.v1+notebook": {
   "dashboards": [],
   "language": "python",
   "notebookMetadata": {
    "pythonIndentUnit": 4,
    "widgetLayout": []
   },
   "notebookName": "Transform Data",
   "widgets": {
    "dir_name": {
     "currentValue": "DOSP2015.parquet",
     "nuid": "4cdd757e-c101-4984-8f06-a3aee3871e6b",
     "widgetInfo": {
      "widgetType": "text",
      "defaultValue": "",
      "label": "Enter dir_name",
      "name": "dir_name",
      "options": {
       "widgetType": "text",
       "validationRegex": null
      }
     }
    }
   }
  }
 },
 "nbformat": 4,
 "nbformat_minor": 0
}
