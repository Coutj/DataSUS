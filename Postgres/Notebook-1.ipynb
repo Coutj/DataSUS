{
    "metadata": {
        "kernelspec": {
            "name": "SQL",
            "display_name": "SQL",
            "language": "sql"
        },
        "language_info": {
            "name": "sql",
            "version": ""
        }
    },
    "nbformat_minor": 2,
    "nbformat": 4,
    "cells": [
        {
            "cell_type": "code",
            "source": [
                "drop table datasus"
            ],
            "metadata": {
                "language": "sql",
                "azdata_cell_guid": "82a12877-fea5-4123-9512-eec94f290b65"
            },
            "outputs": [
                {
                    "output_type": "display_data",
                    "data": {
                        "text/html": "Commands completed successfully"
                    },
                    "metadata": {}
                },
                {
                    "output_type": "display_data",
                    "data": {
                        "text/html": "Total execution time: 00:00:00.172"
                    },
                    "metadata": {}
                }
            ],
            "execution_count": 6
        },
        {
            "cell_type": "code",
            "source": [
                "CREATE TABLE IF NOT EXISTS datasus (\n",
                "    UFARQUIVO CHAR(2) NOT NULL, \n",
                "    ANOARQUIVO SMALLINT NOT NULL,\n",
                "    TIPOBITO VARCHAR(9) NOT NULL,\n",
                "    DTHORAOBITO TIMESTAMP,\n",
                "    \"NATURAL\" SMALLINT,\n",
                "    UFNATU CHAR(2),\n",
                "    CODMUNNATU INTEGER,\n",
                "    NOMEMUNNATU VARCHAR(255),\n",
                "    DTNASC DATE,\n",
                "    IDADE SMALLINT,\n",
                "    SEXO VARCHAR(8) NOT NULL,\n",
                "    RACACOR VARCHAR(25),\n",
                "    ESTCIV VARCHAR(25),\n",
                "    ESC2010 VARCHAR(25),\n",
                "    OCUP INTEGER,\n",
                "    OCUPTITULO VARCHAR(255),\n",
                "    UFRES CHAR(2),\n",
                "    CODMUNRES CHAR(6),\n",
                "    NOMEMUNRES VARCHAR(255),\n",
                "    LOCOCOR VARCHAR(50),\n",
                "    UFMUNOCOR CHAR(2),\n",
                "    CODMUNOCOR CHAR(6),\n",
                "    NOMEMUNOCOR VARCHAR(255),\n",
                "    ASSISTMED VARCHAR(8),\n",
                "    NECROPSIA VARCHAR(8),\n",
                "    CAUSABAS VARCHAR(4),\n",
                "    CAUSABASDESCCAT VARCHAR(510),\n",
                "    CAUSABASDESCSUBCAT VARCHAR(510),\n",
                "    CIRCOBITO VARCHAR(10),\n",
                "    ACIDTRAB VARCHAR(8),\n",
                "    TPPOS VARCHAR(8),\n",
                "    CONTADOR INTEGER,\n",
                "    ID VARCHAR(256) PRIMARY KEY\n",
                ");"
            ],
            "metadata": {
                "azdata_cell_guid": "1c9730e1-f263-4897-b8c4-daba01dfe311",
                "language": "sql",
                "tags": []
            },
            "outputs": [
                {
                    "output_type": "display_data",
                    "data": {
                        "text/html": "Commands completed successfully"
                    },
                    "metadata": {}
                },
                {
                    "output_type": "display_data",
                    "data": {
                        "text/html": "Total execution time: 00:00:00.169"
                    },
                    "metadata": {}
                }
            ],
            "execution_count": 7
        },
        {
            "cell_type": "code",
            "source": [
                "DROP VIEW IF EXISTS top_rank_death_cases;"
            ],
            "metadata": {
                "language": "sql",
                "azdata_cell_guid": "a708c7b5-a927-4bce-939b-ba4a108ff77a"
            },
            "outputs": [
                {
                    "output_type": "display_data",
                    "data": {
                        "text/html": "Commands completed successfully"
                    },
                    "metadata": {}
                },
                {
                    "output_type": "display_data",
                    "data": {
                        "text/html": "Total execution time: 00:00:00.124"
                    },
                    "metadata": {}
                }
            ],
            "execution_count": 5
        },
        {
            "cell_type": "code",
            "source": [
                "CREATE OR REPLACE VIEW top_rank_death_cases AS (\n",
                "\n",
                "        SELECT d.* FROM (\n",
                "            SELECT \n",
                "                ufarquivo,\n",
                "                anoarquivo,\n",
                "                causabas, \n",
                "                causabasdesccat,\n",
                "                count(id) AS contador,\n",
                "                RANK() OVER(PARTITION BY ufarquivo, anoarquivo ORDER BY COUNT(id) DESC) AS ranking\n",
                "            FROM datasus d\n",
                "            GROUP BY ufarquivo, anoarquivo, causabas, causabasdesccat\n",
                "        ) as d\n",
                "        WHERE ranking <= 5\n",
                "\n",
                ");\n",
                "\n",
                ""
            ],
            "metadata": {
                "azdata_cell_guid": "ad9eae04-8480-4f66-bbcb-c43ed048c229",
                "language": "sql",
                "tags": []
            },
            "outputs": [
                {
                    "output_type": "display_data",
                    "data": {
                        "text/html": "Commands completed successfully"
                    },
                    "metadata": {}
                },
                {
                    "output_type": "display_data",
                    "data": {
                        "text/html": "Total execution time: 00:00:00.133"
                    },
                    "metadata": {}
                }
            ],
            "execution_count": 8
        },
        {
            "cell_type": "code",
            "source": [
                "SELECT d.* FROM (\n",
                "            SELECT \n",
                "                ufarquivo,\n",
                "                anoarquivo,\n",
                "                causabas, \n",
                "                causabasdesccat,\n",
                "                count(id) AS contador,\n",
                "                RANK() OVER(PARTITION BY ufarquivo, anoarquivo ORDER BY COUNT(id) DESC) AS ranking\n",
                "            FROM datasus d\n",
                "            GROUP BY ufarquivo, anoarquivo, causabas, causabasdesccat\n",
                "        ) as d\n",
                "        WHERE ranking <= 5"
            ],
            "metadata": {
                "language": "sql",
                "azdata_cell_guid": "169217cd-6570-4a6b-89e9-a1cf18425466"
            },
            "outputs": [
                {
                    "output_type": "display_data",
                    "data": {
                        "text/html": "(400 row(s) affected)"
                    },
                    "metadata": {}
                },
                {
                    "output_type": "display_data",
                    "data": {
                        "text/html": "Total execution time: 00:00:18.605"
                    },
                    "metadata": {}
                },
                {
                    "output_type": "execute_result",
                    "metadata": {},
                    "execution_count": 9,
                    "data": {
                        "application/vnd.dataresource+json": {
                            "schema": {
                                "fields": [
                                    {
                                        "name": "ufarquivo"
                                    },
                                    {
                                        "name": "anoarquivo"
                                    },
                                    {
                                        "name": "causabas"
                                    },
                                    {
                                        "name": "causabasdesccat"
                                    },
                                    {
                                        "name": "contador"
                                    },
                                    {
                                        "name": "ranking"
                                    }
                                ]
                            },
                            "data": [
                                {
                                    "ufarquivo": "AC",
                                    "anoarquivo": "2019",
                                    "causabas": "I219",
                                    "causabasdesccat": "Infarto agudo do miocárdio",
                                    "contador": "48",
                                    "ranking": "1"
                                },
                                {
                                    "ufarquivo": "AC",
                                    "anoarquivo": "2019",
                                    "causabas": "R99 ",
                                    "causabasdesccat": "Outras causas mal definidas e as não especificadas de mortalidade",
                                    "contador": "37",
                                    "ranking": "2"
                                },
                                {
                                    "ufarquivo": "AC",
                                    "anoarquivo": "2019",
                                    "causabas": "X959",
                                    "causabasdesccat": "Agressão por meio de disparo de outra arma de fogo ou de arma não especificada",
                                    "contador": "26",
                                    "ranking": "3"
                                },
                                {
                                    "ufarquivo": "AC",
                                    "anoarquivo": "2019",
                                    "causabas": "J440",
                                    "causabasdesccat": "Outras doenças pulmonares obstrutivas crônicas",
                                    "contador": "21",
                                    "ranking": "4"
                                },
                                {
                                    "ufarquivo": "AC",
                                    "anoarquivo": "2019",
                                    "causabas": "J189",
                                    "causabasdesccat": "Pneumonia por microorganismo não especificada",
                                    "contador": "18",
                                    "ranking": "5"
                                },
                                {
                                    "ufarquivo": "AC",
                                    "anoarquivo": "2020",
                                    "causabas": "B342",
                                    "causabasdesccat": "Doenças por vírus, de localização não especificada",
                                    "contador": "157",
                                    "ranking": "1"
                                },
                                {
                                    "ufarquivo": "AC",
                                    "anoarquivo": "2020",
                                    "causabas": "R99 ",
                                    "causabasdesccat": "Outras causas mal definidas e as não especificadas de mortalidade",
                                    "contador": "97",
                                    "ranking": "2"
                                },
                                {
                                    "ufarquivo": "AC",
                                    "anoarquivo": "2020",
                                    "causabas": "I219",
                                    "causabasdesccat": "Infarto agudo do miocárdio",
                                    "contador": "54",
                                    "ranking": "3"
                                },
                                {
                                    "ufarquivo": "AC",
                                    "anoarquivo": "2020",
                                    "causabas": "X959",
                                    "causabasdesccat": "Agressão por meio de disparo de outra arma de fogo ou de arma não especificada",
                                    "contador": "41",
                                    "ranking": "4"
                                },
                                {
                                    "ufarquivo": "AC",
                                    "anoarquivo": "2020",
                                    "causabas": "J440",
                                    "causabasdesccat": "Outras doenças pulmonares obstrutivas crônicas",
                                    "contador": "20",
                                    "ranking": "5"
                                },
                                {
                                    "ufarquivo": "AC",
                                    "anoarquivo": "2021",
                                    "causabas": "B342",
                                    "causabasdesccat": "Doenças por vírus, de localização não especificada",
                                    "contador": "165",
                                    "ranking": "1"
                                },
                                {
                                    "ufarquivo": "AC",
                                    "anoarquivo": "2021",
                                    "causabas": "I219",
                                    "causabasdesccat": "Infarto agudo do miocárdio",
                                    "contador": "46",
                                    "ranking": "2"
                                },
                                {
                                    "ufarquivo": "AC",
                                    "anoarquivo": "2021",
                                    "causabas": "R99 ",
                                    "causabasdesccat": "Outras causas mal definidas e as não especificadas de mortalidade",
                                    "contador": "35",
                                    "ranking": "3"
                                },
                                {
                                    "ufarquivo": "AC",
                                    "anoarquivo": "2021",
                                    "causabas": "J189",
                                    "causabasdesccat": "Pneumonia por microorganismo não especificada",
                                    "contador": "20",
                                    "ranking": "4"
                                },
                                {
                                    "ufarquivo": "AC",
                                    "anoarquivo": "2021",
                                    "causabas": "I64 ",
                                    "causabasdesccat": "Acidente vascular cerebral, não especificado como hemorrágico ou isquêmico",
                                    "contador": "12",
                                    "ranking": "5"
                                },
                                {
                                    "ufarquivo": "AL",
                                    "anoarquivo": "2019",
                                    "causabas": "I219",
                                    "causabasdesccat": "Infarto agudo do miocárdio",
                                    "contador": "615",
                                    "ranking": "1"
                                },
                                {
                                    "ufarquivo": "AL",
                                    "anoarquivo": "2019",
                                    "causabas": "X954",
                                    "causabasdesccat": "Agressão por meio de disparo de outra arma de fogo ou de arma não especificada",
                                    "contador": "257",
                                    "ranking": "2"
                                },
                                {
                                    "ufarquivo": "AL",
                                    "anoarquivo": "2019",
                                    "causabas": "R99 ",
                                    "causabasdesccat": "Outras causas mal definidas e as não especificadas de mortalidade",
                                    "contador": "246",
                                    "ranking": "3"
                                },
                                {
                                    "ufarquivo": "AL",
                                    "anoarquivo": "2019",
                                    "causabas": "I10 ",
                                    "causabasdesccat": "Hipertensão essencial (primária)",
                                    "contador": "225",
                                    "ranking": "4"
                                },
                                {
                                    "ufarquivo": "AL",
                                    "anoarquivo": "2019",
                                    "causabas": "E149",
                                    "causabasdesccat": "Diabetes mellitus não especificado",
                                    "contador": "163",
                                    "ranking": "5"
                                },
                                {
                                    "ufarquivo": "AL",
                                    "anoarquivo": "2020",
                                    "causabas": "B342",
                                    "causabasdesccat": "Doenças por vírus, de localização não especificada",
                                    "contador": "681",
                                    "ranking": "1"
                                },
                                {
                                    "ufarquivo": "AL",
                                    "anoarquivo": "2020",
                                    "causabas": "I219",
                                    "causabasdesccat": "Infarto agudo do miocárdio",
                                    "contador": "496",
                                    "ranking": "2"
                                },
                                {
                                    "ufarquivo": "AL",
                                    "anoarquivo": "2020",
                                    "causabas": "X954",
                                    "causabasdesccat": "Agressão por meio de disparo de outra arma de fogo ou de arma não especificada",
                                    "contador": "346",
                                    "ranking": "3"
                                },
                                {
                                    "ufarquivo": "AL",
                                    "anoarquivo": "2020",
                                    "causabas": "R99 ",
                                    "causabasdesccat": "Outras causas mal definidas e as não especificadas de mortalidade",
                                    "contador": "328",
                                    "ranking": "4"
                                },
                                {
                                    "ufarquivo": "AL",
                                    "anoarquivo": "2020",
                                    "causabas": "I10 ",
                                    "causabasdesccat": "Hipertensão essencial (primária)",
                                    "contador": "270",
                                    "ranking": "5"
                                },
                                {
                                    "ufarquivo": "AL",
                                    "anoarquivo": "2021",
                                    "causabas": "B342",
                                    "causabasdesccat": "Doenças por vírus, de localização não especificada",
                                    "contador": "1434",
                                    "ranking": "1"
                                },
                                {
                                    "ufarquivo": "AL",
                                    "anoarquivo": "2021",
                                    "causabas": "I219",
                                    "causabasdesccat": "Infarto agudo do miocárdio",
                                    "contador": "528",
                                    "ranking": "2"
                                },
                                {
                                    "ufarquivo": "AL",
                                    "anoarquivo": "2021",
                                    "causabas": "R99 ",
                                    "causabasdesccat": "Outras causas mal definidas e as não especificadas de mortalidade",
                                    "contador": "384",
                                    "ranking": "3"
                                },
                                {
                                    "ufarquivo": "AL",
                                    "anoarquivo": "2021",
                                    "causabas": "I10 ",
                                    "causabasdesccat": "Hipertensão essencial (primária)",
                                    "contador": "328",
                                    "ranking": "4"
                                },
                                {
                                    "ufarquivo": "AL",
                                    "anoarquivo": "2021",
                                    "causabas": "I64 ",
                                    "causabasdesccat": "Acidente vascular cerebral, não especificado como hemorrágico ou isquêmico",
                                    "contador": "235",
                                    "ranking": "5"
                                },
                                {
                                    "ufarquivo": "AM",
                                    "anoarquivo": "2019",
                                    "causabas": "R99 ",
                                    "causabasdesccat": "Outras causas mal definidas e as não especificadas de mortalidade",
                                    "contador": "727",
                                    "ranking": "1"
                                },
                                {
                                    "ufarquivo": "AM",
                                    "anoarquivo": "2019",
                                    "causabas": "X954",
                                    "causabasdesccat": "Agressão por meio de disparo de outra arma de fogo ou de arma não especificada",
                                    "contador": "544",
                                    "ranking": "2"
                                },
                                {
                                    "ufarquivo": "AM",
                                    "anoarquivo": "2019",
                                    "causabas": "I219",
                                    "causabasdesccat": "Infarto agudo do miocárdio",
                                    "contador": "445",
                                    "ranking": "3"
                                },
                                {
                                    "ufarquivo": "AM",
                                    "anoarquivo": "2019",
                                    "causabas": "R98 ",
                                    "causabasdesccat": "Morte sem assistência",
                                    "contador": "206",
                                    "ranking": "4"
                                },
                                {
                                    "ufarquivo": "AM",
                                    "anoarquivo": "2019",
                                    "causabas": "E149",
                                    "causabasdesccat": "Diabetes mellitus não especificado",
                                    "contador": "201",
                                    "ranking": "5"
                                },
                                {
                                    "ufarquivo": "AM",
                                    "anoarquivo": "2020",
                                    "causabas": "B342",
                                    "causabasdesccat": "Doenças por vírus, de localização não especificada",
                                    "contador": "3282",
                                    "ranking": "1"
                                },
                                {
                                    "ufarquivo": "AM",
                                    "anoarquivo": "2020",
                                    "causabas": "R99 ",
                                    "causabasdesccat": "Outras causas mal definidas e as não especificadas de mortalidade",
                                    "contador": "843",
                                    "ranking": "2"
                                },
                                {
                                    "ufarquivo": "AM",
                                    "anoarquivo": "2020",
                                    "causabas": "I219",
                                    "causabasdesccat": "Infarto agudo do miocárdio",
                                    "contador": "439",
                                    "ranking": "3"
                                },
                                {
                                    "ufarquivo": "AM",
                                    "anoarquivo": "2020",
                                    "causabas": "X954",
                                    "causabasdesccat": "Agressão por meio de disparo de outra arma de fogo ou de arma não especificada",
                                    "contador": "434",
                                    "ranking": "4"
                                },
                                {
                                    "ufarquivo": "AM",
                                    "anoarquivo": "2020",
                                    "causabas": "E149",
                                    "causabasdesccat": "Diabetes mellitus não especificado",
                                    "contador": "234",
                                    "ranking": "5"
                                },
                                {
                                    "ufarquivo": "AM",
                                    "anoarquivo": "2021",
                                    "causabas": "B342",
                                    "causabasdesccat": "Doenças por vírus, de localização não especificada",
                                    "contador": "5460",
                                    "ranking": "1"
                                },
                                {
                                    "ufarquivo": "AM",
                                    "anoarquivo": "2021",
                                    "causabas": "X954",
                                    "causabasdesccat": "Agressão por meio de disparo de outra arma de fogo ou de arma não especificada",
                                    "contador": "687",
                                    "ranking": "2"
                                },
                                {
                                    "ufarquivo": "AM",
                                    "anoarquivo": "2021",
                                    "causabas": "R99 ",
                                    "causabasdesccat": "Outras causas mal definidas e as não especificadas de mortalidade",
                                    "contador": "669",
                                    "ranking": "3"
                                },
                                {
                                    "ufarquivo": "AM",
                                    "anoarquivo": "2021",
                                    "causabas": "I219",
                                    "causabasdesccat": "Infarto agudo do miocárdio",
                                    "contador": "499",
                                    "ranking": "4"
                                },
                                {
                                    "ufarquivo": "AM",
                                    "anoarquivo": "2021",
                                    "causabas": "I10 ",
                                    "causabasdesccat": "Hipertensão essencial (primária)",
                                    "contador": "247",
                                    "ranking": "5"
                                },
                                {
                                    "ufarquivo": "AP",
                                    "anoarquivo": "2019",
                                    "causabas": "I219",
                                    "causabasdesccat": "Infarto agudo do miocárdio",
                                    "contador": "75",
                                    "ranking": "1"
                                },
                                {
                                    "ufarquivo": "AP",
                                    "anoarquivo": "2019",
                                    "causabas": "R99 ",
                                    "causabasdesccat": "Outras causas mal definidas e as não especificadas de mortalidade",
                                    "contador": "55",
                                    "ranking": "2"
                                },
                                {
                                    "ufarquivo": "AP",
                                    "anoarquivo": "2019",
                                    "causabas": "I64 ",
                                    "causabasdesccat": "Acidente vascular cerebral, não especificado como hemorrágico ou isquêmico",
                                    "contador": "44",
                                    "ranking": "3"
                                },
                                {
                                    "ufarquivo": "AP",
                                    "anoarquivo": "2019",
                                    "causabas": "X954",
                                    "causabasdesccat": "Agressão por meio de disparo de outra arma de fogo ou de arma não especificada",
                                    "contador": "42",
                                    "ranking": "4"
                                },
                                {
                                    "ufarquivo": "AP",
                                    "anoarquivo": "2019",
                                    "causabas": "J189",
                                    "causabasdesccat": "Pneumonia por microorganismo não especificada",
                                    "contador": "36",
                                    "ranking": "5"
                                },
                                {
                                    "ufarquivo": "AP",
                                    "anoarquivo": "2020",
                                    "causabas": "B342",
                                    "causabasdesccat": "Doenças por vírus, de localização não especificada",
                                    "contador": "408",
                                    "ranking": "1"
                                },
                                {
                                    "ufarquivo": "AP",
                                    "anoarquivo": "2020",
                                    "causabas": "I219",
                                    "causabasdesccat": "Infarto agudo do miocárdio",
                                    "contador": "72",
                                    "ranking": "2"
                                },
                                {
                                    "ufarquivo": "AP",
                                    "anoarquivo": "2020",
                                    "causabas": "I64 ",
                                    "causabasdesccat": "Acidente vascular cerebral, não especificado como hemorrágico ou isquêmico",
                                    "contador": "38",
                                    "ranking": "3"
                                },
                                {
                                    "ufarquivo": "AP",
                                    "anoarquivo": "2020",
                                    "causabas": "X959",
                                    "causabasdesccat": "Agressão por meio de disparo de outra arma de fogo ou de arma não especificada",
                                    "contador": "33",
                                    "ranking": "4"
                                },
                                {
                                    "ufarquivo": "AP",
                                    "anoarquivo": "2020",
                                    "causabas": "Y350",
                                    "causabasdesccat": "Intervenção legal",
                                    "contador": "33",
                                    "ranking": "4"
                                },
                                {
                                    "ufarquivo": "AP",
                                    "anoarquivo": "2021",
                                    "causabas": "B342",
                                    "causabasdesccat": "Doenças por vírus, de localização não especificada",
                                    "contador": "602",
                                    "ranking": "1"
                                },
                                {
                                    "ufarquivo": "AP",
                                    "anoarquivo": "2021",
                                    "causabas": "I219",
                                    "causabasdesccat": "Infarto agudo do miocárdio",
                                    "contador": "94",
                                    "ranking": "2"
                                },
                                {
                                    "ufarquivo": "AP",
                                    "anoarquivo": "2021",
                                    "causabas": "X954",
                                    "causabasdesccat": "Agressão por meio de disparo de outra arma de fogo ou de arma não especificada",
                                    "contador": "63",
                                    "ranking": "3"
                                },
                                {
                                    "ufarquivo": "AP",
                                    "anoarquivo": "2021",
                                    "causabas": "I64 ",
                                    "causabasdesccat": "Acidente vascular cerebral, não especificado como hemorrágico ou isquêmico",
                                    "contador": "39",
                                    "ranking": "4"
                                },
                                {
                                    "ufarquivo": "AP",
                                    "anoarquivo": "2021",
                                    "causabas": "X952",
                                    "causabasdesccat": "Agressão por meio de disparo de outra arma de fogo ou de arma não especificada",
                                    "contador": "38",
                                    "ranking": "5"
                                },
                                {
                                    "ufarquivo": "BA",
                                    "anoarquivo": "2019",
                                    "causabas": "R99 ",
                                    "causabasdesccat": "Outras causas mal definidas e as não especificadas de mortalidade",
                                    "contador": "2787",
                                    "ranking": "1"
                                },
                                {
                                    "ufarquivo": "BA",
                                    "anoarquivo": "2019",
                                    "causabas": "I219",
                                    "causabasdesccat": "Infarto agudo do miocárdio",
                                    "contador": "1975",
                                    "ranking": "2"
                                },
                                {
                                    "ufarquivo": "BA",
                                    "anoarquivo": "2019",
                                    "causabas": "I64 ",
                                    "causabasdesccat": "Acidente vascular cerebral, não especificado como hemorrágico ou isquêmico",
                                    "contador": "1279",
                                    "ranking": "3"
                                },
                                {
                                    "ufarquivo": "BA",
                                    "anoarquivo": "2019",
                                    "causabas": "X954",
                                    "causabasdesccat": "Agressão por meio de disparo de outra arma de fogo ou de arma não especificada",
                                    "contador": "1073",
                                    "ranking": "4"
                                },
                                {
                                    "ufarquivo": "BA",
                                    "anoarquivo": "2019",
                                    "causabas": "I10 ",
                                    "causabasdesccat": "Hipertensão essencial (primária)",
                                    "contador": "739",
                                    "ranking": "5"
                                },
                                {
                                    "ufarquivo": "BA",
                                    "anoarquivo": "2020",
                                    "causabas": "B342",
                                    "causabasdesccat": "Doenças por vírus, de localização não especificada",
                                    "contador": "4217",
                                    "ranking": "1"
                                },
                                {
                                    "ufarquivo": "BA",
                                    "anoarquivo": "2020",
                                    "causabas": "R99 ",
                                    "causabasdesccat": "Outras causas mal definidas e as não especificadas de mortalidade",
                                    "contador": "3118",
                                    "ranking": "2"
                                },
                                {
                                    "ufarquivo": "BA",
                                    "anoarquivo": "2020",
                                    "causabas": "I219",
                                    "causabasdesccat": "Infarto agudo do miocárdio",
                                    "contador": "2007",
                                    "ranking": "3"
                                },
                                {
                                    "ufarquivo": "BA",
                                    "anoarquivo": "2020",
                                    "causabas": "I64 ",
                                    "causabasdesccat": "Acidente vascular cerebral, não especificado como hemorrágico ou isquêmico",
                                    "contador": "1265",
                                    "ranking": "4"
                                },
                                {
                                    "ufarquivo": "BA",
                                    "anoarquivo": "2020",
                                    "causabas": "X954",
                                    "causabasdesccat": "Agressão por meio de disparo de outra arma de fogo ou de arma não especificada",
                                    "contador": "1201",
                                    "ranking": "5"
                                },
                                {
                                    "ufarquivo": "BA",
                                    "anoarquivo": "2021",
                                    "causabas": "B342",
                                    "causabasdesccat": "Doenças por vírus, de localização não especificada",
                                    "contador": "7766",
                                    "ranking": "1"
                                },
                                {
                                    "ufarquivo": "BA",
                                    "anoarquivo": "2021",
                                    "causabas": "R99 ",
                                    "causabasdesccat": "Outras causas mal definidas e as não especificadas de mortalidade",
                                    "contador": "2960",
                                    "ranking": "2"
                                },
                                {
                                    "ufarquivo": "BA",
                                    "anoarquivo": "2021",
                                    "causabas": "I219",
                                    "causabasdesccat": "Infarto agudo do miocárdio",
                                    "contador": "2215",
                                    "ranking": "3"
                                },
                                {
                                    "ufarquivo": "BA",
                                    "anoarquivo": "2021",
                                    "causabas": "X954",
                                    "causabasdesccat": "Agressão por meio de disparo de outra arma de fogo ou de arma não especificada",
                                    "contador": "1492",
                                    "ranking": "4"
                                },
                                {
                                    "ufarquivo": "BA",
                                    "anoarquivo": "2021",
                                    "causabas": "I64 ",
                                    "causabasdesccat": "Acidente vascular cerebral, não especificado como hemorrágico ou isquêmico",
                                    "contador": "1332",
                                    "ranking": "5"
                                },
                                {
                                    "ufarquivo": "CE",
                                    "anoarquivo": "2019",
                                    "causabas": "I219",
                                    "causabasdesccat": "Infarto agudo do miocárdio",
                                    "contador": "2313",
                                    "ranking": "1"
                                },
                                {
                                    "ufarquivo": "CE",
                                    "anoarquivo": "2019",
                                    "causabas": "J189",
                                    "causabasdesccat": "Pneumonia por microorganismo não especificada",
                                    "contador": "1289",
                                    "ranking": "2"
                                },
                                {
                                    "ufarquivo": "CE",
                                    "anoarquivo": "2019",
                                    "causabas": "I64 ",
                                    "causabasdesccat": "Acidente vascular cerebral, não especificado como hemorrágico ou isquêmico",
                                    "contador": "1094",
                                    "ranking": "3"
                                },
                                {
                                    "ufarquivo": "CE",
                                    "anoarquivo": "2019",
                                    "causabas": "J159",
                                    "causabasdesccat": "Pneumonia bacteriana não classificada em outra parte",
                                    "contador": "809",
                                    "ranking": "4"
                                },
                                {
                                    "ufarquivo": "CE",
                                    "anoarquivo": "2019",
                                    "causabas": "X954",
                                    "causabasdesccat": "Agressão por meio de disparo de outra arma de fogo ou de arma não especificada",
                                    "contador": "765",
                                    "ranking": "5"
                                },
                                {
                                    "ufarquivo": "CE",
                                    "anoarquivo": "2020",
                                    "causabas": "B342",
                                    "causabasdesccat": "Doenças por vírus, de localização não especificada",
                                    "contador": "7694",
                                    "ranking": "1"
                                },
                                {
                                    "ufarquivo": "CE",
                                    "anoarquivo": "2020",
                                    "causabas": "I219",
                                    "causabasdesccat": "Infarto agudo do miocárdio",
                                    "contador": "2442",
                                    "ranking": "2"
                                },
                                {
                                    "ufarquivo": "CE",
                                    "anoarquivo": "2020",
                                    "causabas": "X954",
                                    "causabasdesccat": "Agressão por meio de disparo de outra arma de fogo ou de arma não especificada",
                                    "contador": "1244",
                                    "ranking": "3"
                                },
                                {
                                    "ufarquivo": "CE",
                                    "anoarquivo": "2020",
                                    "causabas": "I64 ",
                                    "causabasdesccat": "Acidente vascular cerebral, não especificado como hemorrágico ou isquêmico",
                                    "contador": "1196",
                                    "ranking": "4"
                                },
                                {
                                    "ufarquivo": "CE",
                                    "anoarquivo": "2020",
                                    "causabas": "R99 ",
                                    "causabasdesccat": "Outras causas mal definidas e as não especificadas de mortalidade",
                                    "contador": "1064",
                                    "ranking": "5"
                                },
                                {
                                    "ufarquivo": "CE",
                                    "anoarquivo": "2021",
                                    "causabas": "B342",
                                    "causabasdesccat": "Doenças por vírus, de localização não especificada",
                                    "contador": "10259",
                                    "ranking": "1"
                                },
                                {
                                    "ufarquivo": "CE",
                                    "anoarquivo": "2021",
                                    "causabas": "I219",
                                    "causabasdesccat": "Infarto agudo do miocárdio",
                                    "contador": "2505",
                                    "ranking": "2"
                                },
                                {
                                    "ufarquivo": "CE",
                                    "anoarquivo": "2021",
                                    "causabas": "I64 ",
                                    "causabasdesccat": "Acidente vascular cerebral, não especificado como hemorrágico ou isquêmico",
                                    "contador": "1077",
                                    "ranking": "3"
                                },
                                {
                                    "ufarquivo": "CE",
                                    "anoarquivo": "2021",
                                    "causabas": "X954",
                                    "causabasdesccat": "Agressão por meio de disparo de outra arma de fogo ou de arma não especificada",
                                    "contador": "1077",
                                    "ranking": "3"
                                },
                                {
                                    "ufarquivo": "CE",
                                    "anoarquivo": "2021",
                                    "causabas": "I10 ",
                                    "causabasdesccat": "Hipertensão essencial (primária)",
                                    "contador": "993",
                                    "ranking": "5"
                                },
                                {
                                    "ufarquivo": "DF",
                                    "anoarquivo": "2019",
                                    "causabas": "I219",
                                    "causabasdesccat": "Infarto agudo do miocárdio",
                                    "contador": "390",
                                    "ranking": "1"
                                },
                                {
                                    "ufarquivo": "DF",
                                    "anoarquivo": "2019",
                                    "causabas": "C349",
                                    "causabasdesccat": "Neoplasia maligna dos brônquios e dos pulmões",
                                    "contador": "162",
                                    "ranking": "2"
                                },
                                {
                                    "ufarquivo": "DF",
                                    "anoarquivo": "2019",
                                    "causabas": "G309",
                                    "causabasdesccat": "Doença de Alzheimer",
                                    "contador": "112",
                                    "ranking": "3"
                                },
                                {
                                    "ufarquivo": "DF",
                                    "anoarquivo": "2019",
                                    "causabas": "J189",
                                    "causabasdesccat": "Pneumonia por microorganismo não especificada",
                                    "contador": "110",
                                    "ranking": "4"
                                },
                                {
                                    "ufarquivo": "DF",
                                    "anoarquivo": "2019",
                                    "causabas": "C169",
                                    "causabasdesccat": "Neoplasia maligna do estômago",
                                    "contador": "108",
                                    "ranking": "5"
                                },
                                {
                                    "ufarquivo": "DF",
                                    "anoarquivo": "2020",
                                    "causabas": "B342",
                                    "causabasdesccat": "Doenças por vírus, de localização não especificada",
                                    "contador": "1764",
                                    "ranking": "1"
                                },
                                {
                                    "ufarquivo": "DF",
                                    "anoarquivo": "2020",
                                    "causabas": "I219",
                                    "causabasdesccat": "Infarto agudo do miocárdio",
                                    "contador": "400",
                                    "ranking": "2"
                                },
                                {
                                    "ufarquivo": "DF",
                                    "anoarquivo": "2020",
                                    "causabas": "C349",
                                    "causabasdesccat": "Neoplasia maligna dos brônquios e dos pulmões",
                                    "contador": "151",
                                    "ranking": "3"
                                },
                                {
                                    "ufarquivo": "DF",
                                    "anoarquivo": "2020",
                                    "causabas": "R99 ",
                                    "causabasdesccat": "Outras causas mal definidas e as não especificadas de mortalidade",
                                    "contador": "137",
                                    "ranking": "4"
                                },
                                {
                                    "ufarquivo": "DF",
                                    "anoarquivo": "2020",
                                    "causabas": "G309",
                                    "causabasdesccat": "Doença de Alzheimer",
                                    "contador": "126",
                                    "ranking": "5"
                                },
                                {
                                    "ufarquivo": "DF",
                                    "anoarquivo": "2021",
                                    "causabas": "B342",
                                    "causabasdesccat": "Doenças por vírus, de localização não especificada",
                                    "contador": "3563",
                                    "ranking": "1"
                                },
                                {
                                    "ufarquivo": "DF",
                                    "anoarquivo": "2021",
                                    "causabas": "I219",
                                    "causabasdesccat": "Infarto agudo do miocárdio",
                                    "contador": "471",
                                    "ranking": "2"
                                },
                                {
                                    "ufarquivo": "DF",
                                    "anoarquivo": "2021",
                                    "causabas": "C349",
                                    "causabasdesccat": "Neoplasia maligna dos brônquios e dos pulmões",
                                    "contador": "170",
                                    "ranking": "3"
                                },
                                {
                                    "ufarquivo": "DF",
                                    "anoarquivo": "2021",
                                    "causabas": "R99 ",
                                    "causabasdesccat": "Outras causas mal definidas e as não especificadas de mortalidade",
                                    "contador": "145",
                                    "ranking": "4"
                                },
                                {
                                    "ufarquivo": "DF",
                                    "anoarquivo": "2021",
                                    "causabas": "C61 ",
                                    "causabasdesccat": "Neoplasia maligna da próstata",
                                    "contador": "122",
                                    "ranking": "5"
                                },
                                {
                                    "ufarquivo": "ES",
                                    "anoarquivo": "2019",
                                    "causabas": "I219",
                                    "causabasdesccat": "Infarto agudo do miocárdio",
                                    "contador": "686",
                                    "ranking": "1"
                                },
                                {
                                    "ufarquivo": "ES",
                                    "anoarquivo": "2019",
                                    "causabas": "I110",
                                    "causabasdesccat": "Doença cardíaca hipertensiva",
                                    "contador": "213",
                                    "ranking": "2"
                                },
                                {
                                    "ufarquivo": "ES",
                                    "anoarquivo": "2019",
                                    "causabas": "E149",
                                    "causabasdesccat": "Diabetes mellitus não especificado",
                                    "contador": "181",
                                    "ranking": "3"
                                },
                                {
                                    "ufarquivo": "ES",
                                    "anoarquivo": "2019",
                                    "causabas": "J189",
                                    "causabasdesccat": "Pneumonia por microorganismo não especificada",
                                    "contador": "167",
                                    "ranking": "4"
                                },
                                {
                                    "ufarquivo": "ES",
                                    "anoarquivo": "2019",
                                    "causabas": "C349",
                                    "causabasdesccat": "Neoplasia maligna dos brônquios e dos pulmões",
                                    "contador": "160",
                                    "ranking": "5"
                                },
                                {
                                    "ufarquivo": "ES",
                                    "anoarquivo": "2020",
                                    "causabas": "B342",
                                    "causabasdesccat": "Doenças por vírus, de localização não especificada",
                                    "contador": "1024",
                                    "ranking": "1"
                                },
                                {
                                    "ufarquivo": "ES",
                                    "anoarquivo": "2020",
                                    "causabas": "I219",
                                    "causabasdesccat": "Infarto agudo do miocárdio",
                                    "contador": "591",
                                    "ranking": "2"
                                },
                                {
                                    "ufarquivo": "ES",
                                    "anoarquivo": "2020",
                                    "causabas": "I110",
                                    "causabasdesccat": "Doença cardíaca hipertensiva",
                                    "contador": "202",
                                    "ranking": "3"
                                },
                                {
                                    "ufarquivo": "ES",
                                    "anoarquivo": "2020",
                                    "causabas": "E149",
                                    "causabasdesccat": "Diabetes mellitus não especificado",
                                    "contador": "191",
                                    "ranking": "4"
                                },
                                {
                                    "ufarquivo": "ES",
                                    "anoarquivo": "2020",
                                    "causabas": "V892",
                                    "causabasdesccat": "Acidente com um veículo a motor ou não-motorizado, tipo(s) de veículo(s) não especificado(s)",
                                    "contador": "132",
                                    "ranking": "5"
                                },
                                {
                                    "ufarquivo": "ES",
                                    "anoarquivo": "2021",
                                    "causabas": "B342",
                                    "causabasdesccat": "Doenças por vírus, de localização não especificada",
                                    "contador": "1937",
                                    "ranking": "1"
                                },
                                {
                                    "ufarquivo": "ES",
                                    "anoarquivo": "2021",
                                    "causabas": "I219",
                                    "causabasdesccat": "Infarto agudo do miocárdio",
                                    "contador": "652",
                                    "ranking": "2"
                                },
                                {
                                    "ufarquivo": "ES",
                                    "anoarquivo": "2021",
                                    "causabas": "B948",
                                    "causabasdesccat": "Seqüelas de outras doenças infecciosas e parasitárias e das não especificadas",
                                    "contador": "385",
                                    "ranking": "3"
                                },
                                {
                                    "ufarquivo": "ES",
                                    "anoarquivo": "2021",
                                    "causabas": "E149",
                                    "causabasdesccat": "Diabetes mellitus não especificado",
                                    "contador": "292",
                                    "ranking": "4"
                                },
                                {
                                    "ufarquivo": "ES",
                                    "anoarquivo": "2021",
                                    "causabas": "I110",
                                    "causabasdesccat": "Doença cardíaca hipertensiva",
                                    "contador": "234",
                                    "ranking": "5"
                                },
                                {
                                    "ufarquivo": "GO",
                                    "anoarquivo": "2019",
                                    "causabas": "I219",
                                    "causabasdesccat": "Infarto agudo do miocárdio",
                                    "contador": "1238",
                                    "ranking": "1"
                                },
                                {
                                    "ufarquivo": "GO",
                                    "anoarquivo": "2019",
                                    "causabas": "J189",
                                    "causabasdesccat": "Pneumonia por microorganismo não especificada",
                                    "contador": "630",
                                    "ranking": "2"
                                },
                                {
                                    "ufarquivo": "GO",
                                    "anoarquivo": "2019",
                                    "causabas": "C349",
                                    "causabasdesccat": "Neoplasia maligna dos brônquios e dos pulmões",
                                    "contador": "512",
                                    "ranking": "3"
                                },
                                {
                                    "ufarquivo": "GO",
                                    "anoarquivo": "2019",
                                    "causabas": "J440",
                                    "causabasdesccat": "Outras doenças pulmonares obstrutivas crônicas",
                                    "contador": "429",
                                    "ranking": "4"
                                },
                                {
                                    "ufarquivo": "GO",
                                    "anoarquivo": "2019",
                                    "causabas": "X954",
                                    "causabasdesccat": "Agressão por meio de disparo de outra arma de fogo ou de arma não especificada",
                                    "contador": "415",
                                    "ranking": "5"
                                },
                                {
                                    "ufarquivo": "GO",
                                    "anoarquivo": "2020",
                                    "causabas": "B342",
                                    "causabasdesccat": "Doenças por vírus, de localização não especificada",
                                    "contador": "3730",
                                    "ranking": "1"
                                },
                                {
                                    "ufarquivo": "GO",
                                    "anoarquivo": "2020",
                                    "causabas": "I219",
                                    "causabasdesccat": "Infarto agudo do miocárdio",
                                    "contador": "1285",
                                    "ranking": "2"
                                },
                                {
                                    "ufarquivo": "GO",
                                    "anoarquivo": "2020",
                                    "causabas": "J189",
                                    "causabasdesccat": "Pneumonia por microorganismo não especificada",
                                    "contador": "488",
                                    "ranking": "3"
                                },
                                {
                                    "ufarquivo": "GO",
                                    "anoarquivo": "2020",
                                    "causabas": "C349",
                                    "causabasdesccat": "Neoplasia maligna dos brônquios e dos pulmões",
                                    "contador": "461",
                                    "ranking": "4"
                                },
                                {
                                    "ufarquivo": "GO",
                                    "anoarquivo": "2020",
                                    "causabas": "I10 ",
                                    "causabasdesccat": "Hipertensão essencial (primária)",
                                    "contador": "388",
                                    "ranking": "5"
                                },
                                {
                                    "ufarquivo": "GO",
                                    "anoarquivo": "2021",
                                    "causabas": "B342",
                                    "causabasdesccat": "Doenças por vírus, de localização não especificada",
                                    "contador": "10447",
                                    "ranking": "1"
                                },
                                {
                                    "ufarquivo": "GO",
                                    "anoarquivo": "2021",
                                    "causabas": "I219",
                                    "causabasdesccat": "Infarto agudo do miocárdio",
                                    "contador": "1570",
                                    "ranking": "2"
                                },
                                {
                                    "ufarquivo": "GO",
                                    "anoarquivo": "2021",
                                    "causabas": "C349",
                                    "causabasdesccat": "Neoplasia maligna dos brônquios e dos pulmões",
                                    "contador": "497",
                                    "ranking": "3"
                                },
                                {
                                    "ufarquivo": "GO",
                                    "anoarquivo": "2021",
                                    "causabas": "J189",
                                    "causabasdesccat": "Pneumonia por microorganismo não especificada",
                                    "contador": "480",
                                    "ranking": "4"
                                },
                                {
                                    "ufarquivo": "GO",
                                    "anoarquivo": "2021",
                                    "causabas": "I10 ",
                                    "causabasdesccat": "Hipertensão essencial (primária)",
                                    "contador": "409",
                                    "ranking": "5"
                                },
                                {
                                    "ufarquivo": "MA",
                                    "anoarquivo": "2019",
                                    "causabas": "I219",
                                    "causabasdesccat": "Infarto agudo do miocárdio",
                                    "contador": "1542",
                                    "ranking": "1"
                                },
                                {
                                    "ufarquivo": "MA",
                                    "anoarquivo": "2019",
                                    "causabas": "I64 ",
                                    "causabasdesccat": "Acidente vascular cerebral, não especificado como hemorrágico ou isquêmico",
                                    "contador": "932",
                                    "ranking": "2"
                                },
                                {
                                    "ufarquivo": "MA",
                                    "anoarquivo": "2019",
                                    "causabas": "E149",
                                    "causabasdesccat": "Diabetes mellitus não especificado",
                                    "contador": "425",
                                    "ranking": "3"
                                },
                                {
                                    "ufarquivo": "MA",
                                    "anoarquivo": "2019",
                                    "causabas": "I10 ",
                                    "causabasdesccat": "Hipertensão essencial (primária)",
                                    "contador": "401",
                                    "ranking": "4"
                                },
                                {
                                    "ufarquivo": "MA",
                                    "anoarquivo": "2019",
                                    "causabas": "J189",
                                    "causabasdesccat": "Pneumonia por microorganismo não especificada",
                                    "contador": "378",
                                    "ranking": "5"
                                },
                                {
                                    "ufarquivo": "MA",
                                    "anoarquivo": "2020",
                                    "causabas": "B342",
                                    "causabasdesccat": "Doenças por vírus, de localização não especificada",
                                    "contador": "2594",
                                    "ranking": "1"
                                },
                                {
                                    "ufarquivo": "MA",
                                    "anoarquivo": "2020",
                                    "causabas": "I219",
                                    "causabasdesccat": "Infarto agudo do miocárdio",
                                    "contador": "1451",
                                    "ranking": "2"
                                },
                                {
                                    "ufarquivo": "MA",
                                    "anoarquivo": "2020",
                                    "causabas": "I64 ",
                                    "causabasdesccat": "Acidente vascular cerebral, não especificado como hemorrágico ou isquêmico",
                                    "contador": "964",
                                    "ranking": "3"
                                },
                                {
                                    "ufarquivo": "MA",
                                    "anoarquivo": "2020",
                                    "causabas": "I10 ",
                                    "causabasdesccat": "Hipertensão essencial (primária)",
                                    "contador": "652",
                                    "ranking": "4"
                                },
                                {
                                    "ufarquivo": "MA",
                                    "anoarquivo": "2020",
                                    "causabas": "E149",
                                    "causabasdesccat": "Diabetes mellitus não especificado",
                                    "contador": "464",
                                    "ranking": "5"
                                },
                                {
                                    "ufarquivo": "MA",
                                    "anoarquivo": "2021",
                                    "causabas": "B342",
                                    "causabasdesccat": "Doenças por vírus, de localização não especificada",
                                    "contador": "4346",
                                    "ranking": "1"
                                },
                                {
                                    "ufarquivo": "MA",
                                    "anoarquivo": "2021",
                                    "causabas": "I219",
                                    "causabasdesccat": "Infarto agudo do miocárdio",
                                    "contador": "1570",
                                    "ranking": "2"
                                },
                                {
                                    "ufarquivo": "MA",
                                    "anoarquivo": "2021",
                                    "causabas": "I64 ",
                                    "causabasdesccat": "Acidente vascular cerebral, não especificado como hemorrágico ou isquêmico",
                                    "contador": "950",
                                    "ranking": "3"
                                },
                                {
                                    "ufarquivo": "MA",
                                    "anoarquivo": "2021",
                                    "causabas": "I10 ",
                                    "causabasdesccat": "Hipertensão essencial (primária)",
                                    "contador": "552",
                                    "ranking": "4"
                                },
                                {
                                    "ufarquivo": "MA",
                                    "anoarquivo": "2021",
                                    "causabas": "E149",
                                    "causabasdesccat": "Diabetes mellitus não especificado",
                                    "contador": "400",
                                    "ranking": "5"
                                },
                                {
                                    "ufarquivo": "MG",
                                    "anoarquivo": "2019",
                                    "causabas": "I219",
                                    "causabasdesccat": "Infarto agudo do miocárdio",
                                    "contador": "3229",
                                    "ranking": "1"
                                },
                                {
                                    "ufarquivo": "MG",
                                    "anoarquivo": "2019",
                                    "causabas": "R99 ",
                                    "causabasdesccat": "Outras causas mal definidas e as não especificadas de mortalidade",
                                    "contador": "2922",
                                    "ranking": "2"
                                },
                                {
                                    "ufarquivo": "MG",
                                    "anoarquivo": "2019",
                                    "causabas": "J189",
                                    "causabasdesccat": "Pneumonia por microorganismo não especificada",
                                    "contador": "2603",
                                    "ranking": "3"
                                },
                                {
                                    "ufarquivo": "MG",
                                    "anoarquivo": "2019",
                                    "causabas": "I10 ",
                                    "causabasdesccat": "Hipertensão essencial (primária)",
                                    "contador": "2121",
                                    "ranking": "4"
                                },
                                {
                                    "ufarquivo": "MG",
                                    "anoarquivo": "2019",
                                    "causabas": "I64 ",
                                    "causabasdesccat": "Acidente vascular cerebral, não especificado como hemorrágico ou isquêmico",
                                    "contador": "1557",
                                    "ranking": "5"
                                },
                                {
                                    "ufarquivo": "MG",
                                    "anoarquivo": "2020",
                                    "causabas": "B342",
                                    "causabasdesccat": "Doenças por vírus, de localização não especificada",
                                    "contador": "5409",
                                    "ranking": "1"
                                },
                                {
                                    "ufarquivo": "MG",
                                    "anoarquivo": "2020",
                                    "causabas": "R99 ",
                                    "causabasdesccat": "Outras causas mal definidas e as não especificadas de mortalidade",
                                    "contador": "3256",
                                    "ranking": "2"
                                },
                                {
                                    "ufarquivo": "MG",
                                    "anoarquivo": "2020",
                                    "causabas": "I219",
                                    "causabasdesccat": "Infarto agudo do miocárdio",
                                    "contador": "3194",
                                    "ranking": "3"
                                },
                                {
                                    "ufarquivo": "MG",
                                    "anoarquivo": "2020",
                                    "causabas": "I10 ",
                                    "causabasdesccat": "Hipertensão essencial (primária)",
                                    "contador": "2417",
                                    "ranking": "4"
                                },
                                {
                                    "ufarquivo": "MG",
                                    "anoarquivo": "2020",
                                    "causabas": "J189",
                                    "causabasdesccat": "Pneumonia por microorganismo não especificada",
                                    "contador": "1908",
                                    "ranking": "5"
                                },
                                {
                                    "ufarquivo": "MG",
                                    "anoarquivo": "2021",
                                    "causabas": "B342",
                                    "causabasdesccat": "Doenças por vírus, de localização não especificada",
                                    "contador": "20296",
                                    "ranking": "1"
                                },
                                {
                                    "ufarquivo": "MG",
                                    "anoarquivo": "2021",
                                    "causabas": "R99 ",
                                    "causabasdesccat": "Outras causas mal definidas e as não especificadas de mortalidade",
                                    "contador": "3432",
                                    "ranking": "2"
                                },
                                {
                                    "ufarquivo": "MG",
                                    "anoarquivo": "2021",
                                    "causabas": "I219",
                                    "causabasdesccat": "Infarto agudo do miocárdio",
                                    "contador": "3204",
                                    "ranking": "3"
                                },
                                {
                                    "ufarquivo": "MG",
                                    "anoarquivo": "2021",
                                    "causabas": "I10 ",
                                    "causabasdesccat": "Hipertensão essencial (primária)",
                                    "contador": "2517",
                                    "ranking": "4"
                                },
                                {
                                    "ufarquivo": "MG",
                                    "anoarquivo": "2021",
                                    "causabas": "I64 ",
                                    "causabasdesccat": "Acidente vascular cerebral, não especificado como hemorrágico ou isquêmico",
                                    "contador": "1528",
                                    "ranking": "5"
                                },
                                {
                                    "ufarquivo": "MS",
                                    "anoarquivo": "2019",
                                    "causabas": "I219",
                                    "causabasdesccat": "Infarto agudo do miocárdio",
                                    "contador": "1078",
                                    "ranking": "1"
                                },
                                {
                                    "ufarquivo": "MS",
                                    "anoarquivo": "2019",
                                    "causabas": "J159",
                                    "causabasdesccat": "Pneumonia bacteriana não classificada em outra parte",
                                    "contador": "327",
                                    "ranking": "2"
                                },
                                {
                                    "ufarquivo": "MS",
                                    "anoarquivo": "2019",
                                    "causabas": "J189",
                                    "causabasdesccat": "Pneumonia por microorganismo não especificada",
                                    "contador": "296",
                                    "ranking": "3"
                                },
                                {
                                    "ufarquivo": "MS",
                                    "anoarquivo": "2019",
                                    "causabas": "C349",
                                    "causabasdesccat": "Neoplasia maligna dos brônquios e dos pulmões",
                                    "contador": "202",
                                    "ranking": "4"
                                },
                                {
                                    "ufarquivo": "MS",
                                    "anoarquivo": "2019",
                                    "causabas": "C61 ",
                                    "causabasdesccat": "Neoplasia maligna da próstata",
                                    "contador": "201",
                                    "ranking": "5"
                                },
                                {
                                    "ufarquivo": "MS",
                                    "anoarquivo": "2020",
                                    "causabas": "B342",
                                    "causabasdesccat": "Doenças por vírus, de localização não especificada",
                                    "contador": "1308",
                                    "ranking": "1"
                                },
                                {
                                    "ufarquivo": "MS",
                                    "anoarquivo": "2020",
                                    "causabas": "I219",
                                    "causabasdesccat": "Infarto agudo do miocárdio",
                                    "contador": "1119",
                                    "ranking": "2"
                                },
                                {
                                    "ufarquivo": "MS",
                                    "anoarquivo": "2020",
                                    "causabas": "J189",
                                    "causabasdesccat": "Pneumonia por microorganismo não especificada",
                                    "contador": "307",
                                    "ranking": "3"
                                },
                                {
                                    "ufarquivo": "MS",
                                    "anoarquivo": "2020",
                                    "causabas": "C349",
                                    "causabasdesccat": "Neoplasia maligna dos brônquios e dos pulmões",
                                    "contador": "231",
                                    "ranking": "4"
                                },
                                {
                                    "ufarquivo": "MS",
                                    "anoarquivo": "2020",
                                    "causabas": "R99 ",
                                    "causabasdesccat": "Outras causas mal definidas e as não especificadas de mortalidade",
                                    "contador": "206",
                                    "ranking": "5"
                                },
                                {
                                    "ufarquivo": "MS",
                                    "anoarquivo": "2021",
                                    "causabas": "B342",
                                    "causabasdesccat": "Doenças por vírus, de localização não especificada",
                                    "contador": "4229",
                                    "ranking": "1"
                                },
                                {
                                    "ufarquivo": "MS",
                                    "anoarquivo": "2021",
                                    "causabas": "I219",
                                    "causabasdesccat": "Infarto agudo do miocárdio",
                                    "contador": "1077",
                                    "ranking": "2"
                                },
                                {
                                    "ufarquivo": "MS",
                                    "anoarquivo": "2021",
                                    "causabas": "J189",
                                    "causabasdesccat": "Pneumonia por microorganismo não especificada",
                                    "contador": "329",
                                    "ranking": "3"
                                },
                                {
                                    "ufarquivo": "MS",
                                    "anoarquivo": "2021",
                                    "causabas": "R99 ",
                                    "causabasdesccat": "Outras causas mal definidas e as não especificadas de mortalidade",
                                    "contador": "241",
                                    "ranking": "4"
                                },
                                {
                                    "ufarquivo": "MS",
                                    "anoarquivo": "2021",
                                    "causabas": "C349",
                                    "causabasdesccat": "Neoplasia maligna dos brônquios e dos pulmões",
                                    "contador": "208",
                                    "ranking": "5"
                                },
                                {
                                    "ufarquivo": "MT",
                                    "anoarquivo": "2019",
                                    "causabas": "I219",
                                    "causabasdesccat": "Infarto agudo do miocárdio",
                                    "contador": "503",
                                    "ranking": "1"
                                },
                                {
                                    "ufarquivo": "MT",
                                    "anoarquivo": "2019",
                                    "causabas": "R99 ",
                                    "causabasdesccat": "Outras causas mal definidas e as não especificadas de mortalidade",
                                    "contador": "247",
                                    "ranking": "2"
                                },
                                {
                                    "ufarquivo": "MT",
                                    "anoarquivo": "2019",
                                    "causabas": "C349",
                                    "causabasdesccat": "Neoplasia maligna dos brônquios e dos pulmões",
                                    "contador": "115",
                                    "ranking": "3"
                                },
                                {
                                    "ufarquivo": "MT",
                                    "anoarquivo": "2019",
                                    "causabas": "E149",
                                    "causabasdesccat": "Diabetes mellitus não especificado",
                                    "contador": "112",
                                    "ranking": "4"
                                },
                                {
                                    "ufarquivo": "MT",
                                    "anoarquivo": "2019",
                                    "causabas": "J189",
                                    "causabasdesccat": "Pneumonia por microorganismo não especificada",
                                    "contador": "109",
                                    "ranking": "5"
                                },
                                {
                                    "ufarquivo": "MT",
                                    "anoarquivo": "2020",
                                    "causabas": "B342",
                                    "causabasdesccat": "Doenças por vírus, de localização não especificada",
                                    "contador": "1640",
                                    "ranking": "1"
                                },
                                {
                                    "ufarquivo": "MT",
                                    "anoarquivo": "2020",
                                    "causabas": "I219",
                                    "causabasdesccat": "Infarto agudo do miocárdio",
                                    "contador": "476",
                                    "ranking": "2"
                                },
                                {
                                    "ufarquivo": "MT",
                                    "anoarquivo": "2020",
                                    "causabas": "R99 ",
                                    "causabasdesccat": "Outras causas mal definidas e as não especificadas de mortalidade",
                                    "contador": "307",
                                    "ranking": "3"
                                },
                                {
                                    "ufarquivo": "MT",
                                    "anoarquivo": "2020",
                                    "causabas": "E149",
                                    "causabasdesccat": "Diabetes mellitus não especificado",
                                    "contador": "165",
                                    "ranking": "4"
                                },
                                {
                                    "ufarquivo": "MT",
                                    "anoarquivo": "2020",
                                    "causabas": "I10 ",
                                    "causabasdesccat": "Hipertensão essencial (primária)",
                                    "contador": "123",
                                    "ranking": "5"
                                },
                                {
                                    "ufarquivo": "MT",
                                    "anoarquivo": "2021",
                                    "causabas": "B342",
                                    "causabasdesccat": "Doenças por vírus, de localização não especificada",
                                    "contador": "4169",
                                    "ranking": "1"
                                },
                                {
                                    "ufarquivo": "MT",
                                    "anoarquivo": "2021",
                                    "causabas": "I219",
                                    "causabasdesccat": "Infarto agudo do miocárdio",
                                    "contador": "509",
                                    "ranking": "2"
                                },
                                {
                                    "ufarquivo": "MT",
                                    "anoarquivo": "2021",
                                    "causabas": "R99 ",
                                    "causabasdesccat": "Outras causas mal definidas e as não especificadas de mortalidade",
                                    "contador": "282",
                                    "ranking": "3"
                                },
                                {
                                    "ufarquivo": "MT",
                                    "anoarquivo": "2021",
                                    "causabas": "I10 ",
                                    "causabasdesccat": "Hipertensão essencial (primária)",
                                    "contador": "145",
                                    "ranking": "4"
                                },
                                {
                                    "ufarquivo": "MT",
                                    "anoarquivo": "2021",
                                    "causabas": "C349",
                                    "causabasdesccat": "Neoplasia maligna dos brônquios e dos pulmões",
                                    "contador": "132",
                                    "ranking": "5"
                                },
                                {
                                    "ufarquivo": "PA",
                                    "anoarquivo": "2019",
                                    "causabas": "I219",
                                    "causabasdesccat": "Infarto agudo do miocárdio",
                                    "contador": "1275",
                                    "ranking": "1"
                                },
                                {
                                    "ufarquivo": "PA",
                                    "anoarquivo": "2019",
                                    "causabas": "J189",
                                    "causabasdesccat": "Pneumonia por microorganismo não especificada",
                                    "contador": "626",
                                    "ranking": "2"
                                },
                                {
                                    "ufarquivo": "PA",
                                    "anoarquivo": "2019",
                                    "causabas": "I64 ",
                                    "causabasdesccat": "Acidente vascular cerebral, não especificado como hemorrágico ou isquêmico",
                                    "contador": "558",
                                    "ranking": "3"
                                },
                                {
                                    "ufarquivo": "PA",
                                    "anoarquivo": "2019",
                                    "causabas": "X954",
                                    "causabasdesccat": "Agressão por meio de disparo de outra arma de fogo ou de arma não especificada",
                                    "contador": "551",
                                    "ranking": "4"
                                },
                                {
                                    "ufarquivo": "PA",
                                    "anoarquivo": "2019",
                                    "causabas": "R99 ",
                                    "causabasdesccat": "Outras causas mal definidas e as não especificadas de mortalidade",
                                    "contador": "501",
                                    "ranking": "5"
                                },
                                {
                                    "ufarquivo": "PA",
                                    "anoarquivo": "2020",
                                    "causabas": "B342",
                                    "causabasdesccat": "Doenças por vírus, de localização não especificada",
                                    "contador": "3403",
                                    "ranking": "1"
                                },
                                {
                                    "ufarquivo": "PA",
                                    "anoarquivo": "2020",
                                    "causabas": "I219",
                                    "causabasdesccat": "Infarto agudo do miocárdio",
                                    "contador": "1334",
                                    "ranking": "2"
                                },
                                {
                                    "ufarquivo": "PA",
                                    "anoarquivo": "2020",
                                    "causabas": "J189",
                                    "causabasdesccat": "Pneumonia por microorganismo não especificada",
                                    "contador": "699",
                                    "ranking": "3"
                                },
                                {
                                    "ufarquivo": "PA",
                                    "anoarquivo": "2020",
                                    "causabas": "I64 ",
                                    "causabasdesccat": "Acidente vascular cerebral, não especificado como hemorrágico ou isquêmico",
                                    "contador": "670",
                                    "ranking": "4"
                                },
                                {
                                    "ufarquivo": "PA",
                                    "anoarquivo": "2020",
                                    "causabas": "R99 ",
                                    "causabasdesccat": "Outras causas mal definidas e as não especificadas de mortalidade",
                                    "contador": "592",
                                    "ranking": "5"
                                },
                                {
                                    "ufarquivo": "PA",
                                    "anoarquivo": "2021",
                                    "causabas": "B342",
                                    "causabasdesccat": "Doenças por vírus, de localização não especificada",
                                    "contador": "5579",
                                    "ranking": "1"
                                },
                                {
                                    "ufarquivo": "PA",
                                    "anoarquivo": "2021",
                                    "causabas": "I219",
                                    "causabasdesccat": "Infarto agudo do miocárdio",
                                    "contador": "1489",
                                    "ranking": "2"
                                },
                                {
                                    "ufarquivo": "PA",
                                    "anoarquivo": "2021",
                                    "causabas": "J189",
                                    "causabasdesccat": "Pneumonia por microorganismo não especificada",
                                    "contador": "568",
                                    "ranking": "3"
                                },
                                {
                                    "ufarquivo": "PA",
                                    "anoarquivo": "2021",
                                    "causabas": "I64 ",
                                    "causabasdesccat": "Acidente vascular cerebral, não especificado como hemorrágico ou isquêmico",
                                    "contador": "534",
                                    "ranking": "4"
                                },
                                {
                                    "ufarquivo": "PA",
                                    "anoarquivo": "2021",
                                    "causabas": "R99 ",
                                    "causabasdesccat": "Outras causas mal definidas e as não especificadas de mortalidade",
                                    "contador": "514",
                                    "ranking": "5"
                                },
                                {
                                    "ufarquivo": "PB",
                                    "anoarquivo": "2019",
                                    "causabas": "I219",
                                    "causabasdesccat": "Infarto agudo do miocárdio",
                                    "contador": "774",
                                    "ranking": "1"
                                },
                                {
                                    "ufarquivo": "PB",
                                    "anoarquivo": "2019",
                                    "causabas": "J189",
                                    "causabasdesccat": "Pneumonia por microorganismo não especificada",
                                    "contador": "169",
                                    "ranking": "2"
                                },
                                {
                                    "ufarquivo": "PB",
                                    "anoarquivo": "2019",
                                    "causabas": "R99 ",
                                    "causabasdesccat": "Outras causas mal definidas e as não especificadas de mortalidade",
                                    "contador": "166",
                                    "ranking": "3"
                                },
                                {
                                    "ufarquivo": "PB",
                                    "anoarquivo": "2019",
                                    "causabas": "E149",
                                    "causabasdesccat": "Diabetes mellitus não especificado",
                                    "contador": "156",
                                    "ranking": "4"
                                },
                                {
                                    "ufarquivo": "PB",
                                    "anoarquivo": "2019",
                                    "causabas": "I64 ",
                                    "causabasdesccat": "Acidente vascular cerebral, não especificado como hemorrágico ou isquêmico",
                                    "contador": "149",
                                    "ranking": "5"
                                },
                                {
                                    "ufarquivo": "PB",
                                    "anoarquivo": "2020",
                                    "causabas": "B342",
                                    "causabasdesccat": "Doenças por vírus, de localização não especificada",
                                    "contador": "780",
                                    "ranking": "1"
                                },
                                {
                                    "ufarquivo": "PB",
                                    "anoarquivo": "2020",
                                    "causabas": "I219",
                                    "causabasdesccat": "Infarto agudo do miocárdio",
                                    "contador": "554",
                                    "ranking": "2"
                                },
                                {
                                    "ufarquivo": "PB",
                                    "anoarquivo": "2020",
                                    "causabas": "R99 ",
                                    "causabasdesccat": "Outras causas mal definidas e as não especificadas de mortalidade",
                                    "contador": "201",
                                    "ranking": "3"
                                },
                                {
                                    "ufarquivo": "PB",
                                    "anoarquivo": "2020",
                                    "causabas": "I10 ",
                                    "causabasdesccat": "Hipertensão essencial (primária)",
                                    "contador": "180",
                                    "ranking": "4"
                                },
                                {
                                    "ufarquivo": "PB",
                                    "anoarquivo": "2020",
                                    "causabas": "E149",
                                    "causabasdesccat": "Diabetes mellitus não especificado",
                                    "contador": "178",
                                    "ranking": "5"
                                },
                                {
                                    "ufarquivo": "PB",
                                    "anoarquivo": "2021",
                                    "causabas": "B342",
                                    "causabasdesccat": "Doenças por vírus, de localização não especificada",
                                    "contador": "1791",
                                    "ranking": "1"
                                },
                                {
                                    "ufarquivo": "PB",
                                    "anoarquivo": "2021",
                                    "causabas": "I219",
                                    "causabasdesccat": "Infarto agudo do miocárdio",
                                    "contador": "616",
                                    "ranking": "2"
                                },
                                {
                                    "ufarquivo": "PB",
                                    "anoarquivo": "2021",
                                    "causabas": "I10 ",
                                    "causabasdesccat": "Hipertensão essencial (primária)",
                                    "contador": "204",
                                    "ranking": "3"
                                },
                                {
                                    "ufarquivo": "PB",
                                    "anoarquivo": "2021",
                                    "causabas": "I64 ",
                                    "causabasdesccat": "Acidente vascular cerebral, não especificado como hemorrágico ou isquêmico",
                                    "contador": "173",
                                    "ranking": "4"
                                },
                                {
                                    "ufarquivo": "PB",
                                    "anoarquivo": "2021",
                                    "causabas": "E149",
                                    "causabasdesccat": "Diabetes mellitus não especificado",
                                    "contador": "160",
                                    "ranking": "5"
                                },
                                {
                                    "ufarquivo": "PE",
                                    "anoarquivo": "2019",
                                    "causabas": "I219",
                                    "causabasdesccat": "Infarto agudo do miocárdio",
                                    "contador": "2129",
                                    "ranking": "1"
                                },
                                {
                                    "ufarquivo": "PE",
                                    "anoarquivo": "2019",
                                    "causabas": "X954",
                                    "causabasdesccat": "Agressão por meio de disparo de outra arma de fogo ou de arma não especificada",
                                    "contador": "1322",
                                    "ranking": "2"
                                },
                                {
                                    "ufarquivo": "PE",
                                    "anoarquivo": "2019",
                                    "causabas": "I678",
                                    "causabasdesccat": "Outras doenças cerebrovasculares",
                                    "contador": "601",
                                    "ranking": "3"
                                },
                                {
                                    "ufarquivo": "PE",
                                    "anoarquivo": "2019",
                                    "causabas": "J189",
                                    "causabasdesccat": "Pneumonia por microorganismo não especificada",
                                    "contador": "539",
                                    "ranking": "4"
                                },
                                {
                                    "ufarquivo": "PE",
                                    "anoarquivo": "2019",
                                    "causabas": "J988",
                                    "causabasdesccat": "Outros transtornos respiratórios",
                                    "contador": "537",
                                    "ranking": "5"
                                },
                                {
                                    "ufarquivo": "PE",
                                    "anoarquivo": "2020",
                                    "causabas": "B342",
                                    "causabasdesccat": "Doenças por vírus, de localização não especificada",
                                    "contador": "5030",
                                    "ranking": "1"
                                },
                                {
                                    "ufarquivo": "PE",
                                    "anoarquivo": "2020",
                                    "causabas": "I219",
                                    "causabasdesccat": "Infarto agudo do miocárdio",
                                    "contador": "1718",
                                    "ranking": "2"
                                },
                                {
                                    "ufarquivo": "PE",
                                    "anoarquivo": "2020",
                                    "causabas": "X954",
                                    "causabasdesccat": "Agressão por meio de disparo de outra arma de fogo ou de arma não especificada",
                                    "contador": "1453",
                                    "ranking": "3"
                                },
                                {
                                    "ufarquivo": "PE",
                                    "anoarquivo": "2020",
                                    "causabas": "J988",
                                    "causabasdesccat": "Outros transtornos respiratórios",
                                    "contador": "915",
                                    "ranking": "4"
                                },
                                {
                                    "ufarquivo": "PE",
                                    "anoarquivo": "2020",
                                    "causabas": "E149",
                                    "causabasdesccat": "Diabetes mellitus não especificado",
                                    "contador": "700",
                                    "ranking": "5"
                                },
                                {
                                    "ufarquivo": "PE",
                                    "anoarquivo": "2021",
                                    "causabas": "B342",
                                    "causabasdesccat": "Doenças por vírus, de localização não especificada",
                                    "contador": "6335",
                                    "ranking": "1"
                                },
                                {
                                    "ufarquivo": "PE",
                                    "anoarquivo": "2021",
                                    "causabas": "I219",
                                    "causabasdesccat": "Infarto agudo do miocárdio",
                                    "contador": "1894",
                                    "ranking": "2"
                                },
                                {
                                    "ufarquivo": "PE",
                                    "anoarquivo": "2021",
                                    "causabas": "X954",
                                    "causabasdesccat": "Agressão por meio de disparo de outra arma de fogo ou de arma não especificada",
                                    "contador": "1359",
                                    "ranking": "3"
                                },
                                {
                                    "ufarquivo": "PE",
                                    "anoarquivo": "2021",
                                    "causabas": "J988",
                                    "causabasdesccat": "Outros transtornos respiratórios",
                                    "contador": "1134",
                                    "ranking": "4"
                                },
                                {
                                    "ufarquivo": "PE",
                                    "anoarquivo": "2021",
                                    "causabas": "I10 ",
                                    "causabasdesccat": "Hipertensão essencial (primária)",
                                    "contador": "858",
                                    "ranking": "5"
                                },
                                {
                                    "ufarquivo": "PI",
                                    "anoarquivo": "2019",
                                    "causabas": "I219",
                                    "causabasdesccat": "Infarto agudo do miocárdio",
                                    "contador": "862",
                                    "ranking": "1"
                                },
                                {
                                    "ufarquivo": "PI",
                                    "anoarquivo": "2019",
                                    "causabas": "J189",
                                    "causabasdesccat": "Pneumonia por microorganismo não especificada",
                                    "contador": "455",
                                    "ranking": "2"
                                },
                                {
                                    "ufarquivo": "PI",
                                    "anoarquivo": "2019",
                                    "causabas": "I64 ",
                                    "causabasdesccat": "Acidente vascular cerebral, não especificado como hemorrágico ou isquêmico",
                                    "contador": "433",
                                    "ranking": "3"
                                },
                                {
                                    "ufarquivo": "PI",
                                    "anoarquivo": "2019",
                                    "causabas": "E149",
                                    "causabasdesccat": "Diabetes mellitus não especificado",
                                    "contador": "355",
                                    "ranking": "4"
                                },
                                {
                                    "ufarquivo": "PI",
                                    "anoarquivo": "2019",
                                    "causabas": "I10 ",
                                    "causabasdesccat": "Hipertensão essencial (primária)",
                                    "contador": "278",
                                    "ranking": "5"
                                },
                                {
                                    "ufarquivo": "PI",
                                    "anoarquivo": "2020",
                                    "causabas": "B342",
                                    "causabasdesccat": "Doenças por vírus, de localização não especificada",
                                    "contador": "1276",
                                    "ranking": "1"
                                },
                                {
                                    "ufarquivo": "PI",
                                    "anoarquivo": "2020",
                                    "causabas": "I219",
                                    "causabasdesccat": "Infarto agudo do miocárdio",
                                    "contador": "961",
                                    "ranking": "2"
                                },
                                {
                                    "ufarquivo": "PI",
                                    "anoarquivo": "2020",
                                    "causabas": "I64 ",
                                    "causabasdesccat": "Acidente vascular cerebral, não especificado como hemorrágico ou isquêmico",
                                    "contador": "413",
                                    "ranking": "3"
                                },
                                {
                                    "ufarquivo": "PI",
                                    "anoarquivo": "2020",
                                    "causabas": "I10 ",
                                    "causabasdesccat": "Hipertensão essencial (primária)",
                                    "contador": "362",
                                    "ranking": "4"
                                },
                                {
                                    "ufarquivo": "PI",
                                    "anoarquivo": "2020",
                                    "causabas": "E149",
                                    "causabasdesccat": "Diabetes mellitus não especificado",
                                    "contador": "326",
                                    "ranking": "5"
                                },
                                {
                                    "ufarquivo": "PI",
                                    "anoarquivo": "2021",
                                    "causabas": "B342",
                                    "causabasdesccat": "Doenças por vírus, de localização não especificada",
                                    "contador": "2564",
                                    "ranking": "1"
                                },
                                {
                                    "ufarquivo": "PI",
                                    "anoarquivo": "2021",
                                    "causabas": "I219",
                                    "causabasdesccat": "Infarto agudo do miocárdio",
                                    "contador": "946",
                                    "ranking": "2"
                                },
                                {
                                    "ufarquivo": "PI",
                                    "anoarquivo": "2021",
                                    "causabas": "I64 ",
                                    "causabasdesccat": "Acidente vascular cerebral, não especificado como hemorrágico ou isquêmico",
                                    "contador": "459",
                                    "ranking": "3"
                                },
                                {
                                    "ufarquivo": "PI",
                                    "anoarquivo": "2021",
                                    "causabas": "I10 ",
                                    "causabasdesccat": "Hipertensão essencial (primária)",
                                    "contador": "389",
                                    "ranking": "4"
                                },
                                {
                                    "ufarquivo": "PI",
                                    "anoarquivo": "2021",
                                    "causabas": "J189",
                                    "causabasdesccat": "Pneumonia por microorganismo não especificada",
                                    "contador": "365",
                                    "ranking": "5"
                                },
                                {
                                    "ufarquivo": "PR",
                                    "anoarquivo": "2019",
                                    "causabas": "I219",
                                    "causabasdesccat": "Infarto agudo do miocárdio",
                                    "contador": "2314",
                                    "ranking": "1"
                                },
                                {
                                    "ufarquivo": "PR",
                                    "anoarquivo": "2019",
                                    "causabas": "J189",
                                    "causabasdesccat": "Pneumonia por microorganismo não especificada",
                                    "contador": "1078",
                                    "ranking": "2"
                                },
                                {
                                    "ufarquivo": "PR",
                                    "anoarquivo": "2019",
                                    "causabas": "C349",
                                    "causabasdesccat": "Neoplasia maligna dos brônquios e dos pulmões",
                                    "contador": "967",
                                    "ranking": "3"
                                },
                                {
                                    "ufarquivo": "PR",
                                    "anoarquivo": "2019",
                                    "causabas": "I64 ",
                                    "causabasdesccat": "Acidente vascular cerebral, não especificado como hemorrágico ou isquêmico",
                                    "contador": "842",
                                    "ranking": "4"
                                },
                                {
                                    "ufarquivo": "PR",
                                    "anoarquivo": "2019",
                                    "causabas": "I10 ",
                                    "causabasdesccat": "Hipertensão essencial (primária)",
                                    "contador": "755",
                                    "ranking": "5"
                                },
                                {
                                    "ufarquivo": "PR",
                                    "anoarquivo": "2020",
                                    "causabas": "B342",
                                    "causabasdesccat": "Doenças por vírus, de localização não especificada",
                                    "contador": "4514",
                                    "ranking": "1"
                                },
                                {
                                    "ufarquivo": "PR",
                                    "anoarquivo": "2020",
                                    "causabas": "I219",
                                    "causabasdesccat": "Infarto agudo do miocárdio",
                                    "contador": "2234",
                                    "ranking": "2"
                                },
                                {
                                    "ufarquivo": "PR",
                                    "anoarquivo": "2020",
                                    "causabas": "C349",
                                    "causabasdesccat": "Neoplasia maligna dos brônquios e dos pulmões",
                                    "contador": "952",
                                    "ranking": "3"
                                },
                                {
                                    "ufarquivo": "PR",
                                    "anoarquivo": "2020",
                                    "causabas": "I10 ",
                                    "causabasdesccat": "Hipertensão essencial (primária)",
                                    "contador": "888",
                                    "ranking": "4"
                                },
                                {
                                    "ufarquivo": "PR",
                                    "anoarquivo": "2020",
                                    "causabas": "J189",
                                    "causabasdesccat": "Pneumonia por microorganismo não especificada",
                                    "contador": "816",
                                    "ranking": "5"
                                },
                                {
                                    "ufarquivo": "PR",
                                    "anoarquivo": "2021",
                                    "causabas": "B342",
                                    "causabasdesccat": "Doenças por vírus, de localização não especificada",
                                    "contador": "18093",
                                    "ranking": "1"
                                },
                                {
                                    "ufarquivo": "PR",
                                    "anoarquivo": "2021",
                                    "causabas": "I219",
                                    "causabasdesccat": "Infarto agudo do miocárdio",
                                    "contador": "2273",
                                    "ranking": "2"
                                },
                                {
                                    "ufarquivo": "PR",
                                    "anoarquivo": "2021",
                                    "causabas": "I10 ",
                                    "causabasdesccat": "Hipertensão essencial (primária)",
                                    "contador": "1074",
                                    "ranking": "3"
                                },
                                {
                                    "ufarquivo": "PR",
                                    "anoarquivo": "2021",
                                    "causabas": "C349",
                                    "causabasdesccat": "Neoplasia maligna dos brônquios e dos pulmões",
                                    "contador": "905",
                                    "ranking": "4"
                                },
                                {
                                    "ufarquivo": "PR",
                                    "anoarquivo": "2021",
                                    "causabas": "J189",
                                    "causabasdesccat": "Pneumonia por microorganismo não especificada",
                                    "contador": "808",
                                    "ranking": "5"
                                },
                                {
                                    "ufarquivo": "RJ",
                                    "anoarquivo": "2019",
                                    "causabas": "I219",
                                    "causabasdesccat": "Infarto agudo do miocárdio",
                                    "contador": "3451",
                                    "ranking": "1"
                                },
                                {
                                    "ufarquivo": "RJ",
                                    "anoarquivo": "2019",
                                    "causabas": "R99 ",
                                    "causabasdesccat": "Outras causas mal definidas e as não especificadas de mortalidade",
                                    "contador": "2653",
                                    "ranking": "2"
                                },
                                {
                                    "ufarquivo": "RJ",
                                    "anoarquivo": "2019",
                                    "causabas": "J189",
                                    "causabasdesccat": "Pneumonia por microorganismo não especificada",
                                    "contador": "2488",
                                    "ranking": "3"
                                },
                                {
                                    "ufarquivo": "RJ",
                                    "anoarquivo": "2019",
                                    "causabas": "A419",
                                    "causabasdesccat": "Outras septicemias",
                                    "contador": "1283",
                                    "ranking": "4"
                                },
                                {
                                    "ufarquivo": "RJ",
                                    "anoarquivo": "2019",
                                    "causabas": "C349",
                                    "causabasdesccat": "Neoplasia maligna dos brônquios e dos pulmões",
                                    "contador": "1143",
                                    "ranking": "5"
                                },
                                {
                                    "ufarquivo": "RJ",
                                    "anoarquivo": "2020",
                                    "causabas": "B342",
                                    "causabasdesccat": "Doenças por vírus, de localização não especificada",
                                    "contador": "11734",
                                    "ranking": "1"
                                },
                                {
                                    "ufarquivo": "RJ",
                                    "anoarquivo": "2020",
                                    "causabas": "R99 ",
                                    "causabasdesccat": "Outras causas mal definidas e as não especificadas de mortalidade",
                                    "contador": "3468",
                                    "ranking": "2"
                                },
                                {
                                    "ufarquivo": "RJ",
                                    "anoarquivo": "2020",
                                    "causabas": "I219",
                                    "causabasdesccat": "Infarto agudo do miocárdio",
                                    "contador": "3312",
                                    "ranking": "3"
                                },
                                {
                                    "ufarquivo": "RJ",
                                    "anoarquivo": "2020",
                                    "causabas": "J189",
                                    "causabasdesccat": "Pneumonia por microorganismo não especificada",
                                    "contador": "1788",
                                    "ranking": "4"
                                },
                                {
                                    "ufarquivo": "RJ",
                                    "anoarquivo": "2020",
                                    "causabas": "I10 ",
                                    "causabasdesccat": "Hipertensão essencial (primária)",
                                    "contador": "1398",
                                    "ranking": "5"
                                },
                                {
                                    "ufarquivo": "RN",
                                    "anoarquivo": "2019",
                                    "causabas": "I219",
                                    "causabasdesccat": "Infarto agudo do miocárdio",
                                    "contador": "740",
                                    "ranking": "1"
                                },
                                {
                                    "ufarquivo": "RN",
                                    "anoarquivo": "2019",
                                    "causabas": "J189",
                                    "causabasdesccat": "Pneumonia por microorganismo não especificada",
                                    "contador": "248",
                                    "ranking": "2"
                                },
                                {
                                    "ufarquivo": "RN",
                                    "anoarquivo": "2019",
                                    "causabas": "X954",
                                    "causabasdesccat": "Agressão por meio de disparo de outra arma de fogo ou de arma não especificada",
                                    "contador": "203",
                                    "ranking": "3"
                                },
                                {
                                    "ufarquivo": "RN",
                                    "anoarquivo": "2019",
                                    "causabas": "C349",
                                    "causabasdesccat": "Neoplasia maligna dos brônquios e dos pulmões",
                                    "contador": "170",
                                    "ranking": "4"
                                },
                                {
                                    "ufarquivo": "RN",
                                    "anoarquivo": "2019",
                                    "causabas": "I64 ",
                                    "causabasdesccat": "Acidente vascular cerebral, não especificado como hemorrágico ou isquêmico",
                                    "contador": "166",
                                    "ranking": "5"
                                },
                                {
                                    "ufarquivo": "RN",
                                    "anoarquivo": "2020",
                                    "causabas": "B342",
                                    "causabasdesccat": "Doenças por vírus, de localização não especificada",
                                    "contador": "986",
                                    "ranking": "1"
                                },
                                {
                                    "ufarquivo": "RN",
                                    "anoarquivo": "2020",
                                    "causabas": "I219",
                                    "causabasdesccat": "Infarto agudo do miocárdio",
                                    "contador": "696",
                                    "ranking": "2"
                                },
                                {
                                    "ufarquivo": "RN",
                                    "anoarquivo": "2020",
                                    "causabas": "X954",
                                    "causabasdesccat": "Agressão por meio de disparo de outra arma de fogo ou de arma não especificada",
                                    "contador": "252",
                                    "ranking": "3"
                                },
                                {
                                    "ufarquivo": "RN",
                                    "anoarquivo": "2020",
                                    "causabas": "R99 ",
                                    "causabasdesccat": "Outras causas mal definidas e as não especificadas de mortalidade",
                                    "contador": "209",
                                    "ranking": "4"
                                },
                                {
                                    "ufarquivo": "RN",
                                    "anoarquivo": "2020",
                                    "causabas": "J189",
                                    "causabasdesccat": "Pneumonia por microorganismo não especificada",
                                    "contador": "177",
                                    "ranking": "5"
                                },
                                {
                                    "ufarquivo": "RN",
                                    "anoarquivo": "2021",
                                    "causabas": "B342",
                                    "causabasdesccat": "Doenças por vírus, de localização não especificada",
                                    "contador": "1898",
                                    "ranking": "1"
                                },
                                {
                                    "ufarquivo": "RN",
                                    "anoarquivo": "2021",
                                    "causabas": "I219",
                                    "causabasdesccat": "Infarto agudo do miocárdio",
                                    "contador": "680",
                                    "ranking": "2"
                                },
                                {
                                    "ufarquivo": "RN",
                                    "anoarquivo": "2021",
                                    "causabas": "R99 ",
                                    "causabasdesccat": "Outras causas mal definidas e as não especificadas de mortalidade",
                                    "contador": "233",
                                    "ranking": "3"
                                },
                                {
                                    "ufarquivo": "RN",
                                    "anoarquivo": "2021",
                                    "causabas": "X954",
                                    "causabasdesccat": "Agressão por meio de disparo de outra arma de fogo ou de arma não especificada",
                                    "contador": "196",
                                    "ranking": "4"
                                },
                                {
                                    "ufarquivo": "RN",
                                    "anoarquivo": "2021",
                                    "causabas": "J189",
                                    "causabasdesccat": "Pneumonia por microorganismo não especificada",
                                    "contador": "194",
                                    "ranking": "5"
                                },
                                {
                                    "ufarquivo": "RO",
                                    "anoarquivo": "2019",
                                    "causabas": "I219",
                                    "causabasdesccat": "Infarto agudo do miocárdio",
                                    "contador": "161",
                                    "ranking": "1"
                                },
                                {
                                    "ufarquivo": "RO",
                                    "anoarquivo": "2019",
                                    "causabas": "R99 ",
                                    "causabasdesccat": "Outras causas mal definidas e as não especificadas de mortalidade",
                                    "contador": "107",
                                    "ranking": "2"
                                },
                                {
                                    "ufarquivo": "RO",
                                    "anoarquivo": "2019",
                                    "causabas": "X954",
                                    "causabasdesccat": "Agressão por meio de disparo de outra arma de fogo ou de arma não especificada",
                                    "contador": "79",
                                    "ranking": "3"
                                },
                                {
                                    "ufarquivo": "RO",
                                    "anoarquivo": "2019",
                                    "causabas": "J189",
                                    "causabasdesccat": "Pneumonia por microorganismo não especificada",
                                    "contador": "68",
                                    "ranking": "4"
                                },
                                {
                                    "ufarquivo": "RO",
                                    "anoarquivo": "2019",
                                    "causabas": "C349",
                                    "causabasdesccat": "Neoplasia maligna dos brônquios e dos pulmões",
                                    "contador": "56",
                                    "ranking": "5"
                                },
                                {
                                    "ufarquivo": "RO",
                                    "anoarquivo": "2020",
                                    "causabas": "B342",
                                    "causabasdesccat": "Doenças por vírus, de localização não especificada",
                                    "contador": "785",
                                    "ranking": "1"
                                },
                                {
                                    "ufarquivo": "RO",
                                    "anoarquivo": "2020",
                                    "causabas": "I219",
                                    "causabasdesccat": "Infarto agudo do miocárdio",
                                    "contador": "167",
                                    "ranking": "2"
                                },
                                {
                                    "ufarquivo": "RO",
                                    "anoarquivo": "2020",
                                    "causabas": "R99 ",
                                    "causabasdesccat": "Outras causas mal definidas e as não especificadas de mortalidade",
                                    "contador": "89",
                                    "ranking": "3"
                                },
                                {
                                    "ufarquivo": "RO",
                                    "anoarquivo": "2020",
                                    "causabas": "C349",
                                    "causabasdesccat": "Neoplasia maligna dos brônquios e dos pulmões",
                                    "contador": "59",
                                    "ranking": "4"
                                },
                                {
                                    "ufarquivo": "RO",
                                    "anoarquivo": "2020",
                                    "causabas": "J189",
                                    "causabasdesccat": "Pneumonia por microorganismo não especificada",
                                    "contador": "56",
                                    "ranking": "5"
                                },
                                {
                                    "ufarquivo": "RO",
                                    "anoarquivo": "2021",
                                    "causabas": "B342",
                                    "causabasdesccat": "Doenças por vírus, de localização não especificada",
                                    "contador": "1897",
                                    "ranking": "1"
                                },
                                {
                                    "ufarquivo": "RO",
                                    "anoarquivo": "2021",
                                    "causabas": "I219",
                                    "causabasdesccat": "Infarto agudo do miocárdio",
                                    "contador": "168",
                                    "ranking": "2"
                                },
                                {
                                    "ufarquivo": "RO",
                                    "anoarquivo": "2021",
                                    "causabas": "R99 ",
                                    "causabasdesccat": "Outras causas mal definidas e as não especificadas de mortalidade",
                                    "contador": "122",
                                    "ranking": "3"
                                },
                                {
                                    "ufarquivo": "RO",
                                    "anoarquivo": "2021",
                                    "causabas": "X954",
                                    "causabasdesccat": "Agressão por meio de disparo de outra arma de fogo ou de arma não especificada",
                                    "contador": "78",
                                    "ranking": "4"
                                },
                                {
                                    "ufarquivo": "RO",
                                    "anoarquivo": "2021",
                                    "causabas": "I10 ",
                                    "causabasdesccat": "Hipertensão essencial (primária)",
                                    "contador": "68",
                                    "ranking": "5"
                                },
                                {
                                    "ufarquivo": "RR",
                                    "anoarquivo": "2019",
                                    "causabas": "I219",
                                    "causabasdesccat": "Infarto agudo do miocárdio",
                                    "contador": "94",
                                    "ranking": "1"
                                },
                                {
                                    "ufarquivo": "RR",
                                    "anoarquivo": "2019",
                                    "causabas": "I638",
                                    "causabasdesccat": "Infarto cerebral",
                                    "contador": "56",
                                    "ranking": "2"
                                },
                                {
                                    "ufarquivo": "RR",
                                    "anoarquivo": "2019",
                                    "causabas": "I619",
                                    "causabasdesccat": "Hemorragia intracerebral",
                                    "contador": "36",
                                    "ranking": "3"
                                },
                                {
                                    "ufarquivo": "RR",
                                    "anoarquivo": "2019",
                                    "causabas": "X959",
                                    "causabasdesccat": "Agressão por meio de disparo de outra arma de fogo ou de arma não especificada",
                                    "contador": "33",
                                    "ranking": "4"
                                },
                                {
                                    "ufarquivo": "RR",
                                    "anoarquivo": "2019",
                                    "causabas": "J440",
                                    "causabasdesccat": "Outras doenças pulmonares obstrutivas crônicas",
                                    "contador": "32",
                                    "ranking": "5"
                                },
                                {
                                    "ufarquivo": "RR",
                                    "anoarquivo": "2020",
                                    "causabas": "B342",
                                    "causabasdesccat": "Doenças por vírus, de localização não especificada",
                                    "contador": "490",
                                    "ranking": "1"
                                },
                                {
                                    "ufarquivo": "RR",
                                    "anoarquivo": "2020",
                                    "causabas": "I219",
                                    "causabasdesccat": "Infarto agudo do miocárdio",
                                    "contador": "78",
                                    "ranking": "2"
                                },
                                {
                                    "ufarquivo": "RR",
                                    "anoarquivo": "2020",
                                    "causabas": "X959",
                                    "causabasdesccat": "Agressão por meio de disparo de outra arma de fogo ou de arma não especificada",
                                    "contador": "31",
                                    "ranking": "3"
                                },
                                {
                                    "ufarquivo": "RR",
                                    "anoarquivo": "2020",
                                    "causabas": "Y349",
                                    "causabasdesccat": "Fatos ou eventos não especificados e intenção não determinada",
                                    "contador": "29",
                                    "ranking": "4"
                                },
                                {
                                    "ufarquivo": "RR",
                                    "anoarquivo": "2020",
                                    "causabas": "I638",
                                    "causabasdesccat": "Infarto cerebral",
                                    "contador": "28",
                                    "ranking": "5"
                                },
                                {
                                    "ufarquivo": "RR",
                                    "anoarquivo": "2021",
                                    "causabas": "B342",
                                    "causabasdesccat": "Doenças por vírus, de localização não especificada",
                                    "contador": "819",
                                    "ranking": "1"
                                },
                                {
                                    "ufarquivo": "RR",
                                    "anoarquivo": "2021",
                                    "causabas": "I219",
                                    "causabasdesccat": "Infarto agudo do miocárdio",
                                    "contador": "110",
                                    "ranking": "2"
                                },
                                {
                                    "ufarquivo": "RR",
                                    "anoarquivo": "2021",
                                    "causabas": "X959",
                                    "causabasdesccat": "Agressão por meio de disparo de outra arma de fogo ou de arma não especificada",
                                    "contador": "37",
                                    "ranking": "3"
                                },
                                {
                                    "ufarquivo": "RR",
                                    "anoarquivo": "2021",
                                    "causabas": "I638",
                                    "causabasdesccat": "Infarto cerebral",
                                    "contador": "35",
                                    "ranking": "4"
                                },
                                {
                                    "ufarquivo": "RR",
                                    "anoarquivo": "2021",
                                    "causabas": "J189",
                                    "causabasdesccat": "Pneumonia por microorganismo não especificada",
                                    "contador": "32",
                                    "ranking": "5"
                                },
                                {
                                    "ufarquivo": "RS",
                                    "anoarquivo": "2019",
                                    "causabas": "I219",
                                    "causabasdesccat": "Infarto agudo do miocárdio",
                                    "contador": "1689",
                                    "ranking": "1"
                                },
                                {
                                    "ufarquivo": "RS",
                                    "anoarquivo": "2019",
                                    "causabas": "C349",
                                    "causabasdesccat": "Neoplasia maligna dos brônquios e dos pulmões",
                                    "contador": "1122",
                                    "ranking": "2"
                                },
                                {
                                    "ufarquivo": "RS",
                                    "anoarquivo": "2019",
                                    "causabas": "R99 ",
                                    "causabasdesccat": "Outras causas mal definidas e as não especificadas de mortalidade",
                                    "contador": "1001",
                                    "ranking": "3"
                                },
                                {
                                    "ufarquivo": "RS",
                                    "anoarquivo": "2019",
                                    "causabas": "E149",
                                    "causabasdesccat": "Diabetes mellitus não especificado",
                                    "contador": "609",
                                    "ranking": "4"
                                },
                                {
                                    "ufarquivo": "RS",
                                    "anoarquivo": "2019",
                                    "causabas": "J449",
                                    "causabasdesccat": "Outras doenças pulmonares obstrutivas crônicas",
                                    "contador": "560",
                                    "ranking": "5"
                                },
                                {
                                    "ufarquivo": "RS",
                                    "anoarquivo": "2020",
                                    "causabas": "B342",
                                    "causabasdesccat": "Doenças por vírus, de localização não especificada",
                                    "contador": "2410",
                                    "ranking": "1"
                                },
                                {
                                    "ufarquivo": "RS",
                                    "anoarquivo": "2020",
                                    "causabas": "I219",
                                    "causabasdesccat": "Infarto agudo do miocárdio",
                                    "contador": "1603",
                                    "ranking": "2"
                                },
                                {
                                    "ufarquivo": "RS",
                                    "anoarquivo": "2020",
                                    "causabas": "C349",
                                    "causabasdesccat": "Neoplasia maligna dos brônquios e dos pulmões",
                                    "contador": "1012",
                                    "ranking": "3"
                                },
                                {
                                    "ufarquivo": "RS",
                                    "anoarquivo": "2020",
                                    "causabas": "R99 ",
                                    "causabasdesccat": "Outras causas mal definidas e as não especificadas de mortalidade",
                                    "contador": "975",
                                    "ranking": "4"
                                },
                                {
                                    "ufarquivo": "RS",
                                    "anoarquivo": "2020",
                                    "causabas": "I639",
                                    "causabasdesccat": "Infarto cerebral",
                                    "contador": "534",
                                    "ranking": "5"
                                },
                                {
                                    "ufarquivo": "RS",
                                    "anoarquivo": "2021",
                                    "causabas": "B342",
                                    "causabasdesccat": "Doenças por vírus, de localização não especificada",
                                    "contador": "9301",
                                    "ranking": "1"
                                },
                                {
                                    "ufarquivo": "RS",
                                    "anoarquivo": "2021",
                                    "causabas": "I219",
                                    "causabasdesccat": "Infarto agudo do miocárdio",
                                    "contador": "1661",
                                    "ranking": "2"
                                },
                                {
                                    "ufarquivo": "RS",
                                    "anoarquivo": "2021",
                                    "causabas": "C349",
                                    "causabasdesccat": "Neoplasia maligna dos brônquios e dos pulmões",
                                    "contador": "1073",
                                    "ranking": "3"
                                },
                                {
                                    "ufarquivo": "RS",
                                    "anoarquivo": "2021",
                                    "causabas": "R99 ",
                                    "causabasdesccat": "Outras causas mal definidas e as não especificadas de mortalidade",
                                    "contador": "1046",
                                    "ranking": "4"
                                },
                                {
                                    "ufarquivo": "RS",
                                    "anoarquivo": "2021",
                                    "causabas": "I639",
                                    "causabasdesccat": "Infarto cerebral",
                                    "contador": "617",
                                    "ranking": "5"
                                },
                                {
                                    "ufarquivo": "SC",
                                    "anoarquivo": "2019",
                                    "causabas": "I219",
                                    "causabasdesccat": "Infarto agudo do miocárdio",
                                    "contador": "1293",
                                    "ranking": "1"
                                },
                                {
                                    "ufarquivo": "SC",
                                    "anoarquivo": "2019",
                                    "causabas": "C349",
                                    "causabasdesccat": "Neoplasia maligna dos brônquios e dos pulmões",
                                    "contador": "721",
                                    "ranking": "2"
                                },
                                {
                                    "ufarquivo": "SC",
                                    "anoarquivo": "2019",
                                    "causabas": "I64 ",
                                    "causabasdesccat": "Acidente vascular cerebral, não especificado como hemorrágico ou isquêmico",
                                    "contador": "477",
                                    "ranking": "3"
                                },
                                {
                                    "ufarquivo": "SC",
                                    "anoarquivo": "2019",
                                    "causabas": "J189",
                                    "causabasdesccat": "Pneumonia por microorganismo não especificada",
                                    "contador": "397",
                                    "ranking": "4"
                                },
                                {
                                    "ufarquivo": "SC",
                                    "anoarquivo": "2019",
                                    "causabas": "X700",
                                    "causabasdesccat": "Lesão autoprovocada intencionalmente por enforcamento, estrangulamento e sufocação",
                                    "contador": "352",
                                    "ranking": "5"
                                },
                                {
                                    "ufarquivo": "SC",
                                    "anoarquivo": "2020",
                                    "causabas": "B342",
                                    "causabasdesccat": "Doenças por vírus, de localização não especificada",
                                    "contador": "2403",
                                    "ranking": "1"
                                },
                                {
                                    "ufarquivo": "SC",
                                    "anoarquivo": "2020",
                                    "causabas": "I219",
                                    "causabasdesccat": "Infarto agudo do miocárdio",
                                    "contador": "1257",
                                    "ranking": "2"
                                },
                                {
                                    "ufarquivo": "SC",
                                    "anoarquivo": "2020",
                                    "causabas": "C349",
                                    "causabasdesccat": "Neoplasia maligna dos brônquios e dos pulmões",
                                    "contador": "687",
                                    "ranking": "3"
                                },
                                {
                                    "ufarquivo": "SC",
                                    "anoarquivo": "2020",
                                    "causabas": "I64 ",
                                    "causabasdesccat": "Acidente vascular cerebral, não especificado como hemorrágico ou isquêmico",
                                    "contador": "428",
                                    "ranking": "4"
                                },
                                {
                                    "ufarquivo": "SC",
                                    "anoarquivo": "2020",
                                    "causabas": "I10 ",
                                    "causabasdesccat": "Hipertensão essencial (primária)",
                                    "contador": "377",
                                    "ranking": "5"
                                },
                                {
                                    "ufarquivo": "SC",
                                    "anoarquivo": "2021",
                                    "causabas": "B342",
                                    "causabasdesccat": "Doenças por vírus, de localização não especificada",
                                    "contador": "7052",
                                    "ranking": "1"
                                },
                                {
                                    "ufarquivo": "SC",
                                    "anoarquivo": "2021",
                                    "causabas": "I219",
                                    "causabasdesccat": "Infarto agudo do miocárdio",
                                    "contador": "1285",
                                    "ranking": "2"
                                },
                                {
                                    "ufarquivo": "SC",
                                    "anoarquivo": "2021",
                                    "causabas": "C349",
                                    "causabasdesccat": "Neoplasia maligna dos brônquios e dos pulmões",
                                    "contador": "700",
                                    "ranking": "3"
                                },
                                {
                                    "ufarquivo": "SC",
                                    "anoarquivo": "2021",
                                    "causabas": "I64 ",
                                    "causabasdesccat": "Acidente vascular cerebral, não especificado como hemorrágico ou isquêmico",
                                    "contador": "478",
                                    "ranking": "4"
                                },
                                {
                                    "ufarquivo": "SC",
                                    "anoarquivo": "2021",
                                    "causabas": "I10 ",
                                    "causabasdesccat": "Hipertensão essencial (primária)",
                                    "contador": "465",
                                    "ranking": "5"
                                },
                                {
                                    "ufarquivo": "SE",
                                    "anoarquivo": "2019",
                                    "causabas": "X954",
                                    "causabasdesccat": "Agressão por meio de disparo de outra arma de fogo ou de arma não especificada",
                                    "contador": "440",
                                    "ranking": "1"
                                },
                                {
                                    "ufarquivo": "SE",
                                    "anoarquivo": "2019",
                                    "causabas": "I219",
                                    "causabasdesccat": "Infarto agudo do miocárdio",
                                    "contador": "362",
                                    "ranking": "2"
                                },
                                {
                                    "ufarquivo": "SE",
                                    "anoarquivo": "2019",
                                    "causabas": "R99 ",
                                    "causabasdesccat": "Outras causas mal definidas e as não especificadas de mortalidade",
                                    "contador": "270",
                                    "ranking": "3"
                                },
                                {
                                    "ufarquivo": "SE",
                                    "anoarquivo": "2019",
                                    "causabas": "J189",
                                    "causabasdesccat": "Pneumonia por microorganismo não especificada",
                                    "contador": "221",
                                    "ranking": "4"
                                },
                                {
                                    "ufarquivo": "SE",
                                    "anoarquivo": "2019",
                                    "causabas": "I10 ",
                                    "causabasdesccat": "Hipertensão essencial (primária)",
                                    "contador": "181",
                                    "ranking": "5"
                                },
                                {
                                    "ufarquivo": "SE",
                                    "anoarquivo": "2020",
                                    "causabas": "B342",
                                    "causabasdesccat": "Doenças por vírus, de localização não especificada",
                                    "contador": "1183",
                                    "ranking": "1"
                                },
                                {
                                    "ufarquivo": "SE",
                                    "anoarquivo": "2020",
                                    "causabas": "X954",
                                    "causabasdesccat": "Agressão por meio de disparo de outra arma de fogo ou de arma não especificada",
                                    "contador": "487",
                                    "ranking": "2"
                                },
                                {
                                    "ufarquivo": "SE",
                                    "anoarquivo": "2020",
                                    "causabas": "I219",
                                    "causabasdesccat": "Infarto agudo do miocárdio",
                                    "contador": "377",
                                    "ranking": "3"
                                },
                                {
                                    "ufarquivo": "SE",
                                    "anoarquivo": "2020",
                                    "causabas": "R99 ",
                                    "causabasdesccat": "Outras causas mal definidas e as não especificadas de mortalidade",
                                    "contador": "360",
                                    "ranking": "4"
                                },
                                {
                                    "ufarquivo": "SE",
                                    "anoarquivo": "2020",
                                    "causabas": "I10 ",
                                    "causabasdesccat": "Hipertensão essencial (primária)",
                                    "contador": "223",
                                    "ranking": "5"
                                },
                                {
                                    "ufarquivo": "SE",
                                    "anoarquivo": "2021",
                                    "causabas": "B342",
                                    "causabasdesccat": "Doenças por vírus, de localização não especificada",
                                    "contador": "1977",
                                    "ranking": "1"
                                },
                                {
                                    "ufarquivo": "SE",
                                    "anoarquivo": "2021",
                                    "causabas": "I219",
                                    "causabasdesccat": "Infarto agudo do miocárdio",
                                    "contador": "418",
                                    "ranking": "2"
                                },
                                {
                                    "ufarquivo": "SE",
                                    "anoarquivo": "2021",
                                    "causabas": "X954",
                                    "causabasdesccat": "Agressão por meio de disparo de outra arma de fogo ou de arma não especificada",
                                    "contador": "411",
                                    "ranking": "3"
                                },
                                {
                                    "ufarquivo": "SE",
                                    "anoarquivo": "2021",
                                    "causabas": "R99 ",
                                    "causabasdesccat": "Outras causas mal definidas e as não especificadas de mortalidade",
                                    "contador": "364",
                                    "ranking": "4"
                                },
                                {
                                    "ufarquivo": "SE",
                                    "anoarquivo": "2021",
                                    "causabas": "I10 ",
                                    "causabasdesccat": "Hipertensão essencial (primária)",
                                    "contador": "285",
                                    "ranking": "5"
                                },
                                {
                                    "ufarquivo": "SP",
                                    "anoarquivo": "2019",
                                    "causabas": "I219",
                                    "causabasdesccat": "Infarto agudo do miocárdio",
                                    "contador": "9098",
                                    "ranking": "1"
                                },
                                {
                                    "ufarquivo": "SP",
                                    "anoarquivo": "2019",
                                    "causabas": "J189",
                                    "causabasdesccat": "Pneumonia por microorganismo não especificada",
                                    "contador": "2977",
                                    "ranking": "2"
                                },
                                {
                                    "ufarquivo": "SP",
                                    "anoarquivo": "2019",
                                    "causabas": "R99 ",
                                    "causabasdesccat": "Outras causas mal definidas e as não especificadas de mortalidade",
                                    "contador": "2685",
                                    "ranking": "3"
                                },
                                {
                                    "ufarquivo": "SP",
                                    "anoarquivo": "2019",
                                    "causabas": "C349",
                                    "causabasdesccat": "Neoplasia maligna dos brônquios e dos pulmões",
                                    "contador": "2646",
                                    "ranking": "4"
                                },
                                {
                                    "ufarquivo": "SP",
                                    "anoarquivo": "2019",
                                    "causabas": "J180",
                                    "causabasdesccat": "Pneumonia por microorganismo não especificada",
                                    "contador": "2144",
                                    "ranking": "5"
                                },
                                {
                                    "ufarquivo": "SP",
                                    "anoarquivo": "2020",
                                    "causabas": "B342",
                                    "causabasdesccat": "Doenças por vírus, de localização não especificada",
                                    "contador": "16676",
                                    "ranking": "1"
                                },
                                {
                                    "ufarquivo": "SP",
                                    "anoarquivo": "2020",
                                    "causabas": "I219",
                                    "causabasdesccat": "Infarto agudo do miocárdio",
                                    "contador": "8074",
                                    "ranking": "2"
                                },
                                {
                                    "ufarquivo": "SP",
                                    "anoarquivo": "2020",
                                    "causabas": "R99 ",
                                    "causabasdesccat": "Outras causas mal definidas e as não especificadas de mortalidade",
                                    "contador": "3778",
                                    "ranking": "3"
                                },
                                {
                                    "ufarquivo": "SP",
                                    "anoarquivo": "2020",
                                    "causabas": "J988",
                                    "causabasdesccat": "Outros transtornos respiratórios",
                                    "contador": "3018",
                                    "ranking": "4"
                                },
                                {
                                    "ufarquivo": "SP",
                                    "anoarquivo": "2020",
                                    "causabas": "C349",
                                    "causabasdesccat": "Neoplasia maligna dos brônquios e dos pulmões",
                                    "contador": "2443",
                                    "ranking": "5"
                                },
                                {
                                    "ufarquivo": "SP",
                                    "anoarquivo": "2021",
                                    "causabas": "B342",
                                    "causabasdesccat": "Doenças por vírus, de localização não especificada",
                                    "contador": "42885",
                                    "ranking": "1"
                                },
                                {
                                    "ufarquivo": "SP",
                                    "anoarquivo": "2021",
                                    "causabas": "I219",
                                    "causabasdesccat": "Infarto agudo do miocárdio",
                                    "contador": "8942",
                                    "ranking": "2"
                                },
                                {
                                    "ufarquivo": "SP",
                                    "anoarquivo": "2021",
                                    "causabas": "R99 ",
                                    "causabasdesccat": "Outras causas mal definidas e as não especificadas de mortalidade",
                                    "contador": "3985",
                                    "ranking": "3"
                                },
                                {
                                    "ufarquivo": "SP",
                                    "anoarquivo": "2021",
                                    "causabas": "C349",
                                    "causabasdesccat": "Neoplasia maligna dos brônquios e dos pulmões",
                                    "contador": "2421",
                                    "ranking": "4"
                                },
                                {
                                    "ufarquivo": "SP",
                                    "anoarquivo": "2021",
                                    "causabas": "J189",
                                    "causabasdesccat": "Pneumonia por microorganismo não especificada",
                                    "contador": "2119",
                                    "ranking": "5"
                                },
                                {
                                    "ufarquivo": "TO",
                                    "anoarquivo": "2019",
                                    "causabas": "I219",
                                    "causabasdesccat": "Infarto agudo do miocárdio",
                                    "contador": "264",
                                    "ranking": "1"
                                },
                                {
                                    "ufarquivo": "TO",
                                    "anoarquivo": "2019",
                                    "causabas": "E149",
                                    "causabasdesccat": "Diabetes mellitus não especificado",
                                    "contador": "82",
                                    "ranking": "2"
                                },
                                {
                                    "ufarquivo": "TO",
                                    "anoarquivo": "2019",
                                    "causabas": "I64 ",
                                    "causabasdesccat": "Acidente vascular cerebral, não especificado como hemorrágico ou isquêmico",
                                    "contador": "81",
                                    "ranking": "3"
                                },
                                {
                                    "ufarquivo": "TO",
                                    "anoarquivo": "2019",
                                    "causabas": "I639",
                                    "causabasdesccat": "Infarto cerebral",
                                    "contador": "78",
                                    "ranking": "4"
                                },
                                {
                                    "ufarquivo": "TO",
                                    "anoarquivo": "2019",
                                    "causabas": "C349",
                                    "causabasdesccat": "Neoplasia maligna dos brônquios e dos pulmões",
                                    "contador": "78",
                                    "ranking": "4"
                                },
                                {
                                    "ufarquivo": "TO",
                                    "anoarquivo": "2020",
                                    "causabas": "B342",
                                    "causabasdesccat": "Doenças por vírus, de localização não especificada",
                                    "contador": "646",
                                    "ranking": "1"
                                },
                                {
                                    "ufarquivo": "TO",
                                    "anoarquivo": "2020",
                                    "causabas": "I219",
                                    "causabasdesccat": "Infarto agudo do miocárdio",
                                    "contador": "318",
                                    "ranking": "2"
                                },
                                {
                                    "ufarquivo": "TO",
                                    "anoarquivo": "2020",
                                    "causabas": "I64 ",
                                    "causabasdesccat": "Acidente vascular cerebral, não especificado como hemorrágico ou isquêmico",
                                    "contador": "106",
                                    "ranking": "3"
                                },
                                {
                                    "ufarquivo": "TO",
                                    "anoarquivo": "2020",
                                    "causabas": "I10 ",
                                    "causabasdesccat": "Hipertensão essencial (primária)",
                                    "contador": "100",
                                    "ranking": "4"
                                },
                                {
                                    "ufarquivo": "TO",
                                    "anoarquivo": "2020",
                                    "causabas": "E149",
                                    "causabasdesccat": "Diabetes mellitus não especificado",
                                    "contador": "78",
                                    "ranking": "5"
                                },
                                {
                                    "ufarquivo": "TO",
                                    "anoarquivo": "2021",
                                    "causabas": "B342",
                                    "causabasdesccat": "Doenças por vírus, de localização não especificada",
                                    "contador": "1514",
                                    "ranking": "1"
                                },
                                {
                                    "ufarquivo": "TO",
                                    "anoarquivo": "2021",
                                    "causabas": "I219",
                                    "causabasdesccat": "Infarto agudo do miocárdio",
                                    "contador": "308",
                                    "ranking": "2"
                                },
                                {
                                    "ufarquivo": "TO",
                                    "anoarquivo": "2021",
                                    "causabas": "I64 ",
                                    "causabasdesccat": "Acidente vascular cerebral, não especificado como hemorrágico ou isquêmico",
                                    "contador": "115",
                                    "ranking": "3"
                                },
                                {
                                    "ufarquivo": "TO",
                                    "anoarquivo": "2021",
                                    "causabas": "I10 ",
                                    "causabasdesccat": "Hipertensão essencial (primária)",
                                    "contador": "101",
                                    "ranking": "4"
                                },
                                {
                                    "ufarquivo": "TO",
                                    "anoarquivo": "2021",
                                    "causabas": "J189",
                                    "causabasdesccat": "Pneumonia por microorganismo não especificada",
                                    "contador": "93",
                                    "ranking": "5"
                                }
                            ]
                        },
                        "text/html": [
                            "<table>",
                            "<tr><th>ufarquivo</th><th>anoarquivo</th><th>causabas</th><th>causabasdesccat</th><th>contador</th><th>ranking</th></tr>",
                            "<tr><td>AC</td><td>2019</td><td>I219</td><td>Infarto agudo do miocárdio</td><td>48</td><td>1</td></tr>",
                            "<tr><td>AC</td><td>2019</td><td>R99 </td><td>Outras causas mal definidas e as não especificadas de mortalidade</td><td>37</td><td>2</td></tr>",
                            "<tr><td>AC</td><td>2019</td><td>X959</td><td>Agressão por meio de disparo de outra arma de fogo ou de arma não especificada</td><td>26</td><td>3</td></tr>",
                            "<tr><td>AC</td><td>2019</td><td>J440</td><td>Outras doenças pulmonares obstrutivas crônicas</td><td>21</td><td>4</td></tr>",
                            "<tr><td>AC</td><td>2019</td><td>J189</td><td>Pneumonia por microorganismo não especificada</td><td>18</td><td>5</td></tr>",
                            "<tr><td>AC</td><td>2020</td><td>B342</td><td>Doenças por vírus, de localização não especificada</td><td>157</td><td>1</td></tr>",
                            "<tr><td>AC</td><td>2020</td><td>R99 </td><td>Outras causas mal definidas e as não especificadas de mortalidade</td><td>97</td><td>2</td></tr>",
                            "<tr><td>AC</td><td>2020</td><td>I219</td><td>Infarto agudo do miocárdio</td><td>54</td><td>3</td></tr>",
                            "<tr><td>AC</td><td>2020</td><td>X959</td><td>Agressão por meio de disparo de outra arma de fogo ou de arma não especificada</td><td>41</td><td>4</td></tr>",
                            "<tr><td>AC</td><td>2020</td><td>J440</td><td>Outras doenças pulmonares obstrutivas crônicas</td><td>20</td><td>5</td></tr>",
                            "<tr><td>AC</td><td>2021</td><td>B342</td><td>Doenças por vírus, de localização não especificada</td><td>165</td><td>1</td></tr>",
                            "<tr><td>AC</td><td>2021</td><td>I219</td><td>Infarto agudo do miocárdio</td><td>46</td><td>2</td></tr>",
                            "<tr><td>AC</td><td>2021</td><td>R99 </td><td>Outras causas mal definidas e as não especificadas de mortalidade</td><td>35</td><td>3</td></tr>",
                            "<tr><td>AC</td><td>2021</td><td>J189</td><td>Pneumonia por microorganismo não especificada</td><td>20</td><td>4</td></tr>",
                            "<tr><td>AC</td><td>2021</td><td>I64 </td><td>Acidente vascular cerebral, não especificado como hemorrágico ou isquêmico</td><td>12</td><td>5</td></tr>",
                            "<tr><td>AL</td><td>2019</td><td>I219</td><td>Infarto agudo do miocárdio</td><td>615</td><td>1</td></tr>",
                            "<tr><td>AL</td><td>2019</td><td>X954</td><td>Agressão por meio de disparo de outra arma de fogo ou de arma não especificada</td><td>257</td><td>2</td></tr>",
                            "<tr><td>AL</td><td>2019</td><td>R99 </td><td>Outras causas mal definidas e as não especificadas de mortalidade</td><td>246</td><td>3</td></tr>",
                            "<tr><td>AL</td><td>2019</td><td>I10 </td><td>Hipertensão essencial (primária)</td><td>225</td><td>4</td></tr>",
                            "<tr><td>AL</td><td>2019</td><td>E149</td><td>Diabetes mellitus não especificado</td><td>163</td><td>5</td></tr>",
                            "<tr><td>AL</td><td>2020</td><td>B342</td><td>Doenças por vírus, de localização não especificada</td><td>681</td><td>1</td></tr>",
                            "<tr><td>AL</td><td>2020</td><td>I219</td><td>Infarto agudo do miocárdio</td><td>496</td><td>2</td></tr>",
                            "<tr><td>AL</td><td>2020</td><td>X954</td><td>Agressão por meio de disparo de outra arma de fogo ou de arma não especificada</td><td>346</td><td>3</td></tr>",
                            "<tr><td>AL</td><td>2020</td><td>R99 </td><td>Outras causas mal definidas e as não especificadas de mortalidade</td><td>328</td><td>4</td></tr>",
                            "<tr><td>AL</td><td>2020</td><td>I10 </td><td>Hipertensão essencial (primária)</td><td>270</td><td>5</td></tr>",
                            "<tr><td>AL</td><td>2021</td><td>B342</td><td>Doenças por vírus, de localização não especificada</td><td>1434</td><td>1</td></tr>",
                            "<tr><td>AL</td><td>2021</td><td>I219</td><td>Infarto agudo do miocárdio</td><td>528</td><td>2</td></tr>",
                            "<tr><td>AL</td><td>2021</td><td>R99 </td><td>Outras causas mal definidas e as não especificadas de mortalidade</td><td>384</td><td>3</td></tr>",
                            "<tr><td>AL</td><td>2021</td><td>I10 </td><td>Hipertensão essencial (primária)</td><td>328</td><td>4</td></tr>",
                            "<tr><td>AL</td><td>2021</td><td>I64 </td><td>Acidente vascular cerebral, não especificado como hemorrágico ou isquêmico</td><td>235</td><td>5</td></tr>",
                            "<tr><td>AM</td><td>2019</td><td>R99 </td><td>Outras causas mal definidas e as não especificadas de mortalidade</td><td>727</td><td>1</td></tr>",
                            "<tr><td>AM</td><td>2019</td><td>X954</td><td>Agressão por meio de disparo de outra arma de fogo ou de arma não especificada</td><td>544</td><td>2</td></tr>",
                            "<tr><td>AM</td><td>2019</td><td>I219</td><td>Infarto agudo do miocárdio</td><td>445</td><td>3</td></tr>",
                            "<tr><td>AM</td><td>2019</td><td>R98 </td><td>Morte sem assistência</td><td>206</td><td>4</td></tr>",
                            "<tr><td>AM</td><td>2019</td><td>E149</td><td>Diabetes mellitus não especificado</td><td>201</td><td>5</td></tr>",
                            "<tr><td>AM</td><td>2020</td><td>B342</td><td>Doenças por vírus, de localização não especificada</td><td>3282</td><td>1</td></tr>",
                            "<tr><td>AM</td><td>2020</td><td>R99 </td><td>Outras causas mal definidas e as não especificadas de mortalidade</td><td>843</td><td>2</td></tr>",
                            "<tr><td>AM</td><td>2020</td><td>I219</td><td>Infarto agudo do miocárdio</td><td>439</td><td>3</td></tr>",
                            "<tr><td>AM</td><td>2020</td><td>X954</td><td>Agressão por meio de disparo de outra arma de fogo ou de arma não especificada</td><td>434</td><td>4</td></tr>",
                            "<tr><td>AM</td><td>2020</td><td>E149</td><td>Diabetes mellitus não especificado</td><td>234</td><td>5</td></tr>",
                            "<tr><td>AM</td><td>2021</td><td>B342</td><td>Doenças por vírus, de localização não especificada</td><td>5460</td><td>1</td></tr>",
                            "<tr><td>AM</td><td>2021</td><td>X954</td><td>Agressão por meio de disparo de outra arma de fogo ou de arma não especificada</td><td>687</td><td>2</td></tr>",
                            "<tr><td>AM</td><td>2021</td><td>R99 </td><td>Outras causas mal definidas e as não especificadas de mortalidade</td><td>669</td><td>3</td></tr>",
                            "<tr><td>AM</td><td>2021</td><td>I219</td><td>Infarto agudo do miocárdio</td><td>499</td><td>4</td></tr>",
                            "<tr><td>AM</td><td>2021</td><td>I10 </td><td>Hipertensão essencial (primária)</td><td>247</td><td>5</td></tr>",
                            "<tr><td>AP</td><td>2019</td><td>I219</td><td>Infarto agudo do miocárdio</td><td>75</td><td>1</td></tr>",
                            "<tr><td>AP</td><td>2019</td><td>R99 </td><td>Outras causas mal definidas e as não especificadas de mortalidade</td><td>55</td><td>2</td></tr>",
                            "<tr><td>AP</td><td>2019</td><td>I64 </td><td>Acidente vascular cerebral, não especificado como hemorrágico ou isquêmico</td><td>44</td><td>3</td></tr>",
                            "<tr><td>AP</td><td>2019</td><td>X954</td><td>Agressão por meio de disparo de outra arma de fogo ou de arma não especificada</td><td>42</td><td>4</td></tr>",
                            "<tr><td>AP</td><td>2019</td><td>J189</td><td>Pneumonia por microorganismo não especificada</td><td>36</td><td>5</td></tr>",
                            "<tr><td>AP</td><td>2020</td><td>B342</td><td>Doenças por vírus, de localização não especificada</td><td>408</td><td>1</td></tr>",
                            "<tr><td>AP</td><td>2020</td><td>I219</td><td>Infarto agudo do miocárdio</td><td>72</td><td>2</td></tr>",
                            "<tr><td>AP</td><td>2020</td><td>I64 </td><td>Acidente vascular cerebral, não especificado como hemorrágico ou isquêmico</td><td>38</td><td>3</td></tr>",
                            "<tr><td>AP</td><td>2020</td><td>X959</td><td>Agressão por meio de disparo de outra arma de fogo ou de arma não especificada</td><td>33</td><td>4</td></tr>",
                            "<tr><td>AP</td><td>2020</td><td>Y350</td><td>Intervenção legal</td><td>33</td><td>4</td></tr>",
                            "<tr><td>AP</td><td>2021</td><td>B342</td><td>Doenças por vírus, de localização não especificada</td><td>602</td><td>1</td></tr>",
                            "<tr><td>AP</td><td>2021</td><td>I219</td><td>Infarto agudo do miocárdio</td><td>94</td><td>2</td></tr>",
                            "<tr><td>AP</td><td>2021</td><td>X954</td><td>Agressão por meio de disparo de outra arma de fogo ou de arma não especificada</td><td>63</td><td>3</td></tr>",
                            "<tr><td>AP</td><td>2021</td><td>I64 </td><td>Acidente vascular cerebral, não especificado como hemorrágico ou isquêmico</td><td>39</td><td>4</td></tr>",
                            "<tr><td>AP</td><td>2021</td><td>X952</td><td>Agressão por meio de disparo de outra arma de fogo ou de arma não especificada</td><td>38</td><td>5</td></tr>",
                            "<tr><td>BA</td><td>2019</td><td>R99 </td><td>Outras causas mal definidas e as não especificadas de mortalidade</td><td>2787</td><td>1</td></tr>",
                            "<tr><td>BA</td><td>2019</td><td>I219</td><td>Infarto agudo do miocárdio</td><td>1975</td><td>2</td></tr>",
                            "<tr><td>BA</td><td>2019</td><td>I64 </td><td>Acidente vascular cerebral, não especificado como hemorrágico ou isquêmico</td><td>1279</td><td>3</td></tr>",
                            "<tr><td>BA</td><td>2019</td><td>X954</td><td>Agressão por meio de disparo de outra arma de fogo ou de arma não especificada</td><td>1073</td><td>4</td></tr>",
                            "<tr><td>BA</td><td>2019</td><td>I10 </td><td>Hipertensão essencial (primária)</td><td>739</td><td>5</td></tr>",
                            "<tr><td>BA</td><td>2020</td><td>B342</td><td>Doenças por vírus, de localização não especificada</td><td>4217</td><td>1</td></tr>",
                            "<tr><td>BA</td><td>2020</td><td>R99 </td><td>Outras causas mal definidas e as não especificadas de mortalidade</td><td>3118</td><td>2</td></tr>",
                            "<tr><td>BA</td><td>2020</td><td>I219</td><td>Infarto agudo do miocárdio</td><td>2007</td><td>3</td></tr>",
                            "<tr><td>BA</td><td>2020</td><td>I64 </td><td>Acidente vascular cerebral, não especificado como hemorrágico ou isquêmico</td><td>1265</td><td>4</td></tr>",
                            "<tr><td>BA</td><td>2020</td><td>X954</td><td>Agressão por meio de disparo de outra arma de fogo ou de arma não especificada</td><td>1201</td><td>5</td></tr>",
                            "<tr><td>BA</td><td>2021</td><td>B342</td><td>Doenças por vírus, de localização não especificada</td><td>7766</td><td>1</td></tr>",
                            "<tr><td>BA</td><td>2021</td><td>R99 </td><td>Outras causas mal definidas e as não especificadas de mortalidade</td><td>2960</td><td>2</td></tr>",
                            "<tr><td>BA</td><td>2021</td><td>I219</td><td>Infarto agudo do miocárdio</td><td>2215</td><td>3</td></tr>",
                            "<tr><td>BA</td><td>2021</td><td>X954</td><td>Agressão por meio de disparo de outra arma de fogo ou de arma não especificada</td><td>1492</td><td>4</td></tr>",
                            "<tr><td>BA</td><td>2021</td><td>I64 </td><td>Acidente vascular cerebral, não especificado como hemorrágico ou isquêmico</td><td>1332</td><td>5</td></tr>",
                            "<tr><td>CE</td><td>2019</td><td>I219</td><td>Infarto agudo do miocárdio</td><td>2313</td><td>1</td></tr>",
                            "<tr><td>CE</td><td>2019</td><td>J189</td><td>Pneumonia por microorganismo não especificada</td><td>1289</td><td>2</td></tr>",
                            "<tr><td>CE</td><td>2019</td><td>I64 </td><td>Acidente vascular cerebral, não especificado como hemorrágico ou isquêmico</td><td>1094</td><td>3</td></tr>",
                            "<tr><td>CE</td><td>2019</td><td>J159</td><td>Pneumonia bacteriana não classificada em outra parte</td><td>809</td><td>4</td></tr>",
                            "<tr><td>CE</td><td>2019</td><td>X954</td><td>Agressão por meio de disparo de outra arma de fogo ou de arma não especificada</td><td>765</td><td>5</td></tr>",
                            "<tr><td>CE</td><td>2020</td><td>B342</td><td>Doenças por vírus, de localização não especificada</td><td>7694</td><td>1</td></tr>",
                            "<tr><td>CE</td><td>2020</td><td>I219</td><td>Infarto agudo do miocárdio</td><td>2442</td><td>2</td></tr>",
                            "<tr><td>CE</td><td>2020</td><td>X954</td><td>Agressão por meio de disparo de outra arma de fogo ou de arma não especificada</td><td>1244</td><td>3</td></tr>",
                            "<tr><td>CE</td><td>2020</td><td>I64 </td><td>Acidente vascular cerebral, não especificado como hemorrágico ou isquêmico</td><td>1196</td><td>4</td></tr>",
                            "<tr><td>CE</td><td>2020</td><td>R99 </td><td>Outras causas mal definidas e as não especificadas de mortalidade</td><td>1064</td><td>5</td></tr>",
                            "<tr><td>CE</td><td>2021</td><td>B342</td><td>Doenças por vírus, de localização não especificada</td><td>10259</td><td>1</td></tr>",
                            "<tr><td>CE</td><td>2021</td><td>I219</td><td>Infarto agudo do miocárdio</td><td>2505</td><td>2</td></tr>",
                            "<tr><td>CE</td><td>2021</td><td>I64 </td><td>Acidente vascular cerebral, não especificado como hemorrágico ou isquêmico</td><td>1077</td><td>3</td></tr>",
                            "<tr><td>CE</td><td>2021</td><td>X954</td><td>Agressão por meio de disparo de outra arma de fogo ou de arma não especificada</td><td>1077</td><td>3</td></tr>",
                            "<tr><td>CE</td><td>2021</td><td>I10 </td><td>Hipertensão essencial (primária)</td><td>993</td><td>5</td></tr>",
                            "<tr><td>DF</td><td>2019</td><td>I219</td><td>Infarto agudo do miocárdio</td><td>390</td><td>1</td></tr>",
                            "<tr><td>DF</td><td>2019</td><td>C349</td><td>Neoplasia maligna dos brônquios e dos pulmões</td><td>162</td><td>2</td></tr>",
                            "<tr><td>DF</td><td>2019</td><td>G309</td><td>Doença de Alzheimer</td><td>112</td><td>3</td></tr>",
                            "<tr><td>DF</td><td>2019</td><td>J189</td><td>Pneumonia por microorganismo não especificada</td><td>110</td><td>4</td></tr>",
                            "<tr><td>DF</td><td>2019</td><td>C169</td><td>Neoplasia maligna do estômago</td><td>108</td><td>5</td></tr>",
                            "<tr><td>DF</td><td>2020</td><td>B342</td><td>Doenças por vírus, de localização não especificada</td><td>1764</td><td>1</td></tr>",
                            "<tr><td>DF</td><td>2020</td><td>I219</td><td>Infarto agudo do miocárdio</td><td>400</td><td>2</td></tr>",
                            "<tr><td>DF</td><td>2020</td><td>C349</td><td>Neoplasia maligna dos brônquios e dos pulmões</td><td>151</td><td>3</td></tr>",
                            "<tr><td>DF</td><td>2020</td><td>R99 </td><td>Outras causas mal definidas e as não especificadas de mortalidade</td><td>137</td><td>4</td></tr>",
                            "<tr><td>DF</td><td>2020</td><td>G309</td><td>Doença de Alzheimer</td><td>126</td><td>5</td></tr>",
                            "<tr><td>DF</td><td>2021</td><td>B342</td><td>Doenças por vírus, de localização não especificada</td><td>3563</td><td>1</td></tr>",
                            "<tr><td>DF</td><td>2021</td><td>I219</td><td>Infarto agudo do miocárdio</td><td>471</td><td>2</td></tr>",
                            "<tr><td>DF</td><td>2021</td><td>C349</td><td>Neoplasia maligna dos brônquios e dos pulmões</td><td>170</td><td>3</td></tr>",
                            "<tr><td>DF</td><td>2021</td><td>R99 </td><td>Outras causas mal definidas e as não especificadas de mortalidade</td><td>145</td><td>4</td></tr>",
                            "<tr><td>DF</td><td>2021</td><td>C61 </td><td>Neoplasia maligna da próstata</td><td>122</td><td>5</td></tr>",
                            "<tr><td>ES</td><td>2019</td><td>I219</td><td>Infarto agudo do miocárdio</td><td>686</td><td>1</td></tr>",
                            "<tr><td>ES</td><td>2019</td><td>I110</td><td>Doença cardíaca hipertensiva</td><td>213</td><td>2</td></tr>",
                            "<tr><td>ES</td><td>2019</td><td>E149</td><td>Diabetes mellitus não especificado</td><td>181</td><td>3</td></tr>",
                            "<tr><td>ES</td><td>2019</td><td>J189</td><td>Pneumonia por microorganismo não especificada</td><td>167</td><td>4</td></tr>",
                            "<tr><td>ES</td><td>2019</td><td>C349</td><td>Neoplasia maligna dos brônquios e dos pulmões</td><td>160</td><td>5</td></tr>",
                            "<tr><td>ES</td><td>2020</td><td>B342</td><td>Doenças por vírus, de localização não especificada</td><td>1024</td><td>1</td></tr>",
                            "<tr><td>ES</td><td>2020</td><td>I219</td><td>Infarto agudo do miocárdio</td><td>591</td><td>2</td></tr>",
                            "<tr><td>ES</td><td>2020</td><td>I110</td><td>Doença cardíaca hipertensiva</td><td>202</td><td>3</td></tr>",
                            "<tr><td>ES</td><td>2020</td><td>E149</td><td>Diabetes mellitus não especificado</td><td>191</td><td>4</td></tr>",
                            "<tr><td>ES</td><td>2020</td><td>V892</td><td>Acidente com um veículo a motor ou não-motorizado, tipo(s) de veículo(s) não especificado(s)</td><td>132</td><td>5</td></tr>",
                            "<tr><td>ES</td><td>2021</td><td>B342</td><td>Doenças por vírus, de localização não especificada</td><td>1937</td><td>1</td></tr>",
                            "<tr><td>ES</td><td>2021</td><td>I219</td><td>Infarto agudo do miocárdio</td><td>652</td><td>2</td></tr>",
                            "<tr><td>ES</td><td>2021</td><td>B948</td><td>Seqüelas de outras doenças infecciosas e parasitárias e das não especificadas</td><td>385</td><td>3</td></tr>",
                            "<tr><td>ES</td><td>2021</td><td>E149</td><td>Diabetes mellitus não especificado</td><td>292</td><td>4</td></tr>",
                            "<tr><td>ES</td><td>2021</td><td>I110</td><td>Doença cardíaca hipertensiva</td><td>234</td><td>5</td></tr>",
                            "<tr><td>GO</td><td>2019</td><td>I219</td><td>Infarto agudo do miocárdio</td><td>1238</td><td>1</td></tr>",
                            "<tr><td>GO</td><td>2019</td><td>J189</td><td>Pneumonia por microorganismo não especificada</td><td>630</td><td>2</td></tr>",
                            "<tr><td>GO</td><td>2019</td><td>C349</td><td>Neoplasia maligna dos brônquios e dos pulmões</td><td>512</td><td>3</td></tr>",
                            "<tr><td>GO</td><td>2019</td><td>J440</td><td>Outras doenças pulmonares obstrutivas crônicas</td><td>429</td><td>4</td></tr>",
                            "<tr><td>GO</td><td>2019</td><td>X954</td><td>Agressão por meio de disparo de outra arma de fogo ou de arma não especificada</td><td>415</td><td>5</td></tr>",
                            "<tr><td>GO</td><td>2020</td><td>B342</td><td>Doenças por vírus, de localização não especificada</td><td>3730</td><td>1</td></tr>",
                            "<tr><td>GO</td><td>2020</td><td>I219</td><td>Infarto agudo do miocárdio</td><td>1285</td><td>2</td></tr>",
                            "<tr><td>GO</td><td>2020</td><td>J189</td><td>Pneumonia por microorganismo não especificada</td><td>488</td><td>3</td></tr>",
                            "<tr><td>GO</td><td>2020</td><td>C349</td><td>Neoplasia maligna dos brônquios e dos pulmões</td><td>461</td><td>4</td></tr>",
                            "<tr><td>GO</td><td>2020</td><td>I10 </td><td>Hipertensão essencial (primária)</td><td>388</td><td>5</td></tr>",
                            "<tr><td>GO</td><td>2021</td><td>B342</td><td>Doenças por vírus, de localização não especificada</td><td>10447</td><td>1</td></tr>",
                            "<tr><td>GO</td><td>2021</td><td>I219</td><td>Infarto agudo do miocárdio</td><td>1570</td><td>2</td></tr>",
                            "<tr><td>GO</td><td>2021</td><td>C349</td><td>Neoplasia maligna dos brônquios e dos pulmões</td><td>497</td><td>3</td></tr>",
                            "<tr><td>GO</td><td>2021</td><td>J189</td><td>Pneumonia por microorganismo não especificada</td><td>480</td><td>4</td></tr>",
                            "<tr><td>GO</td><td>2021</td><td>I10 </td><td>Hipertensão essencial (primária)</td><td>409</td><td>5</td></tr>",
                            "<tr><td>MA</td><td>2019</td><td>I219</td><td>Infarto agudo do miocárdio</td><td>1542</td><td>1</td></tr>",
                            "<tr><td>MA</td><td>2019</td><td>I64 </td><td>Acidente vascular cerebral, não especificado como hemorrágico ou isquêmico</td><td>932</td><td>2</td></tr>",
                            "<tr><td>MA</td><td>2019</td><td>E149</td><td>Diabetes mellitus não especificado</td><td>425</td><td>3</td></tr>",
                            "<tr><td>MA</td><td>2019</td><td>I10 </td><td>Hipertensão essencial (primária)</td><td>401</td><td>4</td></tr>",
                            "<tr><td>MA</td><td>2019</td><td>J189</td><td>Pneumonia por microorganismo não especificada</td><td>378</td><td>5</td></tr>",
                            "<tr><td>MA</td><td>2020</td><td>B342</td><td>Doenças por vírus, de localização não especificada</td><td>2594</td><td>1</td></tr>",
                            "<tr><td>MA</td><td>2020</td><td>I219</td><td>Infarto agudo do miocárdio</td><td>1451</td><td>2</td></tr>",
                            "<tr><td>MA</td><td>2020</td><td>I64 </td><td>Acidente vascular cerebral, não especificado como hemorrágico ou isquêmico</td><td>964</td><td>3</td></tr>",
                            "<tr><td>MA</td><td>2020</td><td>I10 </td><td>Hipertensão essencial (primária)</td><td>652</td><td>4</td></tr>",
                            "<tr><td>MA</td><td>2020</td><td>E149</td><td>Diabetes mellitus não especificado</td><td>464</td><td>5</td></tr>",
                            "<tr><td>MA</td><td>2021</td><td>B342</td><td>Doenças por vírus, de localização não especificada</td><td>4346</td><td>1</td></tr>",
                            "<tr><td>MA</td><td>2021</td><td>I219</td><td>Infarto agudo do miocárdio</td><td>1570</td><td>2</td></tr>",
                            "<tr><td>MA</td><td>2021</td><td>I64 </td><td>Acidente vascular cerebral, não especificado como hemorrágico ou isquêmico</td><td>950</td><td>3</td></tr>",
                            "<tr><td>MA</td><td>2021</td><td>I10 </td><td>Hipertensão essencial (primária)</td><td>552</td><td>4</td></tr>",
                            "<tr><td>MA</td><td>2021</td><td>E149</td><td>Diabetes mellitus não especificado</td><td>400</td><td>5</td></tr>",
                            "<tr><td>MG</td><td>2019</td><td>I219</td><td>Infarto agudo do miocárdio</td><td>3229</td><td>1</td></tr>",
                            "<tr><td>MG</td><td>2019</td><td>R99 </td><td>Outras causas mal definidas e as não especificadas de mortalidade</td><td>2922</td><td>2</td></tr>",
                            "<tr><td>MG</td><td>2019</td><td>J189</td><td>Pneumonia por microorganismo não especificada</td><td>2603</td><td>3</td></tr>",
                            "<tr><td>MG</td><td>2019</td><td>I10 </td><td>Hipertensão essencial (primária)</td><td>2121</td><td>4</td></tr>",
                            "<tr><td>MG</td><td>2019</td><td>I64 </td><td>Acidente vascular cerebral, não especificado como hemorrágico ou isquêmico</td><td>1557</td><td>5</td></tr>",
                            "<tr><td>MG</td><td>2020</td><td>B342</td><td>Doenças por vírus, de localização não especificada</td><td>5409</td><td>1</td></tr>",
                            "<tr><td>MG</td><td>2020</td><td>R99 </td><td>Outras causas mal definidas e as não especificadas de mortalidade</td><td>3256</td><td>2</td></tr>",
                            "<tr><td>MG</td><td>2020</td><td>I219</td><td>Infarto agudo do miocárdio</td><td>3194</td><td>3</td></tr>",
                            "<tr><td>MG</td><td>2020</td><td>I10 </td><td>Hipertensão essencial (primária)</td><td>2417</td><td>4</td></tr>",
                            "<tr><td>MG</td><td>2020</td><td>J189</td><td>Pneumonia por microorganismo não especificada</td><td>1908</td><td>5</td></tr>",
                            "<tr><td>MG</td><td>2021</td><td>B342</td><td>Doenças por vírus, de localização não especificada</td><td>20296</td><td>1</td></tr>",
                            "<tr><td>MG</td><td>2021</td><td>R99 </td><td>Outras causas mal definidas e as não especificadas de mortalidade</td><td>3432</td><td>2</td></tr>",
                            "<tr><td>MG</td><td>2021</td><td>I219</td><td>Infarto agudo do miocárdio</td><td>3204</td><td>3</td></tr>",
                            "<tr><td>MG</td><td>2021</td><td>I10 </td><td>Hipertensão essencial (primária)</td><td>2517</td><td>4</td></tr>",
                            "<tr><td>MG</td><td>2021</td><td>I64 </td><td>Acidente vascular cerebral, não especificado como hemorrágico ou isquêmico</td><td>1528</td><td>5</td></tr>",
                            "<tr><td>MS</td><td>2019</td><td>I219</td><td>Infarto agudo do miocárdio</td><td>1078</td><td>1</td></tr>",
                            "<tr><td>MS</td><td>2019</td><td>J159</td><td>Pneumonia bacteriana não classificada em outra parte</td><td>327</td><td>2</td></tr>",
                            "<tr><td>MS</td><td>2019</td><td>J189</td><td>Pneumonia por microorganismo não especificada</td><td>296</td><td>3</td></tr>",
                            "<tr><td>MS</td><td>2019</td><td>C349</td><td>Neoplasia maligna dos brônquios e dos pulmões</td><td>202</td><td>4</td></tr>",
                            "<tr><td>MS</td><td>2019</td><td>C61 </td><td>Neoplasia maligna da próstata</td><td>201</td><td>5</td></tr>",
                            "<tr><td>MS</td><td>2020</td><td>B342</td><td>Doenças por vírus, de localização não especificada</td><td>1308</td><td>1</td></tr>",
                            "<tr><td>MS</td><td>2020</td><td>I219</td><td>Infarto agudo do miocárdio</td><td>1119</td><td>2</td></tr>",
                            "<tr><td>MS</td><td>2020</td><td>J189</td><td>Pneumonia por microorganismo não especificada</td><td>307</td><td>3</td></tr>",
                            "<tr><td>MS</td><td>2020</td><td>C349</td><td>Neoplasia maligna dos brônquios e dos pulmões</td><td>231</td><td>4</td></tr>",
                            "<tr><td>MS</td><td>2020</td><td>R99 </td><td>Outras causas mal definidas e as não especificadas de mortalidade</td><td>206</td><td>5</td></tr>",
                            "<tr><td>MS</td><td>2021</td><td>B342</td><td>Doenças por vírus, de localização não especificada</td><td>4229</td><td>1</td></tr>",
                            "<tr><td>MS</td><td>2021</td><td>I219</td><td>Infarto agudo do miocárdio</td><td>1077</td><td>2</td></tr>",
                            "<tr><td>MS</td><td>2021</td><td>J189</td><td>Pneumonia por microorganismo não especificada</td><td>329</td><td>3</td></tr>",
                            "<tr><td>MS</td><td>2021</td><td>R99 </td><td>Outras causas mal definidas e as não especificadas de mortalidade</td><td>241</td><td>4</td></tr>",
                            "<tr><td>MS</td><td>2021</td><td>C349</td><td>Neoplasia maligna dos brônquios e dos pulmões</td><td>208</td><td>5</td></tr>",
                            "<tr><td>MT</td><td>2019</td><td>I219</td><td>Infarto agudo do miocárdio</td><td>503</td><td>1</td></tr>",
                            "<tr><td>MT</td><td>2019</td><td>R99 </td><td>Outras causas mal definidas e as não especificadas de mortalidade</td><td>247</td><td>2</td></tr>",
                            "<tr><td>MT</td><td>2019</td><td>C349</td><td>Neoplasia maligna dos brônquios e dos pulmões</td><td>115</td><td>3</td></tr>",
                            "<tr><td>MT</td><td>2019</td><td>E149</td><td>Diabetes mellitus não especificado</td><td>112</td><td>4</td></tr>",
                            "<tr><td>MT</td><td>2019</td><td>J189</td><td>Pneumonia por microorganismo não especificada</td><td>109</td><td>5</td></tr>",
                            "<tr><td>MT</td><td>2020</td><td>B342</td><td>Doenças por vírus, de localização não especificada</td><td>1640</td><td>1</td></tr>",
                            "<tr><td>MT</td><td>2020</td><td>I219</td><td>Infarto agudo do miocárdio</td><td>476</td><td>2</td></tr>",
                            "<tr><td>MT</td><td>2020</td><td>R99 </td><td>Outras causas mal definidas e as não especificadas de mortalidade</td><td>307</td><td>3</td></tr>",
                            "<tr><td>MT</td><td>2020</td><td>E149</td><td>Diabetes mellitus não especificado</td><td>165</td><td>4</td></tr>",
                            "<tr><td>MT</td><td>2020</td><td>I10 </td><td>Hipertensão essencial (primária)</td><td>123</td><td>5</td></tr>",
                            "<tr><td>MT</td><td>2021</td><td>B342</td><td>Doenças por vírus, de localização não especificada</td><td>4169</td><td>1</td></tr>",
                            "<tr><td>MT</td><td>2021</td><td>I219</td><td>Infarto agudo do miocárdio</td><td>509</td><td>2</td></tr>",
                            "<tr><td>MT</td><td>2021</td><td>R99 </td><td>Outras causas mal definidas e as não especificadas de mortalidade</td><td>282</td><td>3</td></tr>",
                            "<tr><td>MT</td><td>2021</td><td>I10 </td><td>Hipertensão essencial (primária)</td><td>145</td><td>4</td></tr>",
                            "<tr><td>MT</td><td>2021</td><td>C349</td><td>Neoplasia maligna dos brônquios e dos pulmões</td><td>132</td><td>5</td></tr>",
                            "<tr><td>PA</td><td>2019</td><td>I219</td><td>Infarto agudo do miocárdio</td><td>1275</td><td>1</td></tr>",
                            "<tr><td>PA</td><td>2019</td><td>J189</td><td>Pneumonia por microorganismo não especificada</td><td>626</td><td>2</td></tr>",
                            "<tr><td>PA</td><td>2019</td><td>I64 </td><td>Acidente vascular cerebral, não especificado como hemorrágico ou isquêmico</td><td>558</td><td>3</td></tr>",
                            "<tr><td>PA</td><td>2019</td><td>X954</td><td>Agressão por meio de disparo de outra arma de fogo ou de arma não especificada</td><td>551</td><td>4</td></tr>",
                            "<tr><td>PA</td><td>2019</td><td>R99 </td><td>Outras causas mal definidas e as não especificadas de mortalidade</td><td>501</td><td>5</td></tr>",
                            "<tr><td>PA</td><td>2020</td><td>B342</td><td>Doenças por vírus, de localização não especificada</td><td>3403</td><td>1</td></tr>",
                            "<tr><td>PA</td><td>2020</td><td>I219</td><td>Infarto agudo do miocárdio</td><td>1334</td><td>2</td></tr>",
                            "<tr><td>PA</td><td>2020</td><td>J189</td><td>Pneumonia por microorganismo não especificada</td><td>699</td><td>3</td></tr>",
                            "<tr><td>PA</td><td>2020</td><td>I64 </td><td>Acidente vascular cerebral, não especificado como hemorrágico ou isquêmico</td><td>670</td><td>4</td></tr>",
                            "<tr><td>PA</td><td>2020</td><td>R99 </td><td>Outras causas mal definidas e as não especificadas de mortalidade</td><td>592</td><td>5</td></tr>",
                            "<tr><td>PA</td><td>2021</td><td>B342</td><td>Doenças por vírus, de localização não especificada</td><td>5579</td><td>1</td></tr>",
                            "<tr><td>PA</td><td>2021</td><td>I219</td><td>Infarto agudo do miocárdio</td><td>1489</td><td>2</td></tr>",
                            "<tr><td>PA</td><td>2021</td><td>J189</td><td>Pneumonia por microorganismo não especificada</td><td>568</td><td>3</td></tr>",
                            "<tr><td>PA</td><td>2021</td><td>I64 </td><td>Acidente vascular cerebral, não especificado como hemorrágico ou isquêmico</td><td>534</td><td>4</td></tr>",
                            "<tr><td>PA</td><td>2021</td><td>R99 </td><td>Outras causas mal definidas e as não especificadas de mortalidade</td><td>514</td><td>5</td></tr>",
                            "<tr><td>PB</td><td>2019</td><td>I219</td><td>Infarto agudo do miocárdio</td><td>774</td><td>1</td></tr>",
                            "<tr><td>PB</td><td>2019</td><td>J189</td><td>Pneumonia por microorganismo não especificada</td><td>169</td><td>2</td></tr>",
                            "<tr><td>PB</td><td>2019</td><td>R99 </td><td>Outras causas mal definidas e as não especificadas de mortalidade</td><td>166</td><td>3</td></tr>",
                            "<tr><td>PB</td><td>2019</td><td>E149</td><td>Diabetes mellitus não especificado</td><td>156</td><td>4</td></tr>",
                            "<tr><td>PB</td><td>2019</td><td>I64 </td><td>Acidente vascular cerebral, não especificado como hemorrágico ou isquêmico</td><td>149</td><td>5</td></tr>",
                            "<tr><td>PB</td><td>2020</td><td>B342</td><td>Doenças por vírus, de localização não especificada</td><td>780</td><td>1</td></tr>",
                            "<tr><td>PB</td><td>2020</td><td>I219</td><td>Infarto agudo do miocárdio</td><td>554</td><td>2</td></tr>",
                            "<tr><td>PB</td><td>2020</td><td>R99 </td><td>Outras causas mal definidas e as não especificadas de mortalidade</td><td>201</td><td>3</td></tr>",
                            "<tr><td>PB</td><td>2020</td><td>I10 </td><td>Hipertensão essencial (primária)</td><td>180</td><td>4</td></tr>",
                            "<tr><td>PB</td><td>2020</td><td>E149</td><td>Diabetes mellitus não especificado</td><td>178</td><td>5</td></tr>",
                            "<tr><td>PB</td><td>2021</td><td>B342</td><td>Doenças por vírus, de localização não especificada</td><td>1791</td><td>1</td></tr>",
                            "<tr><td>PB</td><td>2021</td><td>I219</td><td>Infarto agudo do miocárdio</td><td>616</td><td>2</td></tr>",
                            "<tr><td>PB</td><td>2021</td><td>I10 </td><td>Hipertensão essencial (primária)</td><td>204</td><td>3</td></tr>",
                            "<tr><td>PB</td><td>2021</td><td>I64 </td><td>Acidente vascular cerebral, não especificado como hemorrágico ou isquêmico</td><td>173</td><td>4</td></tr>",
                            "<tr><td>PB</td><td>2021</td><td>E149</td><td>Diabetes mellitus não especificado</td><td>160</td><td>5</td></tr>",
                            "<tr><td>PE</td><td>2019</td><td>I219</td><td>Infarto agudo do miocárdio</td><td>2129</td><td>1</td></tr>",
                            "<tr><td>PE</td><td>2019</td><td>X954</td><td>Agressão por meio de disparo de outra arma de fogo ou de arma não especificada</td><td>1322</td><td>2</td></tr>",
                            "<tr><td>PE</td><td>2019</td><td>I678</td><td>Outras doenças cerebrovasculares</td><td>601</td><td>3</td></tr>",
                            "<tr><td>PE</td><td>2019</td><td>J189</td><td>Pneumonia por microorganismo não especificada</td><td>539</td><td>4</td></tr>",
                            "<tr><td>PE</td><td>2019</td><td>J988</td><td>Outros transtornos respiratórios</td><td>537</td><td>5</td></tr>",
                            "<tr><td>PE</td><td>2020</td><td>B342</td><td>Doenças por vírus, de localização não especificada</td><td>5030</td><td>1</td></tr>",
                            "<tr><td>PE</td><td>2020</td><td>I219</td><td>Infarto agudo do miocárdio</td><td>1718</td><td>2</td></tr>",
                            "<tr><td>PE</td><td>2020</td><td>X954</td><td>Agressão por meio de disparo de outra arma de fogo ou de arma não especificada</td><td>1453</td><td>3</td></tr>",
                            "<tr><td>PE</td><td>2020</td><td>J988</td><td>Outros transtornos respiratórios</td><td>915</td><td>4</td></tr>",
                            "<tr><td>PE</td><td>2020</td><td>E149</td><td>Diabetes mellitus não especificado</td><td>700</td><td>5</td></tr>",
                            "<tr><td>PE</td><td>2021</td><td>B342</td><td>Doenças por vírus, de localização não especificada</td><td>6335</td><td>1</td></tr>",
                            "<tr><td>PE</td><td>2021</td><td>I219</td><td>Infarto agudo do miocárdio</td><td>1894</td><td>2</td></tr>",
                            "<tr><td>PE</td><td>2021</td><td>X954</td><td>Agressão por meio de disparo de outra arma de fogo ou de arma não especificada</td><td>1359</td><td>3</td></tr>",
                            "<tr><td>PE</td><td>2021</td><td>J988</td><td>Outros transtornos respiratórios</td><td>1134</td><td>4</td></tr>",
                            "<tr><td>PE</td><td>2021</td><td>I10 </td><td>Hipertensão essencial (primária)</td><td>858</td><td>5</td></tr>",
                            "<tr><td>PI</td><td>2019</td><td>I219</td><td>Infarto agudo do miocárdio</td><td>862</td><td>1</td></tr>",
                            "<tr><td>PI</td><td>2019</td><td>J189</td><td>Pneumonia por microorganismo não especificada</td><td>455</td><td>2</td></tr>",
                            "<tr><td>PI</td><td>2019</td><td>I64 </td><td>Acidente vascular cerebral, não especificado como hemorrágico ou isquêmico</td><td>433</td><td>3</td></tr>",
                            "<tr><td>PI</td><td>2019</td><td>E149</td><td>Diabetes mellitus não especificado</td><td>355</td><td>4</td></tr>",
                            "<tr><td>PI</td><td>2019</td><td>I10 </td><td>Hipertensão essencial (primária)</td><td>278</td><td>5</td></tr>",
                            "<tr><td>PI</td><td>2020</td><td>B342</td><td>Doenças por vírus, de localização não especificada</td><td>1276</td><td>1</td></tr>",
                            "<tr><td>PI</td><td>2020</td><td>I219</td><td>Infarto agudo do miocárdio</td><td>961</td><td>2</td></tr>",
                            "<tr><td>PI</td><td>2020</td><td>I64 </td><td>Acidente vascular cerebral, não especificado como hemorrágico ou isquêmico</td><td>413</td><td>3</td></tr>",
                            "<tr><td>PI</td><td>2020</td><td>I10 </td><td>Hipertensão essencial (primária)</td><td>362</td><td>4</td></tr>",
                            "<tr><td>PI</td><td>2020</td><td>E149</td><td>Diabetes mellitus não especificado</td><td>326</td><td>5</td></tr>",
                            "<tr><td>PI</td><td>2021</td><td>B342</td><td>Doenças por vírus, de localização não especificada</td><td>2564</td><td>1</td></tr>",
                            "<tr><td>PI</td><td>2021</td><td>I219</td><td>Infarto agudo do miocárdio</td><td>946</td><td>2</td></tr>",
                            "<tr><td>PI</td><td>2021</td><td>I64 </td><td>Acidente vascular cerebral, não especificado como hemorrágico ou isquêmico</td><td>459</td><td>3</td></tr>",
                            "<tr><td>PI</td><td>2021</td><td>I10 </td><td>Hipertensão essencial (primária)</td><td>389</td><td>4</td></tr>",
                            "<tr><td>PI</td><td>2021</td><td>J189</td><td>Pneumonia por microorganismo não especificada</td><td>365</td><td>5</td></tr>",
                            "<tr><td>PR</td><td>2019</td><td>I219</td><td>Infarto agudo do miocárdio</td><td>2314</td><td>1</td></tr>",
                            "<tr><td>PR</td><td>2019</td><td>J189</td><td>Pneumonia por microorganismo não especificada</td><td>1078</td><td>2</td></tr>",
                            "<tr><td>PR</td><td>2019</td><td>C349</td><td>Neoplasia maligna dos brônquios e dos pulmões</td><td>967</td><td>3</td></tr>",
                            "<tr><td>PR</td><td>2019</td><td>I64 </td><td>Acidente vascular cerebral, não especificado como hemorrágico ou isquêmico</td><td>842</td><td>4</td></tr>",
                            "<tr><td>PR</td><td>2019</td><td>I10 </td><td>Hipertensão essencial (primária)</td><td>755</td><td>5</td></tr>",
                            "<tr><td>PR</td><td>2020</td><td>B342</td><td>Doenças por vírus, de localização não especificada</td><td>4514</td><td>1</td></tr>",
                            "<tr><td>PR</td><td>2020</td><td>I219</td><td>Infarto agudo do miocárdio</td><td>2234</td><td>2</td></tr>",
                            "<tr><td>PR</td><td>2020</td><td>C349</td><td>Neoplasia maligna dos brônquios e dos pulmões</td><td>952</td><td>3</td></tr>",
                            "<tr><td>PR</td><td>2020</td><td>I10 </td><td>Hipertensão essencial (primária)</td><td>888</td><td>4</td></tr>",
                            "<tr><td>PR</td><td>2020</td><td>J189</td><td>Pneumonia por microorganismo não especificada</td><td>816</td><td>5</td></tr>",
                            "<tr><td>PR</td><td>2021</td><td>B342</td><td>Doenças por vírus, de localização não especificada</td><td>18093</td><td>1</td></tr>",
                            "<tr><td>PR</td><td>2021</td><td>I219</td><td>Infarto agudo do miocárdio</td><td>2273</td><td>2</td></tr>",
                            "<tr><td>PR</td><td>2021</td><td>I10 </td><td>Hipertensão essencial (primária)</td><td>1074</td><td>3</td></tr>",
                            "<tr><td>PR</td><td>2021</td><td>C349</td><td>Neoplasia maligna dos brônquios e dos pulmões</td><td>905</td><td>4</td></tr>",
                            "<tr><td>PR</td><td>2021</td><td>J189</td><td>Pneumonia por microorganismo não especificada</td><td>808</td><td>5</td></tr>",
                            "<tr><td>RJ</td><td>2019</td><td>I219</td><td>Infarto agudo do miocárdio</td><td>3451</td><td>1</td></tr>",
                            "<tr><td>RJ</td><td>2019</td><td>R99 </td><td>Outras causas mal definidas e as não especificadas de mortalidade</td><td>2653</td><td>2</td></tr>",
                            "<tr><td>RJ</td><td>2019</td><td>J189</td><td>Pneumonia por microorganismo não especificada</td><td>2488</td><td>3</td></tr>",
                            "<tr><td>RJ</td><td>2019</td><td>A419</td><td>Outras septicemias</td><td>1283</td><td>4</td></tr>",
                            "<tr><td>RJ</td><td>2019</td><td>C349</td><td>Neoplasia maligna dos brônquios e dos pulmões</td><td>1143</td><td>5</td></tr>",
                            "<tr><td>RJ</td><td>2020</td><td>B342</td><td>Doenças por vírus, de localização não especificada</td><td>11734</td><td>1</td></tr>",
                            "<tr><td>RJ</td><td>2020</td><td>R99 </td><td>Outras causas mal definidas e as não especificadas de mortalidade</td><td>3468</td><td>2</td></tr>",
                            "<tr><td>RJ</td><td>2020</td><td>I219</td><td>Infarto agudo do miocárdio</td><td>3312</td><td>3</td></tr>",
                            "<tr><td>RJ</td><td>2020</td><td>J189</td><td>Pneumonia por microorganismo não especificada</td><td>1788</td><td>4</td></tr>",
                            "<tr><td>RJ</td><td>2020</td><td>I10 </td><td>Hipertensão essencial (primária)</td><td>1398</td><td>5</td></tr>",
                            "<tr><td>RN</td><td>2019</td><td>I219</td><td>Infarto agudo do miocárdio</td><td>740</td><td>1</td></tr>",
                            "<tr><td>RN</td><td>2019</td><td>J189</td><td>Pneumonia por microorganismo não especificada</td><td>248</td><td>2</td></tr>",
                            "<tr><td>RN</td><td>2019</td><td>X954</td><td>Agressão por meio de disparo de outra arma de fogo ou de arma não especificada</td><td>203</td><td>3</td></tr>",
                            "<tr><td>RN</td><td>2019</td><td>C349</td><td>Neoplasia maligna dos brônquios e dos pulmões</td><td>170</td><td>4</td></tr>",
                            "<tr><td>RN</td><td>2019</td><td>I64 </td><td>Acidente vascular cerebral, não especificado como hemorrágico ou isquêmico</td><td>166</td><td>5</td></tr>",
                            "<tr><td>RN</td><td>2020</td><td>B342</td><td>Doenças por vírus, de localização não especificada</td><td>986</td><td>1</td></tr>",
                            "<tr><td>RN</td><td>2020</td><td>I219</td><td>Infarto agudo do miocárdio</td><td>696</td><td>2</td></tr>",
                            "<tr><td>RN</td><td>2020</td><td>X954</td><td>Agressão por meio de disparo de outra arma de fogo ou de arma não especificada</td><td>252</td><td>3</td></tr>",
                            "<tr><td>RN</td><td>2020</td><td>R99 </td><td>Outras causas mal definidas e as não especificadas de mortalidade</td><td>209</td><td>4</td></tr>",
                            "<tr><td>RN</td><td>2020</td><td>J189</td><td>Pneumonia por microorganismo não especificada</td><td>177</td><td>5</td></tr>",
                            "<tr><td>RN</td><td>2021</td><td>B342</td><td>Doenças por vírus, de localização não especificada</td><td>1898</td><td>1</td></tr>",
                            "<tr><td>RN</td><td>2021</td><td>I219</td><td>Infarto agudo do miocárdio</td><td>680</td><td>2</td></tr>",
                            "<tr><td>RN</td><td>2021</td><td>R99 </td><td>Outras causas mal definidas e as não especificadas de mortalidade</td><td>233</td><td>3</td></tr>",
                            "<tr><td>RN</td><td>2021</td><td>X954</td><td>Agressão por meio de disparo de outra arma de fogo ou de arma não especificada</td><td>196</td><td>4</td></tr>",
                            "<tr><td>RN</td><td>2021</td><td>J189</td><td>Pneumonia por microorganismo não especificada</td><td>194</td><td>5</td></tr>",
                            "<tr><td>RO</td><td>2019</td><td>I219</td><td>Infarto agudo do miocárdio</td><td>161</td><td>1</td></tr>",
                            "<tr><td>RO</td><td>2019</td><td>R99 </td><td>Outras causas mal definidas e as não especificadas de mortalidade</td><td>107</td><td>2</td></tr>",
                            "<tr><td>RO</td><td>2019</td><td>X954</td><td>Agressão por meio de disparo de outra arma de fogo ou de arma não especificada</td><td>79</td><td>3</td></tr>",
                            "<tr><td>RO</td><td>2019</td><td>J189</td><td>Pneumonia por microorganismo não especificada</td><td>68</td><td>4</td></tr>",
                            "<tr><td>RO</td><td>2019</td><td>C349</td><td>Neoplasia maligna dos brônquios e dos pulmões</td><td>56</td><td>5</td></tr>",
                            "<tr><td>RO</td><td>2020</td><td>B342</td><td>Doenças por vírus, de localização não especificada</td><td>785</td><td>1</td></tr>",
                            "<tr><td>RO</td><td>2020</td><td>I219</td><td>Infarto agudo do miocárdio</td><td>167</td><td>2</td></tr>",
                            "<tr><td>RO</td><td>2020</td><td>R99 </td><td>Outras causas mal definidas e as não especificadas de mortalidade</td><td>89</td><td>3</td></tr>",
                            "<tr><td>RO</td><td>2020</td><td>C349</td><td>Neoplasia maligna dos brônquios e dos pulmões</td><td>59</td><td>4</td></tr>",
                            "<tr><td>RO</td><td>2020</td><td>J189</td><td>Pneumonia por microorganismo não especificada</td><td>56</td><td>5</td></tr>",
                            "<tr><td>RO</td><td>2021</td><td>B342</td><td>Doenças por vírus, de localização não especificada</td><td>1897</td><td>1</td></tr>",
                            "<tr><td>RO</td><td>2021</td><td>I219</td><td>Infarto agudo do miocárdio</td><td>168</td><td>2</td></tr>",
                            "<tr><td>RO</td><td>2021</td><td>R99 </td><td>Outras causas mal definidas e as não especificadas de mortalidade</td><td>122</td><td>3</td></tr>",
                            "<tr><td>RO</td><td>2021</td><td>X954</td><td>Agressão por meio de disparo de outra arma de fogo ou de arma não especificada</td><td>78</td><td>4</td></tr>",
                            "<tr><td>RO</td><td>2021</td><td>I10 </td><td>Hipertensão essencial (primária)</td><td>68</td><td>5</td></tr>",
                            "<tr><td>RR</td><td>2019</td><td>I219</td><td>Infarto agudo do miocárdio</td><td>94</td><td>1</td></tr>",
                            "<tr><td>RR</td><td>2019</td><td>I638</td><td>Infarto cerebral</td><td>56</td><td>2</td></tr>",
                            "<tr><td>RR</td><td>2019</td><td>I619</td><td>Hemorragia intracerebral</td><td>36</td><td>3</td></tr>",
                            "<tr><td>RR</td><td>2019</td><td>X959</td><td>Agressão por meio de disparo de outra arma de fogo ou de arma não especificada</td><td>33</td><td>4</td></tr>",
                            "<tr><td>RR</td><td>2019</td><td>J440</td><td>Outras doenças pulmonares obstrutivas crônicas</td><td>32</td><td>5</td></tr>",
                            "<tr><td>RR</td><td>2020</td><td>B342</td><td>Doenças por vírus, de localização não especificada</td><td>490</td><td>1</td></tr>",
                            "<tr><td>RR</td><td>2020</td><td>I219</td><td>Infarto agudo do miocárdio</td><td>78</td><td>2</td></tr>",
                            "<tr><td>RR</td><td>2020</td><td>X959</td><td>Agressão por meio de disparo de outra arma de fogo ou de arma não especificada</td><td>31</td><td>3</td></tr>",
                            "<tr><td>RR</td><td>2020</td><td>Y349</td><td>Fatos ou eventos não especificados e intenção não determinada</td><td>29</td><td>4</td></tr>",
                            "<tr><td>RR</td><td>2020</td><td>I638</td><td>Infarto cerebral</td><td>28</td><td>5</td></tr>",
                            "<tr><td>RR</td><td>2021</td><td>B342</td><td>Doenças por vírus, de localização não especificada</td><td>819</td><td>1</td></tr>",
                            "<tr><td>RR</td><td>2021</td><td>I219</td><td>Infarto agudo do miocárdio</td><td>110</td><td>2</td></tr>",
                            "<tr><td>RR</td><td>2021</td><td>X959</td><td>Agressão por meio de disparo de outra arma de fogo ou de arma não especificada</td><td>37</td><td>3</td></tr>",
                            "<tr><td>RR</td><td>2021</td><td>I638</td><td>Infarto cerebral</td><td>35</td><td>4</td></tr>",
                            "<tr><td>RR</td><td>2021</td><td>J189</td><td>Pneumonia por microorganismo não especificada</td><td>32</td><td>5</td></tr>",
                            "<tr><td>RS</td><td>2019</td><td>I219</td><td>Infarto agudo do miocárdio</td><td>1689</td><td>1</td></tr>",
                            "<tr><td>RS</td><td>2019</td><td>C349</td><td>Neoplasia maligna dos brônquios e dos pulmões</td><td>1122</td><td>2</td></tr>",
                            "<tr><td>RS</td><td>2019</td><td>R99 </td><td>Outras causas mal definidas e as não especificadas de mortalidade</td><td>1001</td><td>3</td></tr>",
                            "<tr><td>RS</td><td>2019</td><td>E149</td><td>Diabetes mellitus não especificado</td><td>609</td><td>4</td></tr>",
                            "<tr><td>RS</td><td>2019</td><td>J449</td><td>Outras doenças pulmonares obstrutivas crônicas</td><td>560</td><td>5</td></tr>",
                            "<tr><td>RS</td><td>2020</td><td>B342</td><td>Doenças por vírus, de localização não especificada</td><td>2410</td><td>1</td></tr>",
                            "<tr><td>RS</td><td>2020</td><td>I219</td><td>Infarto agudo do miocárdio</td><td>1603</td><td>2</td></tr>",
                            "<tr><td>RS</td><td>2020</td><td>C349</td><td>Neoplasia maligna dos brônquios e dos pulmões</td><td>1012</td><td>3</td></tr>",
                            "<tr><td>RS</td><td>2020</td><td>R99 </td><td>Outras causas mal definidas e as não especificadas de mortalidade</td><td>975</td><td>4</td></tr>",
                            "<tr><td>RS</td><td>2020</td><td>I639</td><td>Infarto cerebral</td><td>534</td><td>5</td></tr>",
                            "<tr><td>RS</td><td>2021</td><td>B342</td><td>Doenças por vírus, de localização não especificada</td><td>9301</td><td>1</td></tr>",
                            "<tr><td>RS</td><td>2021</td><td>I219</td><td>Infarto agudo do miocárdio</td><td>1661</td><td>2</td></tr>",
                            "<tr><td>RS</td><td>2021</td><td>C349</td><td>Neoplasia maligna dos brônquios e dos pulmões</td><td>1073</td><td>3</td></tr>",
                            "<tr><td>RS</td><td>2021</td><td>R99 </td><td>Outras causas mal definidas e as não especificadas de mortalidade</td><td>1046</td><td>4</td></tr>",
                            "<tr><td>RS</td><td>2021</td><td>I639</td><td>Infarto cerebral</td><td>617</td><td>5</td></tr>",
                            "<tr><td>SC</td><td>2019</td><td>I219</td><td>Infarto agudo do miocárdio</td><td>1293</td><td>1</td></tr>",
                            "<tr><td>SC</td><td>2019</td><td>C349</td><td>Neoplasia maligna dos brônquios e dos pulmões</td><td>721</td><td>2</td></tr>",
                            "<tr><td>SC</td><td>2019</td><td>I64 </td><td>Acidente vascular cerebral, não especificado como hemorrágico ou isquêmico</td><td>477</td><td>3</td></tr>",
                            "<tr><td>SC</td><td>2019</td><td>J189</td><td>Pneumonia por microorganismo não especificada</td><td>397</td><td>4</td></tr>",
                            "<tr><td>SC</td><td>2019</td><td>X700</td><td>Lesão autoprovocada intencionalmente por enforcamento, estrangulamento e sufocação</td><td>352</td><td>5</td></tr>",
                            "<tr><td>SC</td><td>2020</td><td>B342</td><td>Doenças por vírus, de localização não especificada</td><td>2403</td><td>1</td></tr>",
                            "<tr><td>SC</td><td>2020</td><td>I219</td><td>Infarto agudo do miocárdio</td><td>1257</td><td>2</td></tr>",
                            "<tr><td>SC</td><td>2020</td><td>C349</td><td>Neoplasia maligna dos brônquios e dos pulmões</td><td>687</td><td>3</td></tr>",
                            "<tr><td>SC</td><td>2020</td><td>I64 </td><td>Acidente vascular cerebral, não especificado como hemorrágico ou isquêmico</td><td>428</td><td>4</td></tr>",
                            "<tr><td>SC</td><td>2020</td><td>I10 </td><td>Hipertensão essencial (primária)</td><td>377</td><td>5</td></tr>",
                            "<tr><td>SC</td><td>2021</td><td>B342</td><td>Doenças por vírus, de localização não especificada</td><td>7052</td><td>1</td></tr>",
                            "<tr><td>SC</td><td>2021</td><td>I219</td><td>Infarto agudo do miocárdio</td><td>1285</td><td>2</td></tr>",
                            "<tr><td>SC</td><td>2021</td><td>C349</td><td>Neoplasia maligna dos brônquios e dos pulmões</td><td>700</td><td>3</td></tr>",
                            "<tr><td>SC</td><td>2021</td><td>I64 </td><td>Acidente vascular cerebral, não especificado como hemorrágico ou isquêmico</td><td>478</td><td>4</td></tr>",
                            "<tr><td>SC</td><td>2021</td><td>I10 </td><td>Hipertensão essencial (primária)</td><td>465</td><td>5</td></tr>",
                            "<tr><td>SE</td><td>2019</td><td>X954</td><td>Agressão por meio de disparo de outra arma de fogo ou de arma não especificada</td><td>440</td><td>1</td></tr>",
                            "<tr><td>SE</td><td>2019</td><td>I219</td><td>Infarto agudo do miocárdio</td><td>362</td><td>2</td></tr>",
                            "<tr><td>SE</td><td>2019</td><td>R99 </td><td>Outras causas mal definidas e as não especificadas de mortalidade</td><td>270</td><td>3</td></tr>",
                            "<tr><td>SE</td><td>2019</td><td>J189</td><td>Pneumonia por microorganismo não especificada</td><td>221</td><td>4</td></tr>",
                            "<tr><td>SE</td><td>2019</td><td>I10 </td><td>Hipertensão essencial (primária)</td><td>181</td><td>5</td></tr>",
                            "<tr><td>SE</td><td>2020</td><td>B342</td><td>Doenças por vírus, de localização não especificada</td><td>1183</td><td>1</td></tr>",
                            "<tr><td>SE</td><td>2020</td><td>X954</td><td>Agressão por meio de disparo de outra arma de fogo ou de arma não especificada</td><td>487</td><td>2</td></tr>",
                            "<tr><td>SE</td><td>2020</td><td>I219</td><td>Infarto agudo do miocárdio</td><td>377</td><td>3</td></tr>",
                            "<tr><td>SE</td><td>2020</td><td>R99 </td><td>Outras causas mal definidas e as não especificadas de mortalidade</td><td>360</td><td>4</td></tr>",
                            "<tr><td>SE</td><td>2020</td><td>I10 </td><td>Hipertensão essencial (primária)</td><td>223</td><td>5</td></tr>",
                            "<tr><td>SE</td><td>2021</td><td>B342</td><td>Doenças por vírus, de localização não especificada</td><td>1977</td><td>1</td></tr>",
                            "<tr><td>SE</td><td>2021</td><td>I219</td><td>Infarto agudo do miocárdio</td><td>418</td><td>2</td></tr>",
                            "<tr><td>SE</td><td>2021</td><td>X954</td><td>Agressão por meio de disparo de outra arma de fogo ou de arma não especificada</td><td>411</td><td>3</td></tr>",
                            "<tr><td>SE</td><td>2021</td><td>R99 </td><td>Outras causas mal definidas e as não especificadas de mortalidade</td><td>364</td><td>4</td></tr>",
                            "<tr><td>SE</td><td>2021</td><td>I10 </td><td>Hipertensão essencial (primária)</td><td>285</td><td>5</td></tr>",
                            "<tr><td>SP</td><td>2019</td><td>I219</td><td>Infarto agudo do miocárdio</td><td>9098</td><td>1</td></tr>",
                            "<tr><td>SP</td><td>2019</td><td>J189</td><td>Pneumonia por microorganismo não especificada</td><td>2977</td><td>2</td></tr>",
                            "<tr><td>SP</td><td>2019</td><td>R99 </td><td>Outras causas mal definidas e as não especificadas de mortalidade</td><td>2685</td><td>3</td></tr>",
                            "<tr><td>SP</td><td>2019</td><td>C349</td><td>Neoplasia maligna dos brônquios e dos pulmões</td><td>2646</td><td>4</td></tr>",
                            "<tr><td>SP</td><td>2019</td><td>J180</td><td>Pneumonia por microorganismo não especificada</td><td>2144</td><td>5</td></tr>",
                            "<tr><td>SP</td><td>2020</td><td>B342</td><td>Doenças por vírus, de localização não especificada</td><td>16676</td><td>1</td></tr>",
                            "<tr><td>SP</td><td>2020</td><td>I219</td><td>Infarto agudo do miocárdio</td><td>8074</td><td>2</td></tr>",
                            "<tr><td>SP</td><td>2020</td><td>R99 </td><td>Outras causas mal definidas e as não especificadas de mortalidade</td><td>3778</td><td>3</td></tr>",
                            "<tr><td>SP</td><td>2020</td><td>J988</td><td>Outros transtornos respiratórios</td><td>3018</td><td>4</td></tr>",
                            "<tr><td>SP</td><td>2020</td><td>C349</td><td>Neoplasia maligna dos brônquios e dos pulmões</td><td>2443</td><td>5</td></tr>",
                            "<tr><td>SP</td><td>2021</td><td>B342</td><td>Doenças por vírus, de localização não especificada</td><td>42885</td><td>1</td></tr>",
                            "<tr><td>SP</td><td>2021</td><td>I219</td><td>Infarto agudo do miocárdio</td><td>8942</td><td>2</td></tr>",
                            "<tr><td>SP</td><td>2021</td><td>R99 </td><td>Outras causas mal definidas e as não especificadas de mortalidade</td><td>3985</td><td>3</td></tr>",
                            "<tr><td>SP</td><td>2021</td><td>C349</td><td>Neoplasia maligna dos brônquios e dos pulmões</td><td>2421</td><td>4</td></tr>",
                            "<tr><td>SP</td><td>2021</td><td>J189</td><td>Pneumonia por microorganismo não especificada</td><td>2119</td><td>5</td></tr>",
                            "<tr><td>TO</td><td>2019</td><td>I219</td><td>Infarto agudo do miocárdio</td><td>264</td><td>1</td></tr>",
                            "<tr><td>TO</td><td>2019</td><td>E149</td><td>Diabetes mellitus não especificado</td><td>82</td><td>2</td></tr>",
                            "<tr><td>TO</td><td>2019</td><td>I64 </td><td>Acidente vascular cerebral, não especificado como hemorrágico ou isquêmico</td><td>81</td><td>3</td></tr>",
                            "<tr><td>TO</td><td>2019</td><td>I639</td><td>Infarto cerebral</td><td>78</td><td>4</td></tr>",
                            "<tr><td>TO</td><td>2019</td><td>C349</td><td>Neoplasia maligna dos brônquios e dos pulmões</td><td>78</td><td>4</td></tr>",
                            "<tr><td>TO</td><td>2020</td><td>B342</td><td>Doenças por vírus, de localização não especificada</td><td>646</td><td>1</td></tr>",
                            "<tr><td>TO</td><td>2020</td><td>I219</td><td>Infarto agudo do miocárdio</td><td>318</td><td>2</td></tr>",
                            "<tr><td>TO</td><td>2020</td><td>I64 </td><td>Acidente vascular cerebral, não especificado como hemorrágico ou isquêmico</td><td>106</td><td>3</td></tr>",
                            "<tr><td>TO</td><td>2020</td><td>I10 </td><td>Hipertensão essencial (primária)</td><td>100</td><td>4</td></tr>",
                            "<tr><td>TO</td><td>2020</td><td>E149</td><td>Diabetes mellitus não especificado</td><td>78</td><td>5</td></tr>",
                            "<tr><td>TO</td><td>2021</td><td>B342</td><td>Doenças por vírus, de localização não especificada</td><td>1514</td><td>1</td></tr>",
                            "<tr><td>TO</td><td>2021</td><td>I219</td><td>Infarto agudo do miocárdio</td><td>308</td><td>2</td></tr>",
                            "<tr><td>TO</td><td>2021</td><td>I64 </td><td>Acidente vascular cerebral, não especificado como hemorrágico ou isquêmico</td><td>115</td><td>3</td></tr>",
                            "<tr><td>TO</td><td>2021</td><td>I10 </td><td>Hipertensão essencial (primária)</td><td>101</td><td>4</td></tr>",
                            "<tr><td>TO</td><td>2021</td><td>J189</td><td>Pneumonia por microorganismo não especificada</td><td>93</td><td>5</td></tr>",
                            "</table>"
                        ]
                    }
                }
            ],
            "execution_count": 9
        },
        {
            "cell_type": "code",
            "source": [
                "SELECT AVG(idade) from datasus"
            ],
            "metadata": {
                "azdata_cell_guid": "1235d063-fe7d-448b-a372-32c779d1e526",
                "language": "sql"
            },
            "outputs": [
                {
                    "output_type": "display_data",
                    "data": {
                        "text/html": "(1 row(s) affected)"
                    },
                    "metadata": {}
                },
                {
                    "output_type": "display_data",
                    "data": {
                        "text/html": "Total execution time: 00:00:12.073"
                    },
                    "metadata": {}
                },
                {
                    "output_type": "execute_result",
                    "metadata": {},
                    "execution_count": 11,
                    "data": {
                        "application/vnd.dataresource+json": {
                            "schema": {
                                "fields": [
                                    {
                                        "name": "avg"
                                    }
                                ]
                            },
                            "data": [
                                {
                                    "avg": "63.6491024294185132"
                                }
                            ]
                        },
                        "text/html": [
                            "<table>",
                            "<tr><th>avg</th></tr>",
                            "<tr><td>63.6491024294185132</td></tr>",
                            "</table>"
                        ]
                    }
                }
            ],
            "execution_count": 11
        }
    ]
}