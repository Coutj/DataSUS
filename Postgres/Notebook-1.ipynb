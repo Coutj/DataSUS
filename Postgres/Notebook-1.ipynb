{
    "metadata": {
        "kernelspec": {
            "name": "SQL",
            "display_name": "SQL",
            "language": "sql"
        },
        "language_info": {
            "name": "sql",
            "version": ""
        }
    },
    "nbformat_minor": 2,
    "nbformat": 4,
    "cells": [
        {
            "cell_type": "code",
            "source": [
                "CREATE TABLE [IF NOT EXISTS] datasus (\n",
                "    UFARQUIVO CHAR(2) NOT NULL, \n",
                "    ANOARQUIVO INT(4) NOT NULL,\n",
                "    TIPOBITO VARCHAR(9) NOT NULL,\n",
                "    DTHORAOBITO TIMESTAMP,\n",
                "    NATURAL INT(3),\n",
                "    UFNATU CHAR(2),\n",
                "    CODMUNNATU INT(6),\n",
                "    NOMEMUNNATU VARCHAR(255),\n",
                "    DTNASC DATE,\n",
                "    IDADE NUMERIC(3, 1),\n",
                "    SEXO VARCHAR(8) NOT NULL,\n",
                "    RACACOR VARCHAR(25),\n",
                "    ESTCIV VARCHAR(25),\n",
                "    ESC2010 VARCHAR(25),\n",
                "    OCUP INT(6),\n",
                "    OCUPTITULO VARCHAR(255),\n",
                "    UFRES CHAR(2),\n",
                "    CODMUNRES CHAR(6),\n",
                "    NOMEMUNRES VARCHAR(255),\n",
                "    LOCOCOR VARCHAR(50),\n",
                "    UFMUNOCOR CHAR(2),\n",
                "    CODMUNOCOR CHAR(6),\n",
                "    NOMEMUNOCOR VARCHAR(255),\n",
                "    ASSISTMED VARCHAR(8),\n",
                "    NECROPSIA VARCHAR(8),\n",
                "    CAUSABAS VARCHAR(4),\n",
                "    CAUSABASDESCCAT VARCHAR(510),\n",
                "    CAUSABASDESCSUBCAT VARCHAR(510)\n",
                "    CIRCOBITO VARCHAR (10),\n",
                "    ACIDTRAB VARCHAR(8),\n",
                "    TPPOS VARCHAR(8),\n",
                "    CONTADOR INTEGER,\n",
                "    ID NUMERIC(256) NOT NULL\n",
                ");"
            ],
            "metadata": {
                "azdata_cell_guid": "1c9730e1-f263-4897-b8c4-daba01dfe311",
                "language": "sql"
            },
            "outputs": [
                {
                    "output_type": "error",
                    "evalue": "syntax error at or near \"[\"",
                    "ename": "",
                    "traceback": []
                },
                {
                    "output_type": "display_data",
                    "data": {
                        "text/html": "Total execution time: 00:00:00.115"
                    },
                    "metadata": {}
                }
            ],
            "execution_count": 1
        }
    ]
}